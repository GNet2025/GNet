{
 "cells": [
  {
   "cell_type": "code",
   "execution_count": 1,
   "id": "0433d323-d3cd-4d1b-83f4-3f8a23e4ef4e",
   "metadata": {},
   "outputs": [
    {
     "name": "stdout",
     "output_type": "stream",
     "text": [
      "Using device:\tcuda:0\n"
     ]
    }
   ],
   "source": [
    "import os\n",
    "os.environ[\"CUDA_LAUNCH_BLOCKING\"] = \"1\"\n",
    "import torch\n",
    "from torchvision import datasets, transforms\n",
    "from torch.utils.data import DataLoader, Subset\n",
    "from laplace_hdc_helper import load_dataset\n",
    "from laplace_hdc_classifier_1d import train_hdc_classifier, test_hdc_classifier\n",
    "from laplace_hdc_encoder_1d import hdc_encoder\n",
    "import matplotlib.pyplot as plt\n",
    "import numpy as np\n",
    "import time\n",
    "from tqdm import tqdm\n",
    "from scipy.io import savemat, loadmat\n",
    "from torch.utils.data import TensorDataset, DataLoader\n",
    "\n",
    "\n",
    "device = torch.device(\"cuda:0\" if torch.cuda.is_available() else \"cpu\")\n",
    "print(f\"Using device:\\t{device}\")"
   ]
  },
  {
   "cell_type": "markdown",
   "id": "e38fe4c3-5b96-49c0-b9e5-68fe57f96d5d",
   "metadata": {},
   "source": [
    "### Hyperparameters"
   ]
  },
  {
   "cell_type": "code",
   "execution_count": 2,
   "id": "191b370d-cd87-42c6-a767-6af09d84e45f",
   "metadata": {},
   "outputs": [],
   "source": [
    "hyperdim = 5000 \n",
    "bandwidth_parameter = 3 # bandwidth parameter\n",
    "encoder_mode = 'shift_1d'\n",
    "classifier_mode=\"float_sgd\"\n",
    "epochs=10"
   ]
  },
  {
   "cell_type": "markdown",
   "id": "6c5c9499-4412-41e1-adf2-b16225485fdb",
   "metadata": {},
   "source": [
    "## Load Data"
   ]
  },
  {
   "cell_type": "code",
   "execution_count": 3,
   "id": "eba68280-5ac2-409f-9b8a-2d8ab0836532",
   "metadata": {},
   "outputs": [
    {
     "name": "stdout",
     "output_type": "stream",
     "text": [
      "Train shape: (3601, 500), Test shape: (1320, 500)\n"
     ]
    }
   ],
   "source": [
    "def load_ucr(file):\n",
    "    data = np.loadtxt(file)\n",
    "    X = data[:, 1:]\n",
    "    y = data[:, 0]\n",
    "    y = np.where(y == 1, 1, 0)  # convert labels to 0/1\n",
    "    return X, y\n",
    "\n",
    "# Adjust file paths to your local files\n",
    "X_train, y_train = load_ucr(\"../FordA_TRAIN.txt\")\n",
    "X_test, y_test = load_ucr(\"../FordA_TEST.txt\")\n",
    "\n",
    "print(f\"Train shape: {X_train.shape}, Test shape: {X_test.shape}\")\n",
    "\n",
    "# ——— Normalization step (min-max per feature) ———\n",
    "X_min = X_train.min(axis=0)\n",
    "X_max = X_train.max(axis=0)\n",
    "\n",
    "denom = (X_max - X_min)\n",
    "denom[denom == 0] = 1   # avoid division by zero\n",
    "\n",
    "X_train_norm = (X_train - X_min) / denom\n",
    "X_test_norm  = (X_test  - X_min) / denom\n",
    "\n",
    "# Optional: clip to [0,1] just in case\n",
    "X_train_norm = np.clip(X_train_norm, 0, 1)\n",
    "X_test_norm  = np.clip(X_test_norm, 0, 1)\n",
    "\n",
    "# ——— Prepare tensors & dataloaders ———\n",
    "device = torch.device(\"cuda\" if torch.cuda.is_available() else \"cpu\")\n",
    "\n",
    "x_train_tensor = torch.tensor(X_train_norm)\n",
    "x_test_tensor  = torch.tensor(X_test_norm)\n",
    "\n",
    "train_data = TensorDataset(x_train_tensor, torch.tensor(y_train))\n",
    "test_data  = TensorDataset(x_test_tensor, torch.tensor(y_test))\n",
    "\n",
    "train_loader = DataLoader(train_data, batch_size=32, shuffle=True)\n",
    "test_loader  = DataLoader(test_data, batch_size=32)"
   ]
  },
  {
   "cell_type": "markdown",
   "id": "d262c61e-2dad-49d5-a8ca-21e82ccf2a1e",
   "metadata": {},
   "source": [
    "## Kernel Matrix Construction"
   ]
  },
  {
   "cell_type": "code",
   "execution_count": 4,
   "id": "267bdf28-ec1f-4ca7-b64b-fea4e0f78e4e",
   "metadata": {},
   "outputs": [
    {
     "name": "stdout",
     "output_type": "stream",
     "text": [
      "lambda = 0.03657161175246486\n",
      "500\n"
     ]
    },
    {
     "data": {
      "image/png": "[encoded data removed]",
      "text/plain": [
       "<Figure size 640x480 with 1 Axes>"
      ]
     },
     "metadata": {},
     "output_type": "display_data"
    }
   ],
   "source": [
    "# Determining Lambda from random 1000 samples\n",
    "batch_size = 1024\n",
    "num_colors = 256\n",
    "\n",
    "X,  _ = next(iter(DataLoader(train_data, batch_size=1000, shuffle=True)))\n",
    "X = X.reshape(X.shape[0],-1)\n",
    "\n",
    "D = torch.sum(torch.abs(X.unsqueeze(0)-X.unsqueeze(1)),dim=2)\n",
    "a = torch.median(D.flatten())\n",
    "lmd = bandwidth_parameter/a\n",
    "print(f\"lambda = {lmd}\")\n",
    "\n",
    "# Define the local kernel\n",
    "x = np.linspace(0, 1, num=num_colors).reshape(-1, 1)\n",
    "f = lambda X: 1 - lmd*X\n",
    "kernel = f(np.abs(x - x.T))\n",
    "\n",
    "# Visualize the global kernel\n",
    "d = train_data[0][0].squeeze().numel()\n",
    "print(d)\n",
    "S = lambda v: np.exp(-lmd*v)\n",
    "v = np.linspace(0, d)\n",
    "plt.plot(v, S(v))\n",
    "plt.title(f\"Kernel K for d={d} and num_colors = {num_colors}\")\n",
    "plt.show()"
   ]
  },
  {
   "cell_type": "markdown",
   "id": "f54a34bc-9319-45f7-91ed-ffcce732bd59",
   "metadata": {},
   "source": [
    "## Classification"
   ]
  },
  {
   "cell_type": "code",
   "execution_count": 5,
   "id": "1c3120a3-6350-4710-abd3-e6aa6569e4eb",
   "metadata": {},
   "outputs": [
    {
     "data": {
      "text/plain": [
       "array([ 5000,  6000,  7000,  8000,  9000, 10000, 11000, 12000, 13000,\n",
       "       14000, 15000, 16000, 17000, 18000, 19000, 20000])"
      ]
     },
     "execution_count": 5,
     "metadata": {},
     "output_type": "execute_result"
    }
   ],
   "source": [
    "dataset_name = 'FordA'\n",
    "try:\n",
    "    NHDC = loadmat(f'../{dataset_name}_nHD.mat')[f'{dataset_name}_nHD']\n",
    "    hyperdims = np.mean(NHDC, axis=1, dtype=int)\n",
    "\n",
    "except:\n",
    "    hyperdims = range(1000, 5500, 500)\n",
    "\n",
    "hyperdims"
   ]
  },
  {
   "cell_type": "code",
   "execution_count": 6,
   "id": "bc22c40f-2814-44a5-beb8-6147b0a3d10c",
   "metadata": {},
   "outputs": [
    {
     "name": "stdout",
     "output_type": "stream",
     "text": [
      "Hyperdimension: 5000 Started --------------\n",
      "Encoding Train Data and Training the Model for nHDC=5000 finished\n"
     ]
    },
    {
     "name": "stderr",
     "output_type": "stream",
     "text": [
      "100%|██████████| 10/10 [00:01<00:00,  6.11it/s]\n"
     ]
    },
    {
     "name": "stdout",
     "output_type": "stream",
     "text": [
      "Hyperdimension: 5000 Finished. Average Accuracy over 20 splits: 0.6113636363636362\n",
      "Hyperdimension: 6000 Started --------------\n",
      "Encoding Train Data and Training the Model for nHDC=6000 finished\n"
     ]
    },
    {
     "name": "stderr",
     "output_type": "stream",
     "text": [
      "100%|██████████| 10/10 [00:01<00:00,  6.41it/s]\n"
     ]
    },
    {
     "name": "stdout",
     "output_type": "stream",
     "text": [
      "Hyperdimension: 6000 Finished. Average Accuracy over 20 splits: 0.625\n",
      "Hyperdimension: 7000 Started --------------\n",
      "Encoding Train Data and Training the Model for nHDC=7000 finished\n"
     ]
    },
    {
     "name": "stderr",
     "output_type": "stream",
     "text": [
      "100%|██████████| 10/10 [00:01<00:00,  6.45it/s]\n"
     ]
    },
    {
     "name": "stdout",
     "output_type": "stream",
     "text": [
      "Hyperdimension: 7000 Finished. Average Accuracy over 20 splits: 0.6113636363636364\n",
      "Hyperdimension: 8000 Started --------------\n",
      "Encoding Train Data and Training the Model for nHDC=8000 finished\n"
     ]
    },
    {
     "name": "stderr",
     "output_type": "stream",
     "text": [
      "100%|██████████| 10/10 [00:01<00:00,  5.35it/s]\n"
     ]
    },
    {
     "name": "stdout",
     "output_type": "stream",
     "text": [
      "Hyperdimension: 8000 Finished. Average Accuracy over 20 splits: 0.6189393939393939\n",
      "Hyperdimension: 9000 Started --------------\n",
      "Encoding Train Data and Training the Model for nHDC=9000 finished\n"
     ]
    },
    {
     "name": "stderr",
     "output_type": "stream",
     "text": [
      "100%|██████████| 10/10 [00:01<00:00,  5.04it/s]\n"
     ]
    },
    {
     "name": "stdout",
     "output_type": "stream",
     "text": [
      "Hyperdimension: 9000 Finished. Average Accuracy over 20 splits: 0.6772727272727272\n",
      "Hyperdimension: 10000 Started --------------\n",
      "Encoding Train Data and Training the Model for nHDC=10000 finished\n"
     ]
    },
    {
     "name": "stderr",
     "output_type": "stream",
     "text": [
      "100%|██████████| 10/10 [00:02<00:00,  4.63it/s]\n"
     ]
    },
    {
     "name": "stdout",
     "output_type": "stream",
     "text": [
      "Hyperdimension: 10000 Finished. Average Accuracy over 20 splits: 0.6295454545454546\n",
      "Hyperdimension: 11000 Started --------------\n",
      "Encoding Train Data and Training the Model for nHDC=11000 finished\n"
     ]
    },
    {
     "name": "stderr",
     "output_type": "stream",
     "text": [
      "100%|██████████| 10/10 [00:02<00:00,  4.88it/s]\n"
     ]
    },
    {
     "name": "stdout",
     "output_type": "stream",
     "text": [
      "Hyperdimension: 11000 Finished. Average Accuracy over 20 splits: 0.6272727272727272\n",
      "Hyperdimension: 12000 Started --------------\n",
      "Encoding Train Data and Training the Model for nHDC=12000 finished\n"
     ]
    },
    {
     "name": "stderr",
     "output_type": "stream",
     "text": [
      "100%|██████████| 10/10 [00:02<00:00,  4.82it/s]\n"
     ]
    },
    {
     "name": "stdout",
     "output_type": "stream",
     "text": [
      "Hyperdimension: 12000 Finished. Average Accuracy over 20 splits: 0.6303030303030303\n",
      "Hyperdimension: 13000 Started --------------\n",
      "Encoding Train Data and Training the Model for nHDC=13000 finished\n"
     ]
    },
    {
     "name": "stderr",
     "output_type": "stream",
     "text": [
      "100%|██████████| 10/10 [00:01<00:00,  5.01it/s]\n"
     ]
    },
    {
     "name": "stdout",
     "output_type": "stream",
     "text": [
      "Hyperdimension: 13000 Finished. Average Accuracy over 20 splits: 0.6522727272727271\n",
      "Hyperdimension: 14000 Started --------------\n",
      "Encoding Train Data and Training the Model for nHDC=14000 finished\n"
     ]
    },
    {
     "name": "stderr",
     "output_type": "stream",
     "text": [
      "100%|██████████| 10/10 [00:01<00:00,  5.02it/s]\n"
     ]
    },
    {
     "name": "stdout",
     "output_type": "stream",
     "text": [
      "Hyperdimension: 14000 Finished. Average Accuracy over 20 splits: 0.6734848484848485\n",
      "Hyperdimension: 15000 Started --------------\n",
      "Encoding Train Data and Training the Model for nHDC=15000 finished\n"
     ]
    },
    {
     "name": "stderr",
     "output_type": "stream",
     "text": [
      "100%|██████████| 10/10 [00:02<00:00,  4.64it/s]\n"
     ]
    },
    {
     "name": "stdout",
     "output_type": "stream",
     "text": [
      "Hyperdimension: 15000 Finished. Average Accuracy over 20 splits: 0.6583333333333334\n",
      "Hyperdimension: 16000 Started --------------\n",
      "Encoding Train Data and Training the Model for nHDC=16000 finished\n"
     ]
    },
    {
     "name": "stderr",
     "output_type": "stream",
     "text": [
      "100%|██████████| 10/10 [00:02<00:00,  4.41it/s]\n"
     ]
    },
    {
     "name": "stdout",
     "output_type": "stream",
     "text": [
      "Hyperdimension: 16000 Finished. Average Accuracy over 20 splits: 0.6924242424242425\n",
      "Hyperdimension: 17000 Started --------------\n",
      "Encoding Train Data and Training the Model for nHDC=17000 finished\n"
     ]
    },
    {
     "name": "stderr",
     "output_type": "stream",
     "text": [
      "100%|██████████| 10/10 [00:02<00:00,  4.41it/s]\n"
     ]
    },
    {
     "name": "stdout",
     "output_type": "stream",
     "text": [
      "Hyperdimension: 17000 Finished. Average Accuracy over 20 splits: 0.6378787878787879\n",
      "Hyperdimension: 18000 Started --------------\n",
      "Encoding Train Data and Training the Model for nHDC=18000 finished\n"
     ]
    },
    {
     "name": "stderr",
     "output_type": "stream",
     "text": [
      "100%|██████████| 10/10 [00:02<00:00,  4.40it/s]\n"
     ]
    },
    {
     "name": "stdout",
     "output_type": "stream",
     "text": [
      "Hyperdimension: 18000 Finished. Average Accuracy over 20 splits: 0.6674242424242425\n",
      "Hyperdimension: 19000 Started --------------\n",
      "Encoding Train Data and Training the Model for nHDC=19000 finished\n"
     ]
    },
    {
     "name": "stderr",
     "output_type": "stream",
     "text": [
      "100%|██████████| 10/10 [00:02<00:00,  4.51it/s]\n"
     ]
    },
    {
     "name": "stdout",
     "output_type": "stream",
     "text": [
      "Hyperdimension: 19000 Finished. Average Accuracy over 20 splits: 0.6901515151515152\n",
      "Hyperdimension: 20000 Started --------------\n",
      "Encoding Train Data and Training the Model for nHDC=20000 finished\n"
     ]
    },
    {
     "name": "stderr",
     "output_type": "stream",
     "text": [
      "100%|██████████| 10/10 [00:02<00:00,  4.09it/s]"
     ]
    },
    {
     "name": "stdout",
     "output_type": "stream",
     "text": [
      "Hyperdimension: 20000 Finished. Average Accuracy over 20 splits: 0.6606060606060606\n"
     ]
    },
    {
     "name": "stderr",
     "output_type": "stream",
     "text": [
      "\n"
     ]
    }
   ],
   "source": [
    "num_workers = 0\n",
    "pin_memory=False\n",
    "n_splits = 10\n",
    "split_size = len(test_data) // n_splits\n",
    "hyperdims = hyperdims\n",
    "accuracies = np.zeros((len(hyperdims), n_splits))\n",
    "num_classes=2\n",
    "for i, nHDC in enumerate(hyperdims):\n",
    "    print(f'Hyperdimension: {nHDC} Started --------------')\n",
    "    # Train\n",
    "    encoder = hdc_encoder(d, nHDC, kernel, encoder_mode)\n",
    "    train_hdc = encoder.encode(train_loader)\n",
    "    train_loader_hdc = DataLoader(\n",
    "        train_hdc,\n",
    "        batch_size=10,\n",
    "        shuffle=True,\n",
    "        num_workers=0,      # <-- no background workers\n",
    "        pin_memory=False    # <-- nothing to pin; data is on GPU\n",
    "    )\n",
    "    model = train_hdc_classifier(train_loader_hdc, num_classes, mode=classifier_mode, epochs=10)\n",
    "    print(f'Encoding Train Data and Training the Model for nHDC={nHDC} finished')\n",
    "    for split_idx in tqdm(range(n_splits)):\n",
    "        # Test\n",
    "        start_idx = split_idx * split_size\n",
    "        end_idx = start_idx + split_size\n",
    "        split_subset = Subset(test_data, range(start_idx, end_idx))\n",
    "        split_loader = DataLoader(\n",
    "            split_subset,\n",
    "            batch_size=128,\n",
    "            shuffle=False,\n",
    "            num_workers=num_workers,   # 2, as you set above\n",
    "            pin_memory=pin_memory      # True\n",
    "        )\n",
    "        split_hdc = encoder.encode(split_loader)\n",
    "        split_loader_hdc = DataLoader(\n",
    "            split_hdc,\n",
    "            batch_size=128,\n",
    "            shuffle=True,\n",
    "            num_workers=0,\n",
    "            pin_memory=False\n",
    "        )\n",
    "        accuracies[i, split_idx] = test_hdc_classifier(model, split_loader_hdc)\n",
    "    print(f'Hyperdimension: {nHDC} Finished. Average Accuracy over 20 splits: {np.mean(accuracies[i])}')\n"
   ]
  },
  {
   "cell_type": "code",
   "execution_count": 7,
   "id": "c8536005-74ba-488a-aa83-24e662840bf7",
   "metadata": {},
   "outputs": [
    {
     "data": {
      "text/plain": [
       "array([[0.68181818, 0.62878788, 0.56060606, 0.63636364, 0.64393939,\n",
       "        0.58333333, 0.60606061, 0.56818182, 0.64393939, 0.56060606],\n",
       "       [0.62121212, 0.62878788, 0.61363636, 0.57575758, 0.66666667,\n",
       "        0.66666667, 0.59090909, 0.66666667, 0.63636364, 0.58333333],\n",
       "       [0.63636364, 0.63636364, 0.61363636, 0.65151515, 0.62878788,\n",
       "        0.59090909, 0.59848485, 0.59090909, 0.62878788, 0.53787879],\n",
       "       [0.58333333, 0.60606061, 0.61363636, 0.62121212, 0.56818182,\n",
       "        0.60606061, 0.65151515, 0.6969697 , 0.56818182, 0.67424242],\n",
       "       [0.66666667, 0.65151515, 0.75      , 0.70454545, 0.66666667,\n",
       "        0.61363636, 0.67424242, 0.65909091, 0.6969697 , 0.68939394],\n",
       "       [0.61363636, 0.62121212, 0.67424242, 0.59090909, 0.62121212,\n",
       "        0.61363636, 0.59090909, 0.65151515, 0.62121212, 0.6969697 ],\n",
       "       [0.56060606, 0.65909091, 0.62878788, 0.62121212, 0.66666667,\n",
       "        0.57575758, 0.57575758, 0.67424242, 0.67424242, 0.63636364],\n",
       "       [0.56818182, 0.6969697 , 0.65151515, 0.65151515, 0.67424242,\n",
       "        0.61363636, 0.58333333, 0.59848485, 0.62121212, 0.64393939],\n",
       "       [0.67424242, 0.63636364, 0.64393939, 0.62878788, 0.68181818,\n",
       "        0.63636364, 0.68181818, 0.61363636, 0.70454545, 0.62121212],\n",
       "       [0.71212121, 0.63636364, 0.66666667, 0.68939394, 0.71212121,\n",
       "        0.67424242, 0.63636364, 0.65909091, 0.67424242, 0.67424242],\n",
       "       [0.63636364, 0.66666667, 0.64393939, 0.68181818, 0.70454545,\n",
       "        0.64393939, 0.64393939, 0.65909091, 0.63636364, 0.66666667],\n",
       "       [0.66666667, 0.67424242, 0.73484848, 0.66666667, 0.6969697 ,\n",
       "        0.71212121, 0.68939394, 0.67424242, 0.75      , 0.65909091],\n",
       "       [0.61363636, 0.65151515, 0.68939394, 0.60606061, 0.64393939,\n",
       "        0.62121212, 0.60606061, 0.64393939, 0.59848485, 0.70454545],\n",
       "       [0.65151515, 0.68181818, 0.66666667, 0.6969697 , 0.66666667,\n",
       "        0.65151515, 0.67424242, 0.66666667, 0.68939394, 0.62878788],\n",
       "       [0.65151515, 0.68939394, 0.67424242, 0.66666667, 0.71969697,\n",
       "        0.67424242, 0.68181818, 0.68939394, 0.75757576, 0.6969697 ],\n",
       "       [0.63636364, 0.66666667, 0.63636364, 0.65151515, 0.65151515,\n",
       "        0.70454545, 0.65909091, 0.64393939, 0.66666667, 0.68939394]])"
      ]
     },
     "execution_count": 7,
     "metadata": {},
     "output_type": "execute_result"
    }
   ],
   "source": [
    "accuracies"
   ]
  },
  {
   "cell_type": "code",
   "execution_count": 8,
   "id": "03c442b6-a5f6-48bb-889b-862308a377f7",
   "metadata": {},
   "outputs": [],
   "source": [
    "savemat('FordA_LaplaceHDC.mat', {'FordA_LaplaceHDC': accuracies*100})"
   ]
  },
  {
   "cell_type": "code",
   "execution_count": null,
   "id": "0e03dee8-47cd-4d94-b0ff-b2233aa7e775",
   "metadata": {},
   "outputs": [],
   "source": []
  },
  {
   "cell_type": "code",
   "execution_count": null,
   "id": "b4c31f1d-3790-44eb-8dae-b8be2b1b763c",
   "metadata": {},
   "outputs": [],
   "source": []
  }
 ],
 "metadata": {
  "kernelspec": {
   "display_name": "Python 3 (ipykernel)",
   "language": "python",
   "name": "python3"
  },
  "language_info": {
   "codemirror_mode": {
    "name": "ipython",
    "version": 3
   },
   "file_extension": ".py",
   "mimetype": "text/x-python",
   "name": "python",
   "nbconvert_exporter": "python",
   "pygments_lexer": "ipython3",
   "version": "3.9.21"
  }
 },
 "nbformat": 4,
 "nbformat_minor": 5
}
