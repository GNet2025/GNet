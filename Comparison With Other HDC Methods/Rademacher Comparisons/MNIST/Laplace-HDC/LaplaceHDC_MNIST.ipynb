{
 "cells": [
  {
   "cell_type": "code",
   "execution_count": 1,
   "id": "0433d323-d3cd-4d1b-83f4-3f8a23e4ef4e",
   "metadata": {},
   "outputs": [
    {
     "name": "stdout",
     "output_type": "stream",
     "text": [
      "Using device:\tcuda:0\n"
     ]
    }
   ],
   "source": [
    "import torch\n",
    "from torchvision import datasets, transforms\n",
    "from torch.utils.data import DataLoader, Subset\n",
    "from laplace_hdc_helper import load_dataset\n",
    "from laplace_hdc_encoder import hdc_encoder\n",
    "from laplace_hdc_classifier import train_hdc_classifier, test_hdc_classifier\n",
    "import matplotlib.pyplot as plt\n",
    "import numpy as np\n",
    "import time\n",
    "from tqdm import tqdm\n",
    "from scipy.io import savemat, loadmat\n",
    "\n",
    "device = torch.device(\"cuda:0\" if torch.cuda.is_available() else \"cpu\")\n",
    "print(f\"Using device:\\t{device}\")\n"
   ]
  },
  {
   "cell_type": "markdown",
   "id": "e38fe4c3-5b96-49c0-b9e5-68fe57f96d5d",
   "metadata": {},
   "source": [
    "### Hyperparameters"
   ]
  },
  {
   "cell_type": "code",
   "execution_count": 2,
   "id": "191b370d-cd87-42c6-a767-6af09d84e45f",
   "metadata": {},
   "outputs": [],
   "source": [
    "hyperdim = 5000 \n",
    "bandwidth_parameter = 3 # bandwidth parameter\n",
    "encoder_mode = 'shift_1d'\n",
    "classifier_mode=\"float_sgd\"\n",
    "epochs=10"
   ]
  },
  {
   "cell_type": "markdown",
   "id": "6c5c9499-4412-41e1-adf2-b16225485fdb",
   "metadata": {},
   "source": [
    "## Load Data"
   ]
  },
  {
   "cell_type": "code",
   "execution_count": 4,
   "id": "eba68280-5ac2-409f-9b8a-2d8ab0836532",
   "metadata": {},
   "outputs": [
    {
     "name": "stdout",
     "output_type": "stream",
     "text": [
      "10\n"
     ]
    }
   ],
   "source": [
    "class_names = np.array([\"0\", \"1\", \"2\", \"3\", \"4\", \"5\", \"6\", \"7\", \"8\", \"9\"])\n",
    "\n",
    "# load the MNIST training data\n",
    "train_data = datasets.MNIST(\n",
    "    '../../Data',\n",
    "    train=True,\n",
    "    download=True,\n",
    "    transform=transforms.ToTensor(),\n",
    ")\n",
    "\n",
    "# Load the MNIST testing data\n",
    "test_data = datasets.MNIST(\n",
    "    '../../Data',\n",
    "    train=False,\n",
    "    download=True,\n",
    "    transform=transforms.ToTensor(),\n",
    ")\n",
    "\n",
    "num_classes = len(class_names)\n",
    "print(num_classes)"
   ]
  },
  {
   "cell_type": "markdown",
   "id": "d262c61e-2dad-49d5-a8ca-21e82ccf2a1e",
   "metadata": {},
   "source": [
    "## Kernel Matrix Construction"
   ]
  },
  {
   "cell_type": "code",
   "execution_count": 5,
   "id": "267bdf28-ec1f-4ca7-b64b-fea4e0f78e4e",
   "metadata": {},
   "outputs": [
    {
     "name": "stdout",
     "output_type": "stream",
     "text": [
      "lambda = 0.02335093729197979\n"
     ]
    },
    {
     "data": {
      "image/png": "[encoded data removed]",
      "text/plain": [
       "<Figure size 640x480 with 1 Axes>"
      ]
     },
     "metadata": {},
     "output_type": "display_data"
    }
   ],
   "source": [
    "# Determining Lambda from random 1000 samples\n",
    "batch_size = 1024\n",
    "num_colors = 256\n",
    "\n",
    "X,  _ = next(iter(DataLoader(train_data, batch_size=1000, shuffle=True)))\n",
    "X = X.reshape(X.shape[0],-1)\n",
    "\n",
    "D = torch.sum(torch.abs(X.unsqueeze(0)-X.unsqueeze(1)),dim=2)\n",
    "a = torch.median(D.flatten())\n",
    "lmd = bandwidth_parameter/a\n",
    "print(f\"lambda = {lmd}\")\n",
    "\n",
    "# Define the local kernel\n",
    "x = np.linspace(0, 1, num=num_colors).reshape(-1, 1)\n",
    "f = lambda X: 1 - lmd*X\n",
    "kernel = f(np.abs(x - x.T))\n",
    "\n",
    "# Visualize the global kernel\n",
    "d = train_data[0][0].squeeze().numel()\n",
    "S = lambda v: np.exp(-lmd*v)\n",
    "v = np.linspace(0, d)\n",
    "plt.plot(v, S(v))\n",
    "plt.title(f\"Kernel K for d={d} and num_colors = {num_colors}\")\n",
    "plt.show()"
   ]
  },
  {
   "cell_type": "markdown",
   "id": "eb9fccde-4541-44a4-936b-6d392fea6fb7",
   "metadata": {},
   "source": [
    "## Create Encoder"
   ]
  },
  {
   "cell_type": "code",
   "execution_count": 6,
   "id": "10775dbf-bee6-4bea-8345-c590ea6d7a85",
   "metadata": {},
   "outputs": [
    {
     "name": "stdout",
     "output_type": "stream",
     "text": [
      "mode: shift_1d\n",
      "Hyperdimension: 5000\n"
     ]
    }
   ],
   "source": [
    "encoder = hdc_encoder(d, hyperdim, kernel, encoder_mode)\n",
    "print(f\"mode: {encoder_mode}\\nHyperdimension: {encoder.hyperdim}\")"
   ]
  },
  {
   "cell_type": "markdown",
   "id": "12b4e4b3-bfed-47fe-a4b5-80694c8afe71",
   "metadata": {},
   "source": [
    "## Encode Data"
   ]
  },
  {
   "cell_type": "code",
   "execution_count": 7,
   "id": "e6fa9aef-4447-4eec-a2d8-0fbe62fdb26d",
   "metadata": {},
   "outputs": [],
   "source": [
    "batch_size = 128\n",
    "train_loader = DataLoader(\n",
    "    train_data,\n",
    "    batch_size=batch_size,\n",
    "    shuffle=True\n",
    ")\n",
    "\n",
    "test_loader = DataLoader(\n",
    "    test_data,\n",
    "    batch_size=batch_size,\n",
    "    shuffle=False\n",
    ")\n",
    "\n",
    "# # Encode the data\n",
    "\n",
    "# t0 = time.time()\n",
    "# train_hdc = encoder.encode(train_loader)\n",
    "# t1 = time.time()\n",
    "\n",
    "# print(f\"train encoding time: {t1 -t0}\")\n",
    "\n",
    "# t0 = time.time()\n",
    "# test_hdc = encoder.encode(test_loader)\n",
    "# t1 = time.time()\n",
    "\n",
    "# print(f\"test encoding time: {t1 -t0}\")"
   ]
  },
  {
   "cell_type": "markdown",
   "id": "f54a34bc-9319-45f7-91ed-ffcce732bd59",
   "metadata": {},
   "source": [
    "## Classification"
   ]
  },
  {
   "cell_type": "code",
   "execution_count": 8,
   "id": "bd9a22a4-47de-4cec-ba80-84e12fad71a7",
   "metadata": {},
   "outputs": [],
   "source": [
    "# batch_size = 1024\n",
    "# train_loader_hdc = DataLoader(\n",
    "#     train_hdc,\n",
    "#     batch_size=batch_size,\n",
    "#     shuffle=True,\n",
    "# )\n",
    "\n",
    "# test_loader_hdc = DataLoader(\n",
    "#     test_hdc,\n",
    "#     batch_size=batch_size,\n",
    "#     shuffle=True,\n",
    "# )\n",
    "\n",
    "# model = train_hdc_classifier(train_loader_hdc, num_classes, mode=classifier_mode, epochs=epochs)\n",
    "# accuracy = test_hdc_classifier(model, test_loader_hdc)\n",
    "# print(f\"mode: {classifier_mode} \\ntest accuracy: {accuracy}\")"
   ]
  },
  {
   "cell_type": "code",
   "execution_count": 10,
   "id": "1c3120a3-6350-4710-abd3-e6aa6569e4eb",
   "metadata": {},
   "outputs": [
    {
     "data": {
      "text/plain": [
       "array([ 5000,  6000,  7000,  8000,  9000, 10000, 11000, 11750, 12750,\n",
       "       13750, 14750])"
      ]
     },
     "execution_count": 10,
     "metadata": {},
     "output_type": "execute_result"
    }
   ],
   "source": [
    "hyperdims = loadmat('../EHDGNet_MNIST_nHD.mat')['EHDGNet_MNIST_nHD']\n",
    "hyperdims = np.mean(hyperdims, axis=1, dtype=int)\n",
    "hyperdims"
   ]
  },
  {
   "cell_type": "code",
   "execution_count": 11,
   "id": "bc22c40f-2814-44a5-beb8-6147b0a3d10c",
   "metadata": {},
   "outputs": [
    {
     "name": "stdout",
     "output_type": "stream",
     "text": [
      "Hyperdimension: 5000 Started --------------\n"
     ]
    },
    {
     "name": "stderr",
     "output_type": "stream",
     "text": [
      "100%|██████████| 10/10 [00:06<00:00,  1.54it/s]\n"
     ]
    },
    {
     "name": "stdout",
     "output_type": "stream",
     "text": [
      "Encoding Train Data and Training the Model for nHDC=5000 finished\n"
     ]
    },
    {
     "name": "stderr",
     "output_type": "stream",
     "text": [
      "100%|██████████| 20/20 [00:08<00:00,  2.24it/s]\n"
     ]
    },
    {
     "name": "stdout",
     "output_type": "stream",
     "text": [
      "Hyperdimension: 5000 Finished. Average Accuracy over 20 splits: 0.9571\n",
      "Hyperdimension: 6000 Started --------------\n"
     ]
    },
    {
     "name": "stderr",
     "output_type": "stream",
     "text": [
      "100%|██████████| 10/10 [00:06<00:00,  1.45it/s]\n"
     ]
    },
    {
     "name": "stdout",
     "output_type": "stream",
     "text": [
      "Encoding Train Data and Training the Model for nHDC=6000 finished\n"
     ]
    },
    {
     "name": "stderr",
     "output_type": "stream",
     "text": [
      "100%|██████████| 20/20 [00:08<00:00,  2.24it/s]\n"
     ]
    },
    {
     "name": "stdout",
     "output_type": "stream",
     "text": [
      "Hyperdimension: 6000 Finished. Average Accuracy over 20 splits: 0.9602\n",
      "Hyperdimension: 7000 Started --------------\n"
     ]
    },
    {
     "name": "stderr",
     "output_type": "stream",
     "text": [
      "100%|██████████| 10/10 [00:06<00:00,  1.43it/s]\n"
     ]
    },
    {
     "name": "stdout",
     "output_type": "stream",
     "text": [
      "Encoding Train Data and Training the Model for nHDC=7000 finished\n"
     ]
    },
    {
     "name": "stderr",
     "output_type": "stream",
     "text": [
      "100%|██████████| 20/20 [00:09<00:00,  2.17it/s]\n"
     ]
    },
    {
     "name": "stdout",
     "output_type": "stream",
     "text": [
      "Hyperdimension: 7000 Finished. Average Accuracy over 20 splits: 0.9589000000000001\n",
      "Hyperdimension: 8000 Started --------------\n"
     ]
    },
    {
     "name": "stderr",
     "output_type": "stream",
     "text": [
      "100%|██████████| 10/10 [00:07<00:00,  1.29it/s]\n"
     ]
    },
    {
     "name": "stdout",
     "output_type": "stream",
     "text": [
      "Encoding Train Data and Training the Model for nHDC=8000 finished\n"
     ]
    },
    {
     "name": "stderr",
     "output_type": "stream",
     "text": [
      "100%|██████████| 20/20 [00:09<00:00,  2.10it/s]\n"
     ]
    },
    {
     "name": "stdout",
     "output_type": "stream",
     "text": [
      "Hyperdimension: 8000 Finished. Average Accuracy over 20 splits: 0.9575000000000001\n",
      "Hyperdimension: 9000 Started --------------\n"
     ]
    },
    {
     "name": "stderr",
     "output_type": "stream",
     "text": [
      "100%|██████████| 10/10 [00:07<00:00,  1.37it/s]\n"
     ]
    },
    {
     "name": "stdout",
     "output_type": "stream",
     "text": [
      "Encoding Train Data and Training the Model for nHDC=9000 finished\n"
     ]
    },
    {
     "name": "stderr",
     "output_type": "stream",
     "text": [
      "100%|██████████| 20/20 [00:10<00:00,  1.94it/s]\n"
     ]
    },
    {
     "name": "stdout",
     "output_type": "stream",
     "text": [
      "Hyperdimension: 9000 Finished. Average Accuracy over 20 splits: 0.9693999999999999\n",
      "Hyperdimension: 10000 Started --------------\n"
     ]
    },
    {
     "name": "stderr",
     "output_type": "stream",
     "text": [
      "100%|██████████| 10/10 [00:07<00:00,  1.27it/s]\n"
     ]
    },
    {
     "name": "stdout",
     "output_type": "stream",
     "text": [
      "Encoding Train Data and Training the Model for nHDC=10000 finished\n"
     ]
    },
    {
     "name": "stderr",
     "output_type": "stream",
     "text": [
      "100%|██████████| 20/20 [00:11<00:00,  1.80it/s]\n"
     ]
    },
    {
     "name": "stdout",
     "output_type": "stream",
     "text": [
      "Hyperdimension: 10000 Finished. Average Accuracy over 20 splits: 0.9577\n",
      "Hyperdimension: 11000 Started --------------\n"
     ]
    },
    {
     "name": "stderr",
     "output_type": "stream",
     "text": [
      "100%|██████████| 10/10 [00:08<00:00,  1.15it/s]\n"
     ]
    },
    {
     "name": "stdout",
     "output_type": "stream",
     "text": [
      "Encoding Train Data and Training the Model for nHDC=11000 finished\n"
     ]
    },
    {
     "name": "stderr",
     "output_type": "stream",
     "text": [
      "100%|██████████| 20/20 [00:11<00:00,  1.70it/s]\n"
     ]
    },
    {
     "name": "stdout",
     "output_type": "stream",
     "text": [
      "Hyperdimension: 11000 Finished. Average Accuracy over 20 splits: 0.9657000000000002\n",
      "Hyperdimension: 11750 Started --------------\n"
     ]
    },
    {
     "name": "stderr",
     "output_type": "stream",
     "text": [
      "100%|██████████| 10/10 [00:07<00:00,  1.27it/s]\n"
     ]
    },
    {
     "name": "stdout",
     "output_type": "stream",
     "text": [
      "Encoding Train Data and Training the Model for nHDC=11750 finished\n"
     ]
    },
    {
     "name": "stderr",
     "output_type": "stream",
     "text": [
      "100%|██████████| 20/20 [00:12<00:00,  1.65it/s]\n"
     ]
    },
    {
     "name": "stdout",
     "output_type": "stream",
     "text": [
      "Hyperdimension: 11750 Finished. Average Accuracy over 20 splits: 0.9668999999999999\n",
      "Hyperdimension: 12750 Started --------------\n"
     ]
    },
    {
     "name": "stderr",
     "output_type": "stream",
     "text": [
      "100%|██████████| 10/10 [00:09<00:00,  1.11it/s]\n"
     ]
    },
    {
     "name": "stdout",
     "output_type": "stream",
     "text": [
      "Encoding Train Data and Training the Model for nHDC=12750 finished\n"
     ]
    },
    {
     "name": "stderr",
     "output_type": "stream",
     "text": [
      "100%|██████████| 20/20 [00:12<00:00,  1.56it/s]\n"
     ]
    },
    {
     "name": "stdout",
     "output_type": "stream",
     "text": [
      "Hyperdimension: 12750 Finished. Average Accuracy over 20 splits: 0.9669000000000001\n",
      "Hyperdimension: 13750 Started --------------\n"
     ]
    },
    {
     "name": "stderr",
     "output_type": "stream",
     "text": [
      "100%|██████████| 10/10 [00:08<00:00,  1.15it/s]\n"
     ]
    },
    {
     "name": "stdout",
     "output_type": "stream",
     "text": [
      "Encoding Train Data and Training the Model for nHDC=13750 finished\n"
     ]
    },
    {
     "name": "stderr",
     "output_type": "stream",
     "text": [
      "100%|██████████| 20/20 [00:13<00:00,  1.47it/s]\n"
     ]
    },
    {
     "name": "stdout",
     "output_type": "stream",
     "text": [
      "Hyperdimension: 13750 Finished. Average Accuracy over 20 splits: 0.9681\n",
      "Hyperdimension: 14750 Started --------------\n"
     ]
    },
    {
     "name": "stderr",
     "output_type": "stream",
     "text": [
      "100%|██████████| 10/10 [00:09<00:00,  1.01it/s]\n"
     ]
    },
    {
     "name": "stdout",
     "output_type": "stream",
     "text": [
      "Encoding Train Data and Training the Model for nHDC=14750 finished\n"
     ]
    },
    {
     "name": "stderr",
     "output_type": "stream",
     "text": [
      "100%|██████████| 20/20 [00:14<00:00,  1.39it/s]"
     ]
    },
    {
     "name": "stdout",
     "output_type": "stream",
     "text": [
      "Hyperdimension: 14750 Finished. Average Accuracy over 20 splits: 0.9709\n"
     ]
    },
    {
     "name": "stderr",
     "output_type": "stream",
     "text": [
      "\n"
     ]
    }
   ],
   "source": [
    "num_workers = 2\n",
    "pin_memory=True\n",
    "n_splits = 20\n",
    "split_size = len(test_data) // n_splits\n",
    "hyperdims = hyperdims\n",
    "accuracies = np.zeros((len(hyperdims), n_splits))\n",
    "for i, nHDC in enumerate(hyperdims):\n",
    "    print(f'Hyperdimension: {nHDC} Started --------------')\n",
    "    # Train\n",
    "    encoder = hdc_encoder(d, nHDC, kernel, encoder_mode)\n",
    "    train_hdc = encoder.encode(train_loader)\n",
    "    train_loader_hdc = DataLoader(\n",
    "        train_hdc,\n",
    "        batch_size=750,\n",
    "        shuffle=True,\n",
    "        num_workers=0,      # <-- no background workers\n",
    "        pin_memory=False    # <-- nothing to pin; data is on GPU\n",
    "    )\n",
    "    model = train_hdc_classifier(train_loader_hdc, num_classes, mode=classifier_mode, epochs=10)\n",
    "    print(f'Encoding Train Data and Training the Model for nHDC={nHDC} finished')\n",
    "    for split_idx in tqdm(range(n_splits)):\n",
    "        # Test\n",
    "        start_idx = split_idx * split_size\n",
    "        end_idx = start_idx + split_size\n",
    "        split_subset = Subset(test_data, range(start_idx, end_idx))\n",
    "        split_loader = DataLoader(\n",
    "            split_subset,\n",
    "            batch_size=128,\n",
    "            shuffle=False,\n",
    "            num_workers=num_workers,   # 2, as you set above\n",
    "            pin_memory=pin_memory      # True\n",
    "        )\n",
    "        split_hdc = encoder.encode(split_loader)\n",
    "        split_loader_hdc = DataLoader(\n",
    "            split_hdc,\n",
    "            batch_size=128,\n",
    "            shuffle=True,\n",
    "            num_workers=0,\n",
    "            pin_memory=False\n",
    "        )\n",
    "        accuracies[i, split_idx] = test_hdc_classifier(model, split_loader_hdc)\n",
    "    print(f'Hyperdimension: {nHDC} Finished. Average Accuracy over 20 splits: {np.mean(accuracies[i])}')\n"
   ]
  },
  {
   "cell_type": "code",
   "execution_count": 13,
   "id": "c8536005-74ba-488a-aa83-24e662840bf7",
   "metadata": {},
   "outputs": [
    {
     "data": {
      "text/plain": [
       "array([95.71, 96.02, 95.89, 95.75, 96.94, 95.77, 96.57, 96.69, 96.69,\n",
       "       96.81, 97.09])"
      ]
     },
     "execution_count": 13,
     "metadata": {},
     "output_type": "execute_result"
    }
   ],
   "source": [
    "np.mean(accuracies*100, axis=1)"
   ]
  },
  {
   "cell_type": "code",
   "execution_count": 14,
   "id": "9ff9de91-0c60-4ea6-ac79-a23b26525a25",
   "metadata": {},
   "outputs": [
    {
     "data": {
      "text/plain": [
       "array([2.09425404, 1.9543797 , 2.11326761, 2.07352357, 1.57873367,\n",
       "       2.25146619, 1.83442089, 2.08564139, 1.9813884 , 1.84659145,\n",
       "       1.59558767])"
      ]
     },
     "execution_count": 14,
     "metadata": {},
     "output_type": "execute_result"
    }
   ],
   "source": [
    "np.std(accuracies*100, axis=1)"
   ]
  },
  {
   "cell_type": "code",
   "execution_count": 15,
   "id": "efdb5df5-e7d9-4cd9-9540-e405445e66f0",
   "metadata": {},
   "outputs": [],
   "source": [
    "savemat('LaplaceHDC_MNIST.mat', {'LaplaceHDC_MNIST': accuracies*100})"
   ]
  },
  {
   "cell_type": "code",
   "execution_count": null,
   "id": "39efbab9-17dc-4726-ae98-53ef9241e461",
   "metadata": {},
   "outputs": [],
   "source": []
  }
 ],
 "metadata": {
  "kernelspec": {
   "display_name": "Python 3 (ipykernel)",
   "language": "python",
   "name": "python3"
  },
  "language_info": {
   "codemirror_mode": {
    "name": "ipython",
    "version": 3
   },
   "file_extension": ".py",
   "mimetype": "text/x-python",
   "name": "python",
   "nbconvert_exporter": "python",
   "pygments_lexer": "ipython3",
   "version": "3.9.21"
  }
 },
 "nbformat": 4,
 "nbformat_minor": 5
}
