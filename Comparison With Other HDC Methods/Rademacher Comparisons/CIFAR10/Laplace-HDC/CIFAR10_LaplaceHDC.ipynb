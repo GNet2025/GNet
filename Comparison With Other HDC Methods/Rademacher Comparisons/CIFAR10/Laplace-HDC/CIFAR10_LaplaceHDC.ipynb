{
 "cells": [
  {
   "cell_type": "code",
   "execution_count": 1,
   "id": "0433d323-d3cd-4d1b-83f4-3f8a23e4ef4e",
   "metadata": {},
   "outputs": [
    {
     "name": "stdout",
     "output_type": "stream",
     "text": [
      "Using device:\tcuda:0\n"
     ]
    }
   ],
   "source": [
    "import torch\n",
    "from torchvision import datasets, transforms\n",
    "from torch.utils.data import DataLoader, Subset\n",
    "from laplace_hdc_helper import load_dataset\n",
    "from laplace_hdc_encoder_CIFAR10 import hdc_encoder\n",
    "from laplace_hdc_classifier_CIFAR10 import train_hdc_classifier, test_hdc_classifier\n",
    "import matplotlib.pyplot as plt\n",
    "import numpy as np\n",
    "import time\n",
    "from tqdm import tqdm\n",
    "from scipy.io import savemat, loadmat\n",
    "\n",
    "device = torch.device(\"cuda:0\" if torch.cuda.is_available() else \"cpu\")\n",
    "print(f\"Using device:\\t{device}\")\n"
   ]
  },
  {
   "cell_type": "markdown",
   "id": "e38fe4c3-5b96-49c0-b9e5-68fe57f96d5d",
   "metadata": {},
   "source": [
    "### Hyperparameters"
   ]
  },
  {
   "cell_type": "code",
   "execution_count": 2,
   "id": "191b370d-cd87-42c6-a767-6af09d84e45f",
   "metadata": {},
   "outputs": [],
   "source": [
    "hyperdim = 5000 \n",
    "bandwidth_parameter = 3 # bandwidth parameter\n",
    "encoder_mode = 'shift_1d'\n",
    "classifier_mode=\"float_sgd\"\n",
    "epochs=10"
   ]
  },
  {
   "cell_type": "markdown",
   "id": "6c5c9499-4412-41e1-adf2-b16225485fdb",
   "metadata": {},
   "source": [
    "## Load Data"
   ]
  },
  {
   "cell_type": "code",
   "execution_count": 3,
   "id": "eba68280-5ac2-409f-9b8a-2d8ab0836532",
   "metadata": {},
   "outputs": [
    {
     "name": "stdout",
     "output_type": "stream",
     "text": [
      "Files already downloaded and verified\n",
      "Files already downloaded and verified\n",
      "10\n"
     ]
    }
   ],
   "source": [
    "class_names = np.array([\"0\", \"1\", \"2\", \"3\", \"4\", \"5\", \"6\", \"7\", \"8\", \"9\"])\n",
    "\n",
    "# load the MNIST training data\n",
    "train_data = datasets.CIFAR10(\n",
    "    '../../Data',\n",
    "    train=True,\n",
    "    download=True,\n",
    "    transform=transforms.ToTensor(),\n",
    ")\n",
    "\n",
    "# Load the MNIST testing data\n",
    "test_data = datasets.CIFAR10(\n",
    "    '../../Data',\n",
    "    train=False,\n",
    "    download=True,\n",
    "    transform=transforms.ToTensor(),\n",
    ")\n",
    "\n",
    "num_classes = len(class_names)\n",
    "print(num_classes)"
   ]
  },
  {
   "cell_type": "markdown",
   "id": "d262c61e-2dad-49d5-a8ca-21e82ccf2a1e",
   "metadata": {},
   "source": [
    "## Kernel Matrix Construction"
   ]
  },
  {
   "cell_type": "code",
   "execution_count": 4,
   "id": "267bdf28-ec1f-4ca7-b64b-fea4e0f78e4e",
   "metadata": {},
   "outputs": [
    {
     "name": "stdout",
     "output_type": "stream",
     "text": [
      "lambda = 0.0035261260345578194\n"
     ]
    },
    {
     "data": {
      "image/png": "[encoded data removed]",
      "text/plain": [
       "<Figure size 640x480 with 1 Axes>"
      ]
     },
     "metadata": {},
     "output_type": "display_data"
    }
   ],
   "source": [
    "# Determining Lambda from random 1000 samples\n",
    "batch_size = 1024\n",
    "num_colors = 256\n",
    "\n",
    "X,  _ = next(iter(DataLoader(train_data, batch_size=1000, shuffle=True)))\n",
    "X = X.reshape(X.shape[0],-1)\n",
    "\n",
    "D = torch.sum(torch.abs(X.unsqueeze(0)-X.unsqueeze(1)),dim=2)\n",
    "a = torch.median(D.flatten())\n",
    "lmd = bandwidth_parameter/a\n",
    "print(f\"lambda = {lmd}\")\n",
    "\n",
    "# Define the local kernel\n",
    "x = np.linspace(0, 1, num=num_colors).reshape(-1, 1)\n",
    "f = lambda X: 1 - lmd*X\n",
    "kernel = f(np.abs(x - x.T))\n",
    "\n",
    "# Visualize the global kernel\n",
    "d = train_data[0][0].squeeze().numel()\n",
    "S = lambda v: np.exp(-lmd*v)\n",
    "v = np.linspace(0, d)\n",
    "plt.plot(v, S(v))\n",
    "plt.title(f\"Kernel K for d={d} and num_colors = {num_colors}\")\n",
    "plt.show()"
   ]
  },
  {
   "cell_type": "markdown",
   "id": "eb9fccde-4541-44a4-936b-6d392fea6fb7",
   "metadata": {},
   "source": [
    "## Create Encoder"
   ]
  },
  {
   "cell_type": "code",
   "execution_count": 5,
   "id": "10775dbf-bee6-4bea-8345-c590ea6d7a85",
   "metadata": {},
   "outputs": [
    {
     "name": "stdout",
     "output_type": "stream",
     "text": [
      "mode: shift_1d\n",
      "Hyperdimension: 5000\n"
     ]
    }
   ],
   "source": [
    "encoder = hdc_encoder(d, hyperdim, kernel, encoder_mode)\n",
    "print(f\"mode: {encoder_mode}\\nHyperdimension: {encoder.hyperdim}\")"
   ]
  },
  {
   "cell_type": "markdown",
   "id": "12b4e4b3-bfed-47fe-a4b5-80694c8afe71",
   "metadata": {},
   "source": [
    "## Encode Data"
   ]
  },
  {
   "cell_type": "code",
   "execution_count": 6,
   "id": "e6fa9aef-4447-4eec-a2d8-0fbe62fdb26d",
   "metadata": {},
   "outputs": [],
   "source": [
    "batch_size = 32\n",
    "train_loader = DataLoader(\n",
    "    train_data,\n",
    "    batch_size=batch_size,\n",
    "    shuffle=True\n",
    ")\n",
    "\n",
    "test_loader = DataLoader(\n",
    "    test_data,\n",
    "    batch_size=batch_size,\n",
    "    shuffle=False\n",
    ")"
   ]
  },
  {
   "cell_type": "markdown",
   "id": "f54a34bc-9319-45f7-91ed-ffcce732bd59",
   "metadata": {},
   "source": [
    "## Classification"
   ]
  },
  {
   "cell_type": "code",
   "execution_count": 7,
   "id": "1c3120a3-6350-4710-abd3-e6aa6569e4eb",
   "metadata": {},
   "outputs": [],
   "source": [
    "hyperdims = loadmat('../EHDGNet_CIFAR10_nHD.mat')['EHDGNet_CIFAR10_nHD']\n",
    "hyperdims = np.mean(hyperdims, axis=1, dtype=int)\n",
    "hyperdims = hyperdims"
   ]
  },
  {
   "cell_type": "code",
   "execution_count": 8,
   "id": "bc22c40f-2814-44a5-beb8-6147b0a3d10c",
   "metadata": {},
   "outputs": [
    {
     "name": "stdout",
     "output_type": "stream",
     "text": [
      "Hyperdimension: 15000 Started --------------\n"
     ]
    },
    {
     "name": "stderr",
     "output_type": "stream",
     "text": [
      "Float‐SGD: 100%|██████████| 10/10 [00:07<00:00,  1.37it/s]\n"
     ]
    },
    {
     "name": "stdout",
     "output_type": "stream",
     "text": [
      "Encoding Train Data and Training the Model for nHDC=15000 finished\n"
     ]
    },
    {
     "name": "stderr",
     "output_type": "stream",
     "text": [
      "100%|██████████| 20/20 [01:02<00:00,  3.13s/it]\n"
     ]
    },
    {
     "name": "stdout",
     "output_type": "stream",
     "text": [
      "Hyperdimension: 15000 Finished. Average Accuracy over 20 splits: 0.3638\n",
      "Hyperdimension: 17250 Started --------------\n"
     ]
    },
    {
     "name": "stderr",
     "output_type": "stream",
     "text": [
      "Float‐SGD: 100%|██████████| 10/10 [00:07<00:00,  1.26it/s]\n"
     ]
    },
    {
     "name": "stdout",
     "output_type": "stream",
     "text": [
      "Encoding Train Data and Training the Model for nHDC=17250 finished\n"
     ]
    },
    {
     "name": "stderr",
     "output_type": "stream",
     "text": [
      "100%|██████████| 20/20 [00:46<00:00,  2.34s/it]\n"
     ]
    },
    {
     "name": "stdout",
     "output_type": "stream",
     "text": [
      "Hyperdimension: 17250 Finished. Average Accuracy over 20 splits: 0.3891\n",
      "Hyperdimension: 19000 Started --------------\n"
     ]
    },
    {
     "name": "stderr",
     "output_type": "stream",
     "text": [
      "Float‐SGD: 100%|██████████| 10/10 [00:08<00:00,  1.23it/s]\n"
     ]
    },
    {
     "name": "stdout",
     "output_type": "stream",
     "text": [
      "Encoding Train Data and Training the Model for nHDC=19000 finished\n"
     ]
    },
    {
     "name": "stderr",
     "output_type": "stream",
     "text": [
      "100%|██████████| 20/20 [00:41<00:00,  2.09s/it]\n"
     ]
    },
    {
     "name": "stdout",
     "output_type": "stream",
     "text": [
      "Hyperdimension: 19000 Finished. Average Accuracy over 20 splits: 0.4159\n",
      "Hyperdimension: 21250 Started --------------\n"
     ]
    },
    {
     "name": "stderr",
     "output_type": "stream",
     "text": [
      "Float‐SGD: 100%|██████████| 10/10 [00:08<00:00,  1.19it/s]\n"
     ]
    },
    {
     "name": "stdout",
     "output_type": "stream",
     "text": [
      "Encoding Train Data and Training the Model for nHDC=21250 finished\n"
     ]
    },
    {
     "name": "stderr",
     "output_type": "stream",
     "text": [
      "100%|██████████| 20/20 [00:43<00:00,  2.20s/it]\n"
     ]
    },
    {
     "name": "stdout",
     "output_type": "stream",
     "text": [
      "Hyperdimension: 21250 Finished. Average Accuracy over 20 splits: 0.3731\n",
      "Hyperdimension: 23250 Started --------------\n"
     ]
    },
    {
     "name": "stderr",
     "output_type": "stream",
     "text": [
      "Float‐SGD: 100%|██████████| 10/10 [00:09<00:00,  1.08it/s]\n"
     ]
    },
    {
     "name": "stdout",
     "output_type": "stream",
     "text": [
      "Encoding Train Data and Training the Model for nHDC=23250 finished\n"
     ]
    },
    {
     "name": "stderr",
     "output_type": "stream",
     "text": [
      "100%|██████████| 20/20 [00:43<00:00,  2.18s/it]\n"
     ]
    },
    {
     "name": "stdout",
     "output_type": "stream",
     "text": [
      "Hyperdimension: 23250 Finished. Average Accuracy over 20 splits: 0.4119\n",
      "Hyperdimension: 25250 Started --------------\n"
     ]
    },
    {
     "name": "stderr",
     "output_type": "stream",
     "text": [
      "Float‐SGD: 100%|██████████| 10/10 [00:08<00:00,  1.15it/s]\n"
     ]
    },
    {
     "name": "stdout",
     "output_type": "stream",
     "text": [
      "Encoding Train Data and Training the Model for nHDC=25250 finished\n"
     ]
    },
    {
     "name": "stderr",
     "output_type": "stream",
     "text": [
      "100%|██████████| 20/20 [00:46<00:00,  2.34s/it]\n"
     ]
    },
    {
     "name": "stdout",
     "output_type": "stream",
     "text": [
      "Hyperdimension: 25250 Finished. Average Accuracy over 20 splits: 0.4174\n",
      "Hyperdimension: 27000 Started --------------\n"
     ]
    },
    {
     "name": "stderr",
     "output_type": "stream",
     "text": [
      "Float‐SGD: 100%|██████████| 10/10 [00:10<00:00,  1.03s/it]\n"
     ]
    },
    {
     "name": "stdout",
     "output_type": "stream",
     "text": [
      "Encoding Train Data and Training the Model for nHDC=27000 finished\n"
     ]
    },
    {
     "name": "stderr",
     "output_type": "stream",
     "text": [
      "100%|██████████| 20/20 [00:50<00:00,  2.54s/it]\n"
     ]
    },
    {
     "name": "stdout",
     "output_type": "stream",
     "text": [
      "Hyperdimension: 27000 Finished. Average Accuracy over 20 splits: 0.3923\n",
      "Hyperdimension: 29000 Started --------------\n"
     ]
    },
    {
     "name": "stderr",
     "output_type": "stream",
     "text": [
      "Float‐SGD: 100%|██████████| 10/10 [00:09<00:00,  1.00it/s]\n"
     ]
    },
    {
     "name": "stdout",
     "output_type": "stream",
     "text": [
      "Encoding Train Data and Training the Model for nHDC=29000 finished\n"
     ]
    },
    {
     "name": "stderr",
     "output_type": "stream",
     "text": [
      "100%|██████████| 20/20 [00:57<00:00,  2.86s/it]\n"
     ]
    },
    {
     "name": "stdout",
     "output_type": "stream",
     "text": [
      "Hyperdimension: 29000 Finished. Average Accuracy over 20 splits: 0.4108\n",
      "Hyperdimension: 31000 Started --------------\n"
     ]
    },
    {
     "name": "stderr",
     "output_type": "stream",
     "text": [
      "Float‐SGD: 100%|██████████| 10/10 [00:10<00:00,  1.02s/it]\n"
     ]
    },
    {
     "name": "stdout",
     "output_type": "stream",
     "text": [
      "Encoding Train Data and Training the Model for nHDC=31000 finished\n"
     ]
    },
    {
     "name": "stderr",
     "output_type": "stream",
     "text": [
      "100%|██████████| 20/20 [01:03<00:00,  3.20s/it]\n"
     ]
    },
    {
     "name": "stdout",
     "output_type": "stream",
     "text": [
      "Hyperdimension: 31000 Finished. Average Accuracy over 20 splits: 0.4271\n",
      "Hyperdimension: 33000 Started --------------\n"
     ]
    },
    {
     "name": "stderr",
     "output_type": "stream",
     "text": [
      "Float‐SGD: 100%|██████████| 10/10 [00:12<00:00,  1.24s/it]\n"
     ]
    },
    {
     "name": "stdout",
     "output_type": "stream",
     "text": [
      "Encoding Train Data and Training the Model for nHDC=33000 finished\n"
     ]
    },
    {
     "name": "stderr",
     "output_type": "stream",
     "text": [
      "100%|██████████| 20/20 [01:11<00:00,  3.58s/it]\n"
     ]
    },
    {
     "name": "stdout",
     "output_type": "stream",
     "text": [
      "Hyperdimension: 33000 Finished. Average Accuracy over 20 splits: 0.4285\n",
      "Hyperdimension: 35000 Started --------------\n"
     ]
    },
    {
     "name": "stderr",
     "output_type": "stream",
     "text": [
      "Float‐SGD: 100%|██████████| 10/10 [00:12<00:00,  1.28s/it]\n"
     ]
    },
    {
     "name": "stdout",
     "output_type": "stream",
     "text": [
      "Encoding Train Data and Training the Model for nHDC=35000 finished\n"
     ]
    },
    {
     "name": "stderr",
     "output_type": "stream",
     "text": [
      "100%|██████████| 20/20 [01:17<00:00,  3.90s/it]"
     ]
    },
    {
     "name": "stdout",
     "output_type": "stream",
     "text": [
      "Hyperdimension: 35000 Finished. Average Accuracy over 20 splits: 0.4416\n"
     ]
    },
    {
     "name": "stderr",
     "output_type": "stream",
     "text": [
      "\n"
     ]
    }
   ],
   "source": [
    "num_workers  = 2\n",
    "pin_memory   = True\n",
    "n_splits     = 20\n",
    "split_size   = len(test_data) // n_splits\n",
    "accuracies   = np.zeros((len(hyperdims), n_splits))\n",
    "\n",
    "for i, nHD in enumerate(hyperdims):\n",
    "    print(f'Hyperdimension: {nHD} Started --------------')\n",
    "\n",
    "    encoder          = hdc_encoder(d, nHD, kernel, encoder_mode)\n",
    "    train_hdc        = encoder.encode(train_loader)\n",
    "    train_loader_hdc = DataLoader(\n",
    "        train_hdc,\n",
    "        batch_size=512,\n",
    "        shuffle=True,\n",
    "        num_workers=0,\n",
    "        pin_memory=False\n",
    "    )\n",
    "    model = train_hdc_classifier(\n",
    "        train_loader_hdc,\n",
    "        num_classes,\n",
    "        mode=classifier_mode,\n",
    "        epochs=10\n",
    "    )\n",
    "    print(f'Encoding Train Data and Training the Model for nHD={nHD} finished')\n",
    "\n",
    "    del train_hdc, train_loader_hdc\n",
    "    torch.cuda.empty_cache()\n",
    "\n",
    "    for split_idx in tqdm(range(n_splits)):\n",
    "        start_idx    = split_idx * split_size\n",
    "        end_idx      = start_idx + split_size\n",
    "        split_subset = Subset(test_data, range(start_idx, end_idx))\n",
    "        split_loader = DataLoader(\n",
    "            split_subset,\n",
    "            batch_size=32,\n",
    "            shuffle=False,\n",
    "            num_workers=num_workers,\n",
    "            pin_memory=pin_memory\n",
    "        )\n",
    "\n",
    "        # encode that split\n",
    "        split_hdc        = encoder.encode(split_loader)\n",
    "        split_loader_hdc = DataLoader(\n",
    "            split_hdc,\n",
    "            batch_size=512,\n",
    "            shuffle=False,\n",
    "            num_workers=0,\n",
    "            pin_memory=False\n",
    "        )\n",
    "\n",
    "        # evaluate\n",
    "        accuracies[i, split_idx] = test_hdc_classifier(model, split_loader_hdc)\n",
    "\n",
    "        # free this split’s hypervector dataset & loader\n",
    "        del split_hdc, split_loader_hdc\n",
    "        torch.cuda.empty_cache()\n",
    "\n",
    "    # ────────────────────────────────────────────\n",
    "    # 3) Done with this hyperdim entirely\n",
    "    del encoder\n",
    "    torch.cuda.empty_cache()\n",
    "\n",
    "    print(\n",
    "        f'Hyperdimension: {nHD} Finished. '\n",
    "        f'Average Accuracy over {n_splits} splits: {accuracies[i].mean():.4f}'\n",
    "    )\n"
   ]
  },
  {
   "cell_type": "code",
   "execution_count": 9,
   "id": "c8536005-74ba-488a-aa83-24e662840bf7",
   "metadata": {},
   "outputs": [
    {
     "data": {
      "text/plain": [
       "array([[0.324, 0.414, 0.348, 0.35 , 0.392, 0.372, 0.324, 0.374, 0.402,\n",
       "        0.354, 0.362, 0.36 , 0.35 , 0.366, 0.382, 0.366, 0.342, 0.404,\n",
       "        0.342, 0.348],\n",
       "       [0.394, 0.44 , 0.378, 0.368, 0.382, 0.392, 0.392, 0.368, 0.418,\n",
       "        0.39 , 0.384, 0.368, 0.4  , 0.402, 0.398, 0.38 , 0.368, 0.412,\n",
       "        0.396, 0.352],\n",
       "       [0.41 , 0.422, 0.406, 0.434, 0.426, 0.392, 0.396, 0.436, 0.47 ,\n",
       "        0.418, 0.432, 0.374, 0.408, 0.382, 0.446, 0.426, 0.402, 0.444,\n",
       "        0.404, 0.39 ],\n",
       "       [0.354, 0.364, 0.382, 0.416, 0.42 , 0.358, 0.376, 0.364, 0.386,\n",
       "        0.36 , 0.354, 0.342, 0.356, 0.372, 0.374, 0.394, 0.356, 0.38 ,\n",
       "        0.372, 0.382],\n",
       "       [0.398, 0.402, 0.42 , 0.416, 0.454, 0.376, 0.412, 0.434, 0.426,\n",
       "        0.426, 0.372, 0.388, 0.4  , 0.426, 0.42 , 0.426, 0.376, 0.442,\n",
       "        0.412, 0.412],\n",
       "       [0.416, 0.438, 0.452, 0.434, 0.444, 0.388, 0.404, 0.456, 0.462,\n",
       "        0.374, 0.38 , 0.412, 0.398, 0.41 , 0.476, 0.408, 0.376, 0.432,\n",
       "        0.404, 0.384],\n",
       "       [0.364, 0.418, 0.384, 0.382, 0.426, 0.39 , 0.392, 0.41 , 0.438,\n",
       "        0.392, 0.376, 0.374, 0.356, 0.342, 0.428, 0.4  , 0.344, 0.426,\n",
       "        0.41 , 0.394],\n",
       "       [0.392, 0.432, 0.404, 0.388, 0.452, 0.386, 0.406, 0.43 , 0.444,\n",
       "        0.392, 0.378, 0.388, 0.43 , 0.382, 0.424, 0.424, 0.392, 0.43 ,\n",
       "        0.43 , 0.412],\n",
       "       [0.434, 0.45 , 0.452, 0.43 , 0.446, 0.414, 0.422, 0.41 , 0.448,\n",
       "        0.44 , 0.422, 0.398, 0.424, 0.432, 0.42 , 0.422, 0.396, 0.44 ,\n",
       "        0.426, 0.416],\n",
       "       [0.38 , 0.456, 0.432, 0.422, 0.452, 0.424, 0.442, 0.432, 0.468,\n",
       "        0.436, 0.444, 0.414, 0.412, 0.388, 0.466, 0.42 , 0.428, 0.442,\n",
       "        0.416, 0.396],\n",
       "       [0.424, 0.45 , 0.47 , 0.436, 0.472, 0.45 , 0.452, 0.436, 0.446,\n",
       "        0.424, 0.422, 0.43 , 0.448, 0.422, 0.462, 0.45 , 0.392, 0.468,\n",
       "        0.432, 0.446]])"
      ]
     },
     "execution_count": 9,
     "metadata": {},
     "output_type": "execute_result"
    }
   ],
   "source": [
    "accuracies"
   ]
  },
  {
   "cell_type": "code",
   "execution_count": 10,
   "id": "03c442b6-a5f6-48bb-889b-862308a377f7",
   "metadata": {},
   "outputs": [],
   "source": [
    "savemat('LaplaceHDC_CIFAR10.mat', {'LaplaceHDC_CIFAR10': accuracies*100})"
   ]
  },
  {
   "cell_type": "code",
   "execution_count": 11,
   "id": "a8a831bc-a397-4141-bd71-5a2f57938406",
   "metadata": {},
   "outputs": [
    {
     "data": {
      "text/plain": [
       "[<matplotlib.lines.Line2D at 0x147f25ff36a0>]"
      ]
     },
     "execution_count": 11,
     "metadata": {},
     "output_type": "execute_result"
    },
    {
     "data": {
      "image/png": "[encoded data removed]",
      "text/plain": [
       "<Figure size 640x480 with 1 Axes>"
      ]
     },
     "metadata": {},
     "output_type": "display_data"
    }
   ],
   "source": [
    "import matplotlib.pyplot as plt\n",
    "plt.plot(np.mean(accuracies*100, axis=1))"
   ]
  },
  {
   "cell_type": "code",
   "execution_count": 12,
   "id": "9ff9de91-0c60-4ea6-ac79-a23b26525a25",
   "metadata": {},
   "outputs": [
    {
     "data": {
      "text/plain": [
       "array([2.4510406 , 1.98037875, 2.33792643, 1.96313525, 2.1545069 ,\n",
       "       2.96789488, 2.71534528, 2.20943432, 1.56393734, 2.32196038,\n",
       "       1.92104138])"
      ]
     },
     "execution_count": 12,
     "metadata": {},
     "output_type": "execute_result"
    }
   ],
   "source": [
    "np.std(accuracies*100, axis=1)"
   ]
  },
  {
   "cell_type": "code",
   "execution_count": null,
   "id": "f62968b6-70f1-45f1-9aaf-223f99aa95ee",
   "metadata": {},
   "outputs": [],
   "source": []
  }
 ],
 "metadata": {
  "kernelspec": {
   "display_name": "Python 3 (ipykernel)",
   "language": "python",
   "name": "python3"
  },
  "language_info": {
   "codemirror_mode": {
    "name": "ipython",
    "version": 3
   },
   "file_extension": ".py",
   "mimetype": "text/x-python",
   "name": "python",
   "nbconvert_exporter": "python",
   "pygments_lexer": "ipython3",
   "version": "3.9.21"
  }
 },
 "nbformat": 4,
 "nbformat_minor": 5
}
