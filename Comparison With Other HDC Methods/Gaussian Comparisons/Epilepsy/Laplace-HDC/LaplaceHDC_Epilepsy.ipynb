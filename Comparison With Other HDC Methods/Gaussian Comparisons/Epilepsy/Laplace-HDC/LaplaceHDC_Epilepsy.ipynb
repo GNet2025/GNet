{
 "cells": [
  {
   "cell_type": "code",
   "execution_count": 1,
   "id": "5a7e6983-2f9a-470c-96fa-5adf9c2d378c",
   "metadata": {},
   "outputs": [],
   "source": [
    "from aeon.datasets import load_classification\n",
    "from sklearn.preprocessing import StandardScaler, LabelEncoder\n",
    "from sklearn.model_selection import GridSearchCV\n",
    "from sklearn.metrics import accuracy_score\n",
    "import numpy as np\n",
    "import torch\n",
    "import torch.nn as nn\n",
    "import torch.nn.functional as F\n",
    "import torch.optim as optim\n",
    "from torch.utils.data import TensorDataset, DataLoader\n",
    "from torchvision import datasets, transforms\n",
    "from torch.utils.data import DataLoader, Subset\n",
    "from laplace_hdc_helper import load_dataset\n",
    "from laplace_hdc_classifier_1d import train_hdc_classifier, test_hdc_classifier\n",
    "from laplace_hdc_encoder_1d import hdc_encoder\n",
    "import matplotlib.pyplot as plt\n",
    "import numpy as np\n",
    "import time\n",
    "from tqdm import tqdm\n",
    "from scipy.io import savemat, loadmat\n"
   ]
  },
  {
   "cell_type": "code",
   "execution_count": 3,
   "id": "170d5083-ed08-4fd9-b0c0-aea5c4409a2b",
   "metadata": {},
   "outputs": [
    {
     "data": {
      "text/plain": [
       "array([[ 5000.,  7000.,  5000.],\n",
       "       [ 5000.,  8000.,  6000.],\n",
       "       [ 6000.,  9000.,  7000.],\n",
       "       [ 7000., 11000.,  8000.],\n",
       "       [ 8000., 12000.,  9000.],\n",
       "       [ 9000., 13000., 10000.],\n",
       "       [10000., 15000., 11000.],\n",
       "       [11000., 16000., 12000.],\n",
       "       [11000., 17000., 13000.],\n",
       "       [12000., 18000., 14000.],\n",
       "       [13000., 20000., 15000.]])"
      ]
     },
     "execution_count": 3,
     "metadata": {},
     "output_type": "execute_result"
    }
   ],
   "source": [
    "device = torch.device(\"cuda:0\" if torch.cuda.is_available() else \"cpu\")\n",
    "dataset_name = 'Epilepsy'\n",
    "try:\n",
    "    NHDC = loadmat(f'../{dataset_name}_nHD.mat')[f'{dataset_name}_nHD']\n",
    "except:\n",
    "    NHDC = range(1000, 5500, 500)\n",
    "    \n",
    "NHDC"
   ]
  },
  {
   "cell_type": "code",
   "execution_count": 3,
   "id": "7809c637-1aef-4984-b7e8-9201824112b9",
   "metadata": {},
   "outputs": [],
   "source": [
    "# Load dataset\n",
    "X_train, y_train, metadata = load_classification(dataset_name, return_metadata=True, split='train')\n",
    "X_test, y_test = load_classification(dataset_name, split='test')\n",
    "if X_train.shape[0] < 200:\n",
    "    if X_test.shape[0] >= 200:\n",
    "        train_size = (X_train.shape[0] + X_test.shape[0]) * 3/4\n",
    "        x, y = load_classification(dataset_name)\n",
    "        X_train, y_train = x[:train_size, :], y[:train_size]\n",
    "        X_test, y_test = x[train_size:, :], y[train_size:]"
   ]
  },
  {
   "cell_type": "code",
   "execution_count": 4,
   "id": "b8ac722d-7f23-4f18-954f-424c19deb3df",
   "metadata": {},
   "outputs": [],
   "source": [
    "input_channels = 1\n",
    "if X_train.ndim == 3:\n",
    "    input_channels = X_train.shape[1]\n",
    "seq_length = X_train.shape[-1]\n",
    "if y_train.dtype == object or isinstance(y_train[0], str):\n",
    "    le = LabelEncoder()\n",
    "    y_train = le.fit_transform(y_train)\n",
    "    y_test = le.transform(y_test)"
   ]
  },
  {
   "cell_type": "code",
   "execution_count": 5,
   "id": "7bf794d1-f9df-4870-86f5-6088ba27bb24",
   "metadata": {},
   "outputs": [],
   "source": [
    "scaler = StandardScaler()\n",
    "X_train_scaled = scaler.fit_transform(X_train.reshape(-1, seq_length))\n",
    "X_test_scaled = scaler.transform(X_test.reshape(-1, seq_length))\n",
    "\n",
    "if input_channels == 1:\n",
    "    X_min = X_train_scaled.min(axis=0)\n",
    "    X_max = X_train_scaled.max(axis=0)\n",
    "    \n",
    "    denom = (X_max - X_min)\n",
    "    denom[denom == 0] = 1   # avoid division by zero\n",
    "    \n",
    "    X_train_norm = (X_train_scaled - X_min) / denom\n",
    "    X_test_norm  = (X_test_scaled  - X_min) / denom\n",
    "    \n",
    "    # Optional: clip to [0,1] just in case\n",
    "    X_train_norm = np.clip(X_train_norm, 0, 1)\n",
    "    X_test_norm  = np.clip(X_test_norm, 0, 1)\n",
    "    X_train_tensor = torch.tensor(X_train_norm, dtype=torch.float32).unsqueeze(1).to(device)\n",
    "    X_test_tensor = torch.tensor(X_test_norm, dtype=torch.float32).unsqueeze(1).to(device)\n",
    "else:\n",
    "    X_min = X_train.min(axis=0)\n",
    "    X_max = X_train.max(axis=0)\n",
    "    \n",
    "    denom = (X_max - X_min)\n",
    "    denom[denom == 0] = 1   # avoid division by zero\n",
    "    \n",
    "    X_train_norm = (X_train - X_min) / denom\n",
    "    X_test_norm  = (X_test  - X_min) / denom\n",
    "    \n",
    "    # Optional: clip to [0,1] just in case\n",
    "    X_train_norm = np.clip(X_train_norm, 0, 1)\n",
    "    X_test_norm  = np.clip(X_test_norm, 0, 1)\n",
    "    # Multichannel → keep original channels\n",
    "    X_train_tensor = torch.tensor(X_train_norm, dtype=torch.float32).to(device)\n",
    "    X_test_tensor = torch.tensor(X_test_norm, dtype=torch.float32).to(device)\n",
    "\n",
    "    "
   ]
  },
  {
   "cell_type": "code",
   "execution_count": 6,
   "id": "3c128b0d-1d9a-4eeb-93f3-ce2cbf36d688",
   "metadata": {},
   "outputs": [],
   "source": [
    "y_train_tensor = torch.tensor(y_train, dtype=torch.long).to(device)\n",
    "y_test_tensor = torch.tensor(y_test, dtype=torch.long).to(device)\n",
    "\n",
    "train_data = TensorDataset(X_train_tensor, y_train_tensor)\n",
    "test_data = TensorDataset(X_test_tensor, y_test_tensor)\n",
    "train_loader = DataLoader(train_data, batch_size=32, shuffle=True)\n",
    "test_loader = DataLoader(test_data, batch_size=32, shuffle=False)\n",
    "\n",
    "num_classes = len(np.unique(y_train))"
   ]
  },
  {
   "cell_type": "code",
   "execution_count": 7,
   "id": "9ba5a049-1b52-4023-b3a7-c4d7f5813bea",
   "metadata": {},
   "outputs": [
    {
     "data": {
      "text/plain": [
       "((137, 3, 206), (138, 3, 206))"
      ]
     },
     "execution_count": 7,
     "metadata": {},
     "output_type": "execute_result"
    }
   ],
   "source": [
    "X_train.shape, X_test.shape"
   ]
  },
  {
   "cell_type": "code",
   "execution_count": 8,
   "id": "c7526b8e-3622-4647-8c48-1b5c2b1f603d",
   "metadata": {},
   "outputs": [
    {
     "name": "stdout",
     "output_type": "stream",
     "text": [
      "lambda = 0.02466578409075737\n",
      "618\n"
     ]
    },
    {
     "data": {
      "image/png": "[encoded data removed]",
      "text/plain": [
       "<Figure size 640x480 with 1 Axes>"
      ]
     },
     "metadata": {},
     "output_type": "display_data"
    }
   ],
   "source": [
    "# Determining Lambda from random 1000 samples\n",
    "bandwidth_parameter = 3 # bandwidth parameter\n",
    "encoder_mode = 'shift_1d'\n",
    "classifier_mode=\"float_sgd\"\n",
    "batch_size = 1024\n",
    "num_colors = 128\n",
    "\n",
    "X,  _ = next(iter(DataLoader(train_data, batch_size=1000, shuffle=True)))\n",
    "X = X.reshape(X.shape[0],-1).cpu()\n",
    "\n",
    "D = torch.sum(torch.abs(X.unsqueeze(0)-X.unsqueeze(1)),dim=2)\n",
    "a = torch.median(D.flatten())\n",
    "lmd = bandwidth_parameter/a\n",
    "print(f\"lambda = {lmd}\")\n",
    "\n",
    "# Define the local kernel\n",
    "x = np.linspace(0, 1, num=num_colors).reshape(-1, 1)\n",
    "f = lambda X: 1 - lmd*X\n",
    "kernel = f(np.abs(x - x.T))\n",
    "\n",
    "# Visualize the global kernel\n",
    "d = train_data[0][0].squeeze().numel()\n",
    "print(d)\n",
    "S = lambda v: np.exp(-lmd*v)\n",
    "v = np.linspace(0, d)\n",
    "plt.plot(v, S(v))\n",
    "plt.title(f\"Kernel K for d={d} and num_colors = {num_colors}\")\n",
    "plt.show()"
   ]
  },
  {
   "cell_type": "code",
   "execution_count": 9,
   "id": "a73336df-8570-46fb-8d9e-df943b8be63d",
   "metadata": {},
   "outputs": [
    {
     "data": {
      "text/plain": [
       "array([ 5666,  6333,  7333,  8666,  9666, 10666, 12000, 13000, 13666,\n",
       "       14666, 16000])"
      ]
     },
     "execution_count": 9,
     "metadata": {},
     "output_type": "execute_result"
    }
   ],
   "source": [
    "hyperdims = np.mean(NHDC, axis=1, dtype=int)\n",
    "hyperdims"
   ]
  },
  {
   "cell_type": "code",
   "execution_count": 10,
   "id": "bded0ece-0294-408f-a0df-6ebdd2b102dd",
   "metadata": {},
   "outputs": [
    {
     "name": "stdout",
     "output_type": "stream",
     "text": [
      "6\n",
      "Hyperdimension: 5666 Started --------------\n"
     ]
    },
    {
     "name": "stderr",
     "output_type": "stream",
     "text": [
      "100%|██████████| 20/20 [00:11<00:00,  1.76it/s]\n"
     ]
    },
    {
     "name": "stdout",
     "output_type": "stream",
     "text": [
      "Hyperdimension: 5666 Finished. Average Accuracy over 20 rounds: 61.9927536231884, std: 5.853327871814738\n",
      "Hyperdimension: 6333 Started --------------\n"
     ]
    },
    {
     "name": "stderr",
     "output_type": "stream",
     "text": [
      "100%|██████████| 20/20 [00:11<00:00,  1.81it/s]\n"
     ]
    },
    {
     "name": "stdout",
     "output_type": "stream",
     "text": [
      "Hyperdimension: 6333 Finished. Average Accuracy over 20 rounds: 60.94202898550723, std: 5.04599720537788\n",
      "Hyperdimension: 7333 Started --------------\n"
     ]
    },
    {
     "name": "stderr",
     "output_type": "stream",
     "text": [
      "100%|██████████| 20/20 [00:11<00:00,  1.78it/s]\n"
     ]
    },
    {
     "name": "stdout",
     "output_type": "stream",
     "text": [
      "Hyperdimension: 7333 Finished. Average Accuracy over 20 rounds: 65.43478260869566, std: 6.04584112568584\n",
      "Hyperdimension: 8666 Started --------------\n"
     ]
    },
    {
     "name": "stderr",
     "output_type": "stream",
     "text": [
      "100%|██████████| 20/20 [00:11<00:00,  1.77it/s]\n"
     ]
    },
    {
     "name": "stdout",
     "output_type": "stream",
     "text": [
      "Hyperdimension: 8666 Finished. Average Accuracy over 20 rounds: 65.79710144927536, std: 6.357018028829365\n",
      "Hyperdimension: 9666 Started --------------\n"
     ]
    },
    {
     "name": "stderr",
     "output_type": "stream",
     "text": [
      "100%|██████████| 20/20 [00:11<00:00,  1.75it/s]\n"
     ]
    },
    {
     "name": "stdout",
     "output_type": "stream",
     "text": [
      "Hyperdimension: 9666 Finished. Average Accuracy over 20 rounds: 66.15942028985508, std: 6.988528422393877\n",
      "Hyperdimension: 10666 Started --------------\n"
     ]
    },
    {
     "name": "stderr",
     "output_type": "stream",
     "text": [
      "100%|██████████| 20/20 [00:11<00:00,  1.74it/s]\n"
     ]
    },
    {
     "name": "stdout",
     "output_type": "stream",
     "text": [
      "Hyperdimension: 10666 Finished. Average Accuracy over 20 rounds: 66.55797101449275, std: 5.959126162876462\n",
      "Hyperdimension: 12000 Started --------------\n"
     ]
    },
    {
     "name": "stderr",
     "output_type": "stream",
     "text": [
      "100%|██████████| 20/20 [00:11<00:00,  1.72it/s]\n"
     ]
    },
    {
     "name": "stdout",
     "output_type": "stream",
     "text": [
      "Hyperdimension: 12000 Finished. Average Accuracy over 20 rounds: 67.2463768115942, std: 5.060026159448142\n",
      "Hyperdimension: 13000 Started --------------\n"
     ]
    },
    {
     "name": "stderr",
     "output_type": "stream",
     "text": [
      "100%|██████████| 20/20 [00:11<00:00,  1.71it/s]\n"
     ]
    },
    {
     "name": "stdout",
     "output_type": "stream",
     "text": [
      "Hyperdimension: 13000 Finished. Average Accuracy over 20 rounds: 67.8623188405797, std: 4.791795086084959\n",
      "Hyperdimension: 13666 Started --------------\n"
     ]
    },
    {
     "name": "stderr",
     "output_type": "stream",
     "text": [
      "100%|██████████| 20/20 [00:11<00:00,  1.69it/s]\n"
     ]
    },
    {
     "name": "stdout",
     "output_type": "stream",
     "text": [
      "Hyperdimension: 13666 Finished. Average Accuracy over 20 rounds: 68.94927536231884, std: 6.35980522133077\n",
      "Hyperdimension: 14666 Started --------------\n"
     ]
    },
    {
     "name": "stderr",
     "output_type": "stream",
     "text": [
      "100%|██████████| 20/20 [00:11<00:00,  1.68it/s]\n"
     ]
    },
    {
     "name": "stdout",
     "output_type": "stream",
     "text": [
      "Hyperdimension: 14666 Finished. Average Accuracy over 20 rounds: 69.27536231884059, std: 5.66609211661583\n",
      "Hyperdimension: 16000 Started --------------\n"
     ]
    },
    {
     "name": "stderr",
     "output_type": "stream",
     "text": [
      "100%|██████████| 20/20 [00:11<00:00,  1.67it/s]"
     ]
    },
    {
     "name": "stdout",
     "output_type": "stream",
     "text": [
      "Hyperdimension: 16000 Finished. Average Accuracy over 20 rounds: 69.85507246376811, std: 5.472813793767887\n"
     ]
    },
    {
     "name": "stderr",
     "output_type": "stream",
     "text": [
      "\n"
     ]
    }
   ],
   "source": [
    "num_workers = 0\n",
    "pin_memory=False\n",
    "n_splits = 20\n",
    "split_size = len(test_data) // n_splits # 10000 // 20 = 500scales = np.arange(0.2, 1.21, 0.1)\n",
    "print(split_size)\n",
    "accuracies = np.zeros((len(hyperdims), n_splits))\n",
    "num_classes=len(np.unique(y_train))\n",
    "for i, nHDC in enumerate(hyperdims):\n",
    "    print(f'Hyperdimension: {nHDC} Started --------------')\n",
    "    # Train\n",
    "    for split_idx in tqdm(range(n_splits)):\n",
    "        encoder = hdc_encoder(d, nHDC, kernel, encoder_mode)\n",
    "        train_hdc = encoder.encode(train_loader)\n",
    "        train_loader_hdc = DataLoader(train_hdc,batch_size=512,shuffle=True,num_workers=0,pin_memory=False)\n",
    "        model = train_hdc_classifier(train_loader_hdc, num_classes, mode=classifier_mode, epochs=10)\n",
    "        # print(f'Encoding Train Data and Training the Model for nHDC={nHDC} finished')\n",
    "        # Test\n",
    "        split_hdc = encoder.encode(test_loader)\n",
    "        split_loader_hdc = DataLoader(\n",
    "            split_hdc,\n",
    "            batch_size=64,\n",
    "            shuffle=True,\n",
    "            num_workers=0,\n",
    "            pin_memory=False\n",
    "        )\n",
    "        accuracies[i, split_idx] = test_hdc_classifier(model, split_loader_hdc)*100\n",
    "    print(f'Hyperdimension: {nHDC} Finished. Average Accuracy over {n_splits} rounds: {np.mean(accuracies[i])}, std: {np.std(accuracies[i])}')\n"
   ]
  },
  {
   "cell_type": "code",
   "execution_count": 11,
   "id": "654c0062-2553-458c-b2fd-4a8d61eade80",
   "metadata": {},
   "outputs": [],
   "source": [
    "savemat(f'{dataset_name}_LaplaceHDC.mat', {f'{dataset_name}_LaplaceHDC': accuracies})"
   ]
  },
  {
   "cell_type": "code",
   "execution_count": 12,
   "id": "e515543f-cda3-43bc-b1fa-8d51a74b2e52",
   "metadata": {},
   "outputs": [
    {
     "data": {
      "text/plain": [
       "(array([61.99275362, 60.94202899, 65.43478261, 65.79710145, 66.15942029,\n",
       "        66.55797101, 67.24637681, 67.86231884, 68.94927536, 69.27536232,\n",
       "        69.85507246]),\n",
       " array([5.85332787, 5.04599721, 6.04584113, 6.35701803, 6.98852842,\n",
       "        5.95912616, 5.06002616, 4.79179509, 6.35980522, 5.66609212,\n",
       "        5.47281379]))"
      ]
     },
     "execution_count": 12,
     "metadata": {},
     "output_type": "execute_result"
    }
   ],
   "source": [
    "np.mean(accuracies, axis=1), np.std(accuracies, axis=1)"
   ]
  },
  {
   "cell_type": "code",
   "execution_count": null,
   "id": "255d70f9-1824-4771-98c6-a7c1f44e84ca",
   "metadata": {},
   "outputs": [],
   "source": []
  }
 ],
 "metadata": {
  "kernelspec": {
   "display_name": "Python 3 (ipykernel)",
   "language": "python",
   "name": "python3"
  },
  "language_info": {
   "codemirror_mode": {
    "name": "ipython",
    "version": 3
   },
   "file_extension": ".py",
   "mimetype": "text/x-python",
   "name": "python",
   "nbconvert_exporter": "python",
   "pygments_lexer": "ipython3",
   "version": "3.9.21"
  }
 },
 "nbformat": 4,
 "nbformat_minor": 5
}
