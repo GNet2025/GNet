{
 "cells": [
  {
   "cell_type": "code",
   "execution_count": 1,
   "id": "4cab34a5-470a-4ef9-a53b-ca4f162fbc77",
   "metadata": {},
   "outputs": [],
   "source": [
    "import torch\n",
    "import torchvision\n",
    "import torchvision.transforms as transforms\n",
    "import PIL\n",
    "import torch.nn as nn\n",
    "import torch.nn.functional as F\n",
    "import numpy as np\n",
    "import torch.optim as optim\n",
    "import random\n",
    "\n",
    "from ConvBN import ConvBN as ConvBN\n",
    "from LinearBN import LinearBN"
   ]
  },
  {
   "cell_type": "code",
   "execution_count": 2,
   "id": "4f33668c-db76-4bee-b0c8-df89ea3975a9",
   "metadata": {},
   "outputs": [],
   "source": [
    "random.seed(42)\n",
    "np.random.seed(42)\n",
    "torch.manual_seed(42)\n",
    "torch.cuda.manual_seed_all(42)"
   ]
  },
  {
   "cell_type": "code",
   "execution_count": 3,
   "id": "7b89d4ea-df9a-44e0-a457-614c54abb89b",
   "metadata": {},
   "outputs": [],
   "source": [
    "transform = transforms.Compose([\n",
    "    transforms.ToTensor(),\n",
    "    transforms.Normalize((0.5,), (0.5,)) # Normalize with mean 0.5 and std 0.5\n",
    "])\n",
    "\n",
    "batch_size= 1500\n",
    "num_workers=2\n",
    "pin_memory=True\n",
    "\n",
    "g = torch.Generator()\n",
    "g.manual_seed(42)\n",
    "\n",
    "dataset = torchvision.datasets.MNIST(root='../Data', train=True, download=True, transform=transform)\n",
    "train_set, val_set = torch.utils.data.random_split(dataset, [58000, 2000])\n",
    "\n",
    "train_loader = torch.utils.data.DataLoader(train_set, batch_size=batch_size, shuffle=True, num_workers=num_workers, pin_memory=pin_memory, generator=g)\n",
    "val_loader = torch.utils.data.DataLoader(val_set, batch_size=batch_size, shuffle=False, num_workers=num_workers, pin_memory=pin_memory)\n",
    "\n",
    "test_set = torchvision.datasets.MNIST(root='../Data', train=False, download=True, transform=transform)\n",
    "test_loader = torch.utils.data.DataLoader(test_set, batch_size=batch_size, shuffle=False, num_workers=num_workers, pin_memory=pin_memory)\n"
   ]
  },
  {
   "cell_type": "code",
   "execution_count": 4,
   "id": "9b2e8b3d-3569-4db5-a7a4-66c193aa50ca",
   "metadata": {},
   "outputs": [
    {
     "name": "stdout",
     "output_type": "stream",
     "text": [
      "CUDA is available\n"
     ]
    }
   ],
   "source": [
    "if torch.cuda.is_available():\n",
    "    print(\"CUDA is available\")\n",
    "else:\n",
    "    print(\"CUDA is not available\")\n",
    "\n",
    "device = torch.device('cuda' if torch.cuda.is_available() else 'cpu')"
   ]
  },
  {
   "cell_type": "code",
   "execution_count": 5,
   "id": "0976ae0e-cf60-4c8b-a72b-9087c8a93353",
   "metadata": {},
   "outputs": [],
   "source": [
    "class LReLU(nn.Module):\n",
    "    def __init__(self):\n",
    "        super(LReLU, self).__init__()\n",
    "        self.alpha = nn.Parameter(torch.tensor(5.0)) \n",
    "    def forward(self, x):\n",
    "        return torch.nn.functional.relu(self.alpha*x)"
   ]
  },
  {
   "cell_type": "code",
   "execution_count": 6,
   "id": "01280536-9fbc-4cad-98c4-700d8bdcc574",
   "metadata": {},
   "outputs": [],
   "source": [
    "class Network(nn.Module):\n",
    "    def __init__(self):\n",
    "        super(Network, self).__init__()\n",
    "\n",
    "        self.conv1_out = 32\n",
    "        self.conv1_size = 5\n",
    "        self.conv1_padding = 2\n",
    "\n",
    "\n",
    "        self.conv2_out = 64\n",
    "        self.conv2_size = 5\n",
    "        self.conv2_padding = 2\n",
    "\n",
    "        self.fc1_out = 512\n",
    "        self.fc2_out = 10\n",
    "\n",
    "        self.q = 1e-6\n",
    "        self.bias_trick_par = nn.Parameter(torch.tensor(0.00005))\n",
    "\n",
    "        # First Convolutional Block\n",
    "\n",
    "        self.block1 = ConvBN(in_channels=1, out_channels=self.conv1_out, kernel_size=self.conv1_size, padding=self.conv1_padding, std_conv = .05, bias_par_init=0.001)\n",
    "        self.block2 = ConvBN(in_channels=self.conv1_out, out_channels=self.conv2_out, kernel_size=self.conv2_size, padding=self.conv2_padding, std_conv = .05, bias_par_init=0.01)\n",
    "       \n",
    "        self.block3 = LinearBN(in_features = self.conv2_out * (28//2//2) * (28//2//2), out_features=self.fc1_out, std_l=.3)\n",
    "        \n",
    "        \n",
    "        torch.manual_seed(0)\n",
    "        self.w2 = nn.Parameter(torch.randn(self.fc1_out, self.fc2_out))\n",
    "        nn.init.normal_(self.w2, mean=0.0, std=.6)\n",
    "\n",
    "        self.dropout = nn.Dropout(0.5)\n",
    "\n",
    "        self.relu = LReLU()\n",
    "\n",
    "\n",
    "\n",
    "\n",
    "    def forward(self, x):\n",
    "        \n",
    "        x = F.max_pool2d(self.relu(self.block1(x)), (2,2), padding=0)\n",
    "        x = F.max_pool2d(self.relu(self.block2(x)), (2,2), padding=0)\n",
    "        \n",
    "        x = x.view(x.size(0), -1)\n",
    "        \n",
    "        x = self.relu(self.block3(x))\n",
    "        x = self.dropout(x)\n",
    "\n",
    "        x = x + self.bias_trick_par\n",
    "        x_norm = x / (x.norm(p=2, dim=1, keepdim=True) + self.q)  # Normalize input x\n",
    "        w2_norm = self.w2 / (self.w2.norm(p=2, dim=1, keepdim=True) + self.q)  # Normalize weights\n",
    "        x = torch.matmul(x_norm, w2_norm) # Matrix multiplication \n",
    "\n",
    "        # Return raw logits (no softmax here, CrossEntropyLoss handles it)\n",
    "        return x\n",
    "\n",
    "    def custom_round(self, n):\n",
    "        remainder = n % 1000\n",
    "        base = n - remainder\n",
    "        if remainder >= 101:\n",
    "            return base + 1000\n",
    "        elif remainder <= 100:\n",
    "            return base\n",
    "            \n",
    "\n",
    "    def init_hdc(self, ratio, seed):\n",
    "        if not isinstance(ratio, (tuple)):\n",
    "            raise TypeError(\"ratio must be a tuple of size 3\")\n",
    "\n",
    "        if not isinstance(seed, (tuple)):\n",
    "            raise TypeError(\"seed must be a tuple of size 3\")\n",
    "        \n",
    "        self.block1.init_hdc(ratio = ratio[0], seed = seed[0])\n",
    "        self.block2.init_hdc(ratio = ratio[1], seed = seed[1])\n",
    "        self.block3.init_hdc(ratio = ratio[2], seed = seed[2])\n",
    "                \n",
    "        n_last = self.w2.size(0)\n",
    "        self.nHDC_last = int(self.custom_round(ratio[3] * n_last))\n",
    "        torch.manual_seed(seed[3])\n",
    "        self.g = (torch.randn(self.w2.size(0), self.nHDC_last, device=self.w2.device)).to(torch.half)\n",
    "        self.wg = torch.sign(torch.matmul(self.g.t(), self.w2.to(torch.half)))\n",
    "\n",
    "    def hdc(self, x):\n",
    "        x = F.max_pool2d(self.relu(self.block1.hdc(x)), (2,2), padding=0)\n",
    "        x = F.max_pool2d(self.relu(self.block2.hdc(x)), (2,2), padding=0)\n",
    "\n",
    "        x = x.view(x.size(0), -1)\n",
    "        x = self.relu(self.block3.hdc(x))\n",
    "\n",
    "        x = x + self.bias_trick_par\n",
    "        x = torch.sign(torch.matmul(x.to(torch.half), self.g))\n",
    "\n",
    "        return x\n",
    "        \n",
    "    def classification_layer(self, x):\n",
    "        x = x @ self.wg\n",
    "        return x\n"
   ]
  },
  {
   "cell_type": "code",
   "execution_count": 7,
   "id": "da8269bc-affa-4ce9-a47d-d8e3a14f786e",
   "metadata": {},
   "outputs": [
    {
     "name": "stderr",
     "output_type": "stream",
     "text": [
      "100%|██████████| 20/20 [02:08<00:00,  6.43s/it]\n"
     ]
    },
    {
     "name": "stdout",
     "output_type": "stream",
     "text": [
      "Block1: 5000, Block2: 5000, Block3: 5000 Classification Layer: 5000, Average Accuracy: 98.26%\n"
     ]
    },
    {
     "name": "stderr",
     "output_type": "stream",
     "text": [
      "100%|██████████| 20/20 [02:33<00:00,  7.67s/it]\n"
     ]
    },
    {
     "name": "stdout",
     "output_type": "stream",
     "text": [
      "Block1: 6000, Block2: 6000, Block3: 6000 Classification Layer: 6000, Average Accuracy: 98.44%\n"
     ]
    },
    {
     "name": "stderr",
     "output_type": "stream",
     "text": [
      "100%|██████████| 20/20 [02:58<00:00,  8.94s/it]\n"
     ]
    },
    {
     "name": "stdout",
     "output_type": "stream",
     "text": [
      "Block1: 7000, Block2: 7000, Block3: 7000 Classification Layer: 7000, Average Accuracy: 98.42%\n"
     ]
    },
    {
     "name": "stderr",
     "output_type": "stream",
     "text": [
      "100%|██████████| 20/20 [03:23<00:00, 10.18s/it]\n"
     ]
    },
    {
     "name": "stdout",
     "output_type": "stream",
     "text": [
      "Block1: 8000, Block2: 8000, Block3: 8000 Classification Layer: 8000, Average Accuracy: 98.55%\n"
     ]
    },
    {
     "name": "stderr",
     "output_type": "stream",
     "text": [
      "100%|██████████| 20/20 [03:49<00:00, 11.47s/it]\n"
     ]
    },
    {
     "name": "stdout",
     "output_type": "stream",
     "text": [
      "Block1: 9000, Block2: 9000, Block3: 9000 Classification Layer: 9000, Average Accuracy: 98.80%\n"
     ]
    },
    {
     "name": "stderr",
     "output_type": "stream",
     "text": [
      "100%|██████████| 20/20 [04:14<00:00, 12.72s/it]\n"
     ]
    },
    {
     "name": "stdout",
     "output_type": "stream",
     "text": [
      "Block1: 10000, Block2: 10000, Block3: 10000 Classification Layer: 10000, Average Accuracy: 98.86%\n"
     ]
    },
    {
     "name": "stderr",
     "output_type": "stream",
     "text": [
      "100%|██████████| 20/20 [04:39<00:00, 13.96s/it]\n"
     ]
    },
    {
     "name": "stdout",
     "output_type": "stream",
     "text": [
      "Block1: 11000, Block2: 11000, Block3: 11000 Classification Layer: 11000, Average Accuracy: 98.91%\n"
     ]
    },
    {
     "name": "stderr",
     "output_type": "stream",
     "text": [
      "100%|██████████| 20/20 [05:04<00:00, 15.23s/it]\n"
     ]
    },
    {
     "name": "stdout",
     "output_type": "stream",
     "text": [
      "Block1: 12000, Block2: 12000, Block3: 12000 Classification Layer: 11000, Average Accuracy: 98.85%\n"
     ]
    },
    {
     "name": "stderr",
     "output_type": "stream",
     "text": [
      "100%|██████████| 20/20 [05:29<00:00, 16.48s/it]\n"
     ]
    },
    {
     "name": "stdout",
     "output_type": "stream",
     "text": [
      "Block1: 13000, Block2: 13000, Block3: 13000 Classification Layer: 12000, Average Accuracy: 98.94%\n"
     ]
    },
    {
     "name": "stderr",
     "output_type": "stream",
     "text": [
      "100%|██████████| 20/20 [05:55<00:00, 17.75s/it]\n"
     ]
    },
    {
     "name": "stdout",
     "output_type": "stream",
     "text": [
      "Block1: 14000, Block2: 14000, Block3: 14000 Classification Layer: 13000, Average Accuracy: 99.04%\n"
     ]
    },
    {
     "name": "stderr",
     "output_type": "stream",
     "text": [
      "100%|██████████| 20/20 [06:19<00:00, 18.96s/it]"
     ]
    },
    {
     "name": "stdout",
     "output_type": "stream",
     "text": [
      "Block1: 15000, Block2: 15000, Block3: 15000 Classification Layer: 14000, Average Accuracy: 98.99%\n"
     ]
    },
    {
     "name": "stderr",
     "output_type": "stream",
     "text": [
      "\n"
     ]
    }
   ],
   "source": [
    "from tqdm import tqdm\n",
    "import time\n",
    "from torch.nn.parallel import data_parallel\n",
    "from torch.utils.data import Subset\n",
    "\n",
    "\n",
    "torch.cuda.empty_cache()\n",
    "model = Network().to(device)\n",
    "model.load_state_dict(torch.load('MNIST_GNet_Training_99.35.pth', weights_only = True))\n",
    "\n",
    "\n",
    "\n",
    "model.to(torch.half).to(device)\n",
    "model.eval()\n",
    "\n",
    "n_splits = 20\n",
    "split_size = len(test_set) // n_splits \n",
    "\n",
    "accuracies = np.zeros((11, n_splits))\n",
    "# scale = range\n",
    "scales = np.arange(0.5, 1.55, 0.1)\n",
    "hyperdims = np.zeros((len(scales), 4))\n",
    "for i, scale in enumerate(scales):\n",
    "    indices = list(range(len(test_set)))\n",
    "    # np.random.seed(42)\n",
    "    # np.random.shuffle(indices)\n",
    "    for split_idx in tqdm(range(n_splits)):\n",
    "        start_idx = split_idx * split_size\n",
    "        end_idx = start_idx + split_size\n",
    "        split_indices = indices[start_idx:end_idx]\n",
    "        split_subset = Subset(test_set, split_indices)\n",
    "        split_loader = torch.utils.data.DataLoader(split_subset, batch_size=3, shuffle=False,\n",
    "                                                   num_workers=num_workers, pin_memory=pin_memory)\n",
    "        ratio = (12, 1.15/6, 3, 18)\n",
    "        ratio = tuple(scale * r for r in ratio)\n",
    "        torch.manual_seed(split_idx+4)\n",
    "        random_seeds = tuple(torch.randint(0, 1000, (1,)).item() for _ in range(4))\n",
    "        torch.cuda.empty_cache()\n",
    "        \n",
    "        model.init_hdc(ratio, random_seeds)\n",
    "        hyperdims[i] = np.array([model.block1.nHDC, model.block2.nHDC, model.block3.nHDC, model.nHDC_last])\n",
    "        correct = 0\n",
    "        total = 0\n",
    "    \n",
    "        with torch.no_grad():\n",
    "            for images, labels in (split_loader):\n",
    "                images, labels = images.cuda(non_blocking=True), labels.cuda(non_blocking=True)\n",
    "                output = model.hdc(images.to(torch.half))\n",
    "                output = model.classification_layer(output.to(torch.half))\n",
    "                _, predicted = torch.max(output.data, 1)\n",
    "                total += labels.size(0)\n",
    "                correct += (predicted == labels).sum().item()\n",
    "    \n",
    "        acc = 100 * correct / total\n",
    "    \n",
    "        accuracies[i, split_idx] = acc\n",
    "    \n",
    "    print(f'Block1: {model.block1.nHDC}, Block2: {model.block2.nHDC}, Block3: {model.block3.nHDC} Classification Layer: {model.nHDC_last}, Average Accuracy: {np.mean(accuracies[i]):.2f}%')\n"
   ]
  },
  {
   "cell_type": "code",
   "execution_count": 8,
   "id": "5360de05-be62-4ecc-8a51-f5cf70550bc7",
   "metadata": {},
   "outputs": [
    {
     "name": "stdout",
     "output_type": "stream",
     "text": [
      "[98.26 98.44 98.42 98.55 98.8  98.86 98.91 98.85 98.94 99.04 98.99]\n",
      "[ 5000.  6000.  7000.  8000.  9000. 10000. 11000. 11750. 12750. 13750.\n",
      " 14750.]\n"
     ]
    }
   ],
   "source": [
    "print(np.mean(accuracies, axis=1))\n",
    "print(np.mean(hyperdims, axis=1))"
   ]
  },
  {
   "cell_type": "code",
   "execution_count": 10,
   "id": "7cac83af-59ad-4576-bf3f-459d14b9fb7f",
   "metadata": {},
   "outputs": [],
   "source": [
    "from scipy.io import savemat\n",
    "savemat('MNIST_EHDGNet.mat', {'MNIST_EHDGNet': accuracies})\n",
    "savemat('MNIST_nHD.mat', {'MNIST_nHDC': hyperdims})"
   ]
  },
  {
   "cell_type": "code",
   "execution_count": null,
   "id": "e0f2228b-2303-4515-9d95-04ec184c6281",
   "metadata": {},
   "outputs": [],
   "source": []
  }
 ],
 "metadata": {
  "kernelspec": {
   "display_name": "Python 3 (ipykernel)",
   "language": "python",
   "name": "python3"
  },
  "language_info": {
   "codemirror_mode": {
    "name": "ipython",
    "version": 3
   },
   "file_extension": ".py",
   "mimetype": "text/x-python",
   "name": "python",
   "nbconvert_exporter": "python",
   "pygments_lexer": "ipython3",
   "version": "3.9.21"
  }
 },
 "nbformat": 4,
 "nbformat_minor": 5
}
