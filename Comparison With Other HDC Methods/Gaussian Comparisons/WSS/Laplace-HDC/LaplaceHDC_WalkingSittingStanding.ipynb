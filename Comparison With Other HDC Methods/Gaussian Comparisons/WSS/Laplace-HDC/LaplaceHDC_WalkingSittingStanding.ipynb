{
 "cells": [
  {
   "cell_type": "code",
   "execution_count": 1,
   "id": "5313fb15-eb86-45b6-8e3d-16f365c11986",
   "metadata": {},
   "outputs": [],
   "source": [
    "from aeon.datasets import load_classification\n",
    "from sklearn.preprocessing import StandardScaler, LabelEncoder\n",
    "from sklearn.model_selection import GridSearchCV\n",
    "from sklearn.metrics import accuracy_score\n",
    "import numpy as np\n",
    "import torch\n",
    "import torch.nn as nn\n",
    "import torch.nn.functional as F\n",
    "import torch.optim as optim\n",
    "from torch.utils.data import TensorDataset, DataLoader\n",
    "from torchvision import datasets, transforms\n",
    "from torch.utils.data import DataLoader, Subset\n",
    "from laplace_hdc_helper import load_dataset\n",
    "from laplace_hdc_classifier_1d import train_hdc_classifier, test_hdc_classifier\n",
    "from laplace_hdc_encoder_1d import hdc_encoder\n",
    "import matplotlib.pyplot as plt\n",
    "import numpy as np\n",
    "import time\n",
    "from tqdm import tqdm\n",
    "from scipy.io import savemat, loadmat\n"
   ]
  },
  {
   "cell_type": "code",
   "execution_count": 2,
   "id": "a901ee10-b6fe-49c5-9eca-d50a045e20c6",
   "metadata": {},
   "outputs": [
    {
     "data": {
      "text/plain": [
       "array([[ 6000.,  7000.,  7000.],\n",
       "       [ 7000.,  8000.,  8000.],\n",
       "       [ 8000.,  9000.,  9000.],\n",
       "       [ 9000., 11000., 10000.],\n",
       "       [10000., 12000., 11000.],\n",
       "       [11000., 13000., 13000.],\n",
       "       [12000., 15000., 14000.],\n",
       "       [13000., 16000., 15000.],\n",
       "       [14000., 17000., 16000.],\n",
       "       [15000., 18000., 18000.],\n",
       "       [16000., 20000., 19000.]])"
      ]
     },
     "execution_count": 2,
     "metadata": {},
     "output_type": "execute_result"
    }
   ],
   "source": [
    "device = torch.device(\"cuda:0\" if torch.cuda.is_available() else \"cpu\")\n",
    "dataset_name = 'WalkingSittingStanding'\n",
    "try:\n",
    "    NHDC = loadmat(f'../{dataset_name}_nHD.mat')[f'{dataset_name}_nHD']\n",
    "except:\n",
    "    NHDC = range(1000, 5500, 500)\n",
    "    \n",
    "NHDC"
   ]
  },
  {
   "cell_type": "code",
   "execution_count": 3,
   "id": "d1a4d47a-0a55-4cb9-a10a-3ad62bba69f6",
   "metadata": {},
   "outputs": [],
   "source": [
    "# Load dataset\n",
    "X_train, y_train, metadata = load_classification(dataset_name, return_metadata=True, split='train')\n",
    "X_test, y_test = load_classification(dataset_name, split='test')\n",
    "if X_train.shape[0] < 200:\n",
    "    if X_test.shape[0] >= 200:\n",
    "        train_size = (X_train.shape[0] + X_test.shape[0]) * 3/4\n",
    "        x, y = load_classification(dataset_name)\n",
    "        X_train, y_train = x[:train_size, :], y[:train_size]\n",
    "        X_test, y_test = x[train_size:, :], y[train_size:]"
   ]
  },
  {
   "cell_type": "code",
   "execution_count": 4,
   "id": "3d5c451a-73f2-4109-b9cd-800e8abbe294",
   "metadata": {},
   "outputs": [],
   "source": [
    "input_channels = 1\n",
    "if X_train.ndim == 3:\n",
    "    input_channels = X_train.shape[1]\n",
    "seq_length = X_train.shape[-1]\n",
    "if y_train.dtype == object or isinstance(y_train[0], str):\n",
    "    le = LabelEncoder()\n",
    "    y_train = le.fit_transform(y_train)\n",
    "    y_test = le.transform(y_test)"
   ]
  },
  {
   "cell_type": "code",
   "execution_count": 5,
   "id": "573f76dc-06eb-488c-aa26-ceccf10d71ba",
   "metadata": {},
   "outputs": [
    {
     "data": {
      "text/plain": [
       "(7352, 3, 206)"
      ]
     },
     "execution_count": 5,
     "metadata": {},
     "output_type": "execute_result"
    }
   ],
   "source": [
    "X_train.shape"
   ]
  },
  {
   "cell_type": "code",
   "execution_count": 6,
   "id": "7de6908a-4c6e-4d70-af89-9ebc3a1f7502",
   "metadata": {},
   "outputs": [],
   "source": [
    "scaler = StandardScaler()\n",
    "X_train_scaled = scaler.fit_transform(X_train.reshape(-1, seq_length))\n",
    "X_test_scaled = scaler.transform(X_test.reshape(-1, seq_length))\n",
    "\n",
    "if input_channels == 1:\n",
    "    X_min = X_train_scaled.min(axis=0)\n",
    "    X_max = X_train_scaled.max(axis=0)\n",
    "    \n",
    "    denom = (X_max - X_min)\n",
    "    denom[denom == 0] = 1   # avoid division by zero\n",
    "    \n",
    "    X_train_norm = (X_train_scaled - X_min) / denom\n",
    "    X_test_norm  = (X_test_scaled  - X_min) / denom\n",
    "    \n",
    "    # Optional: clip to [0,1] just in case\n",
    "    X_train_norm = np.clip(X_train_norm, 0, 1)\n",
    "    X_test_norm  = np.clip(X_test_norm, 0, 1)\n",
    "    X_train_tensor = torch.tensor(X_train_norm, dtype=torch.float32).unsqueeze(1).to(device)\n",
    "    X_test_tensor = torch.tensor(X_test_norm, dtype=torch.float32).unsqueeze(1).to(device)\n",
    "else:\n",
    "    X_min = X_train.min(axis=0)\n",
    "    X_max = X_train.max(axis=0)\n",
    "    \n",
    "    denom = (X_max - X_min)\n",
    "    denom[denom == 0] = 1   # avoid division by zero\n",
    "    \n",
    "    X_train_norm = (X_train - X_min) / denom\n",
    "    X_test_norm  = (X_test  - X_min) / denom\n",
    "    \n",
    "    # Optional: clip to [0,1] just in case\n",
    "    X_train_norm = np.clip(X_train_norm, 0, 1)\n",
    "    X_test_norm  = np.clip(X_test_norm, 0, 1)\n",
    "    # Multichannel → keep original channels\n",
    "    X_train_tensor = torch.tensor(X_train_norm, dtype=torch.float32).to(device)\n",
    "    X_test_tensor = torch.tensor(X_test_norm, dtype=torch.float32).to(device)\n",
    "\n",
    "    "
   ]
  },
  {
   "cell_type": "code",
   "execution_count": 7,
   "id": "2c3c27da-d1f2-4edd-b5cb-07e1e1db086e",
   "metadata": {},
   "outputs": [],
   "source": [
    "y_train_tensor = torch.tensor(y_train, dtype=torch.long).to(device)\n",
    "y_test_tensor = torch.tensor(y_test, dtype=torch.long).to(device)\n",
    "\n",
    "train_data = TensorDataset(X_train_tensor, y_train_tensor)\n",
    "test_data = TensorDataset(X_test_tensor, y_test_tensor)\n",
    "train_loader = DataLoader(train_data, batch_size=32, shuffle=True)\n",
    "test_loader = DataLoader(test_data, batch_size=32, shuffle=False)\n",
    "\n",
    "num_classes = len(np.unique(y_train))"
   ]
  },
  {
   "cell_type": "code",
   "execution_count": 8,
   "id": "e364a93c-7d57-437d-a789-57b09c58ef9b",
   "metadata": {},
   "outputs": [
    {
     "data": {
      "text/plain": [
       "(tensor(0., device='cuda:0'),\n",
       " tensor(1., device='cuda:0'),\n",
       " array([0, 1, 2, 3, 4, 5]))"
      ]
     },
     "execution_count": 8,
     "metadata": {},
     "output_type": "execute_result"
    }
   ],
   "source": [
    "torch.min(X_test_tensor), torch.max(X_test_tensor), np.unique(y_train)"
   ]
  },
  {
   "cell_type": "code",
   "execution_count": 9,
   "id": "8c7e9a74-8141-4f7a-8a00-f571408643e9",
   "metadata": {},
   "outputs": [
    {
     "name": "stdout",
     "output_type": "stream",
     "text": [
      "lambda = 0.06277484446763992\n",
      "618\n"
     ]
    },
    {
     "data": {
      "image/png": "[encoded data removed]",
      "text/plain": [
       "<Figure size 640x480 with 1 Axes>"
      ]
     },
     "metadata": {},
     "output_type": "display_data"
    }
   ],
   "source": [
    "# Determining Lambda from random 1000 samples\n",
    "bandwidth_parameter = 3 # bandwidth parameter\n",
    "encoder_mode = 'shift_1d'\n",
    "classifier_mode=\"float_sgd\"\n",
    "batch_size = 1024\n",
    "num_colors = 128\n",
    "\n",
    "X,  _ = next(iter(DataLoader(train_data, batch_size=1000, shuffle=True)))\n",
    "X = X.reshape(X.shape[0],-1).cpu()\n",
    "\n",
    "D = torch.sum(torch.abs(X.unsqueeze(0)-X.unsqueeze(1)),dim=2)\n",
    "a = torch.median(D.flatten())\n",
    "lmd = bandwidth_parameter/a\n",
    "print(f\"lambda = {lmd}\")\n",
    "\n",
    "# Define the local kernel\n",
    "x = np.linspace(0, 1, num=num_colors).reshape(-1, 1)\n",
    "f = lambda X: 1 - lmd*X\n",
    "kernel = f(np.abs(x - x.T))\n",
    "\n",
    "# Visualize the global kernel\n",
    "d = train_data[0][0].squeeze().numel()\n",
    "print(d)\n",
    "S = lambda v: np.exp(-lmd*v)\n",
    "v = np.linspace(0, d)\n",
    "plt.plot(v, S(v))\n",
    "plt.title(f\"Kernel K for d={d} and num_colors = {num_colors}\")\n",
    "plt.show()"
   ]
  },
  {
   "cell_type": "code",
   "execution_count": 10,
   "id": "f8dd066d-305b-4367-9da6-ea45bf09e626",
   "metadata": {},
   "outputs": [
    {
     "data": {
      "text/plain": [
       "array([ 6666,  7666,  8666, 10000, 11000, 12333, 13666, 14666, 15666,\n",
       "       17000, 18333])"
      ]
     },
     "execution_count": 10,
     "metadata": {},
     "output_type": "execute_result"
    }
   ],
   "source": [
    "hyperdims = np.mean(NHDC, axis=1, dtype=int)\n",
    "hyperdims"
   ]
  },
  {
   "cell_type": "code",
   "execution_count": 11,
   "id": "585e1fd5-8e41-4d63-a936-455aced4b703",
   "metadata": {},
   "outputs": [
    {
     "name": "stdout",
     "output_type": "stream",
     "text": [
      "147\n",
      "Hyperdimension: 6666 Started --------------\n"
     ]
    },
    {
     "name": "stderr",
     "output_type": "stream",
     "text": [
      "100%|██████████| 20/20 [03:50<00:00, 11.52s/it]\n"
     ]
    },
    {
     "name": "stdout",
     "output_type": "stream",
     "text": [
      "Hyperdimension: 6666 Finished. Average Accuracy over 20 rounds: 74.62585034013605, std: 2.626766609021472\n",
      "Hyperdimension: 7666 Started --------------\n"
     ]
    },
    {
     "name": "stderr",
     "output_type": "stream",
     "text": [
      "100%|██████████| 20/20 [03:51<00:00, 11.56s/it]\n"
     ]
    },
    {
     "name": "stdout",
     "output_type": "stream",
     "text": [
      "Hyperdimension: 7666 Finished. Average Accuracy over 20 rounds: 76.156462585034, std: 2.6650262204012125\n",
      "Hyperdimension: 8666 Started --------------\n"
     ]
    },
    {
     "name": "stderr",
     "output_type": "stream",
     "text": [
      "100%|██████████| 20/20 [03:52<00:00, 11.65s/it]\n"
     ]
    },
    {
     "name": "stdout",
     "output_type": "stream",
     "text": [
      "Hyperdimension: 8666 Finished. Average Accuracy over 20 rounds: 74.76190476190479, std: 3.2332611260724207\n",
      "Hyperdimension: 10000 Started --------------\n"
     ]
    },
    {
     "name": "stderr",
     "output_type": "stream",
     "text": [
      "100%|██████████| 20/20 [03:58<00:00, 11.94s/it]\n"
     ]
    },
    {
     "name": "stdout",
     "output_type": "stream",
     "text": [
      "Hyperdimension: 10000 Finished. Average Accuracy over 20 rounds: 74.79591836734694, std: 2.913876315432293\n",
      "Hyperdimension: 11000 Started --------------\n"
     ]
    },
    {
     "name": "stderr",
     "output_type": "stream",
     "text": [
      "100%|██████████| 20/20 [03:59<00:00, 11.99s/it]\n"
     ]
    },
    {
     "name": "stdout",
     "output_type": "stream",
     "text": [
      "Hyperdimension: 11000 Finished. Average Accuracy over 20 rounds: 76.56462585034012, std: 2.647604715022975\n",
      "Hyperdimension: 12333 Started --------------\n"
     ]
    },
    {
     "name": "stderr",
     "output_type": "stream",
     "text": [
      "100%|██████████| 20/20 [04:02<00:00, 12.14s/it]\n"
     ]
    },
    {
     "name": "stdout",
     "output_type": "stream",
     "text": [
      "Hyperdimension: 12333 Finished. Average Accuracy over 20 rounds: 76.36054421768708, std: 3.1015857763874792\n",
      "Hyperdimension: 13666 Started --------------\n"
     ]
    },
    {
     "name": "stderr",
     "output_type": "stream",
     "text": [
      "100%|██████████| 20/20 [04:07<00:00, 12.38s/it]\n"
     ]
    },
    {
     "name": "stdout",
     "output_type": "stream",
     "text": [
      "Hyperdimension: 13666 Finished. Average Accuracy over 20 rounds: 75.13605442176872, std: 2.6124131890234574\n",
      "Hyperdimension: 14666 Started --------------\n"
     ]
    },
    {
     "name": "stderr",
     "output_type": "stream",
     "text": [
      "100%|██████████| 20/20 [04:06<00:00, 12.35s/it]\n"
     ]
    },
    {
     "name": "stdout",
     "output_type": "stream",
     "text": [
      "Hyperdimension: 14666 Finished. Average Accuracy over 20 rounds: 76.70068027210884, std: 2.8931565710654077\n",
      "Hyperdimension: 15666 Started --------------\n"
     ]
    },
    {
     "name": "stderr",
     "output_type": "stream",
     "text": [
      "100%|██████████| 20/20 [04:09<00:00, 12.48s/it]\n"
     ]
    },
    {
     "name": "stdout",
     "output_type": "stream",
     "text": [
      "Hyperdimension: 15666 Finished. Average Accuracy over 20 rounds: 75.27210884353742, std: 2.7319087587693907\n",
      "Hyperdimension: 17000 Started --------------\n"
     ]
    },
    {
     "name": "stderr",
     "output_type": "stream",
     "text": [
      "100%|██████████| 20/20 [04:13<00:00, 12.70s/it]\n"
     ]
    },
    {
     "name": "stdout",
     "output_type": "stream",
     "text": [
      "Hyperdimension: 17000 Finished. Average Accuracy over 20 rounds: 75.27210884353742, std: 3.8976386234253617\n",
      "Hyperdimension: 18333 Started --------------\n"
     ]
    },
    {
     "name": "stderr",
     "output_type": "stream",
     "text": [
      "100%|██████████| 20/20 [04:17<00:00, 12.86s/it]"
     ]
    },
    {
     "name": "stdout",
     "output_type": "stream",
     "text": [
      "Hyperdimension: 18333 Finished. Average Accuracy over 20 rounds: 74.35374149659866, std: 2.609089647723142\n"
     ]
    },
    {
     "name": "stderr",
     "output_type": "stream",
     "text": [
      "\n"
     ]
    }
   ],
   "source": [
    "num_workers = 0\n",
    "pin_memory=False\n",
    "n_splits = 20\n",
    "split_size = len(test_data) // n_splits # 10000 // 20 = 500scales = np.arange(0.2, 1.21, 0.1)\n",
    "print(split_size)\n",
    "accuracies = np.zeros((len(hyperdims), n_splits))\n",
    "num_classes=len(np.unique(y_train))\n",
    "for i, nHDC in enumerate(hyperdims):\n",
    "    print(f'Hyperdimension: {nHDC} Started --------------')\n",
    "    # Train\n",
    "    for split_idx in tqdm(range(n_splits)):\n",
    "        indices = list(range(len(test_data)))\n",
    "        np.random.shuffle(indices)  # or random.shuffle(indices)\n",
    "        start_idx = split_idx * split_size\n",
    "        end_idx = start_idx + split_size\n",
    "        split_indices = indices[start_idx:end_idx]\n",
    "        split_subset = Subset(test_data, split_indices)\n",
    "        split_loader = torch.utils.data.DataLoader(split_subset, batch_size=256, shuffle=False,\n",
    "                                                   num_workers=num_workers, pin_memory=pin_memory)\n",
    "        encoder = hdc_encoder(d, nHDC, kernel, encoder_mode)\n",
    "        train_hdc = encoder.encode(train_loader)\n",
    "        train_loader_hdc = DataLoader(train_hdc,batch_size=512,shuffle=True,num_workers=0,pin_memory=False)\n",
    "        model = train_hdc_classifier(train_loader_hdc, num_classes, mode=classifier_mode, epochs=10)\n",
    "        # print(f'Encoding Train Data and Training the Model for nHDC={nHDC} finished')\n",
    "        # Test\n",
    "        split_hdc = encoder.encode(split_loader)\n",
    "        split_loader_hdc = DataLoader(\n",
    "            split_hdc,\n",
    "            batch_size=64,\n",
    "            shuffle=True,\n",
    "            num_workers=0,\n",
    "            pin_memory=False\n",
    "        )\n",
    "        accuracies[i, split_idx] = test_hdc_classifier(model, split_loader_hdc)*100\n",
    "    print(f'Hyperdimension: {nHDC} Finished. Average Accuracy over {n_splits} rounds: {np.mean(accuracies[i])}, std: {np.std(accuracies[i])}')\n"
   ]
  },
  {
   "cell_type": "code",
   "execution_count": 12,
   "id": "c8fe6fd1-c03a-4457-8ed6-bd13fdb08aae",
   "metadata": {},
   "outputs": [
    {
     "data": {
      "text/plain": [
       "array([74.62585034, 76.15646259, 74.76190476, 74.79591837, 76.56462585,\n",
       "       76.36054422, 75.13605442, 76.70068027, 75.27210884, 75.27210884,\n",
       "       74.3537415 ])"
      ]
     },
     "execution_count": 12,
     "metadata": {},
     "output_type": "execute_result"
    }
   ],
   "source": [
    "np.mean(accuracies, axis=1)"
   ]
  },
  {
   "cell_type": "code",
   "execution_count": 13,
   "id": "9751af42-a42f-4e15-8643-59bed0355ba0",
   "metadata": {},
   "outputs": [],
   "source": [
    "savemat(f'{dataset_name}_LaplaceHDC.mat', {f'{dataset_name}_LaplaceHDC': accuracies})"
   ]
  },
  {
   "cell_type": "code",
   "execution_count": null,
   "id": "ca712900-e64d-493b-ae3b-3dc2202960e1",
   "metadata": {},
   "outputs": [],
   "source": []
  },
  {
   "cell_type": "code",
   "execution_count": null,
   "id": "6dd72f71-c9b9-4e2c-ae5c-d9b71e896068",
   "metadata": {},
   "outputs": [],
   "source": []
  }
 ],
 "metadata": {
  "kernelspec": {
   "display_name": "Python 3 (ipykernel)",
   "language": "python",
   "name": "python3"
  },
  "language_info": {
   "codemirror_mode": {
    "name": "ipython",
    "version": 3
   },
   "file_extension": ".py",
   "mimetype": "text/x-python",
   "name": "python",
   "nbconvert_exporter": "python",
   "pygments_lexer": "ipython3",
   "version": "3.9.21"
  }
 },
 "nbformat": 4,
 "nbformat_minor": 5
}
