{
 "cells": [
  {
   "cell_type": "code",
   "execution_count": 1,
   "id": "4cab34a5-470a-4ef9-a53b-ca4f162fbc77",
   "metadata": {},
   "outputs": [],
   "source": [
    "import torch\n",
    "import torchvision\n",
    "import torchvision.transforms as transforms\n",
    "import PIL\n",
    "import torch.nn as nn\n",
    "import torch.nn.functional as F\n",
    "import numpy as np\n",
    "import torch.optim as optim\n",
    "\n",
    "from ConvBN import ConvBN as ConvBN_BiasTrick\n",
    "from LinearBN import LinearBN\n",
    "from scipy.io import loadmat, savemat"
   ]
  },
  {
   "cell_type": "code",
   "execution_count": 2,
   "id": "0976ae0e-cf60-4c8b-a72b-9087c8a93353",
   "metadata": {},
   "outputs": [],
   "source": [
    "class LReLU(nn.Module):\n",
    "    def __init__(self):\n",
    "        super(LReLU, self).__init__()\n",
    "        self.alpha = nn.Parameter(torch.tensor(5.0)) \n",
    "    def forward(self, x):\n",
    "        return torch.nn.functional.relu(self.alpha*x)"
   ]
  },
  {
   "cell_type": "code",
   "execution_count": 3,
   "id": "7b89d4ea-df9a-44e0-a457-614c54abb89b",
   "metadata": {},
   "outputs": [
    {
     "name": "stdout",
     "output_type": "stream",
     "text": [
      "Files already downloaded and verified\n",
      "Files already downloaded and verified\n"
     ]
    }
   ],
   "source": [
    "train_transform = transforms.Compose(\n",
    "    [transforms.RandomHorizontalFlip(p=0.5),\n",
    "     transforms.RandomAffine(degrees=(-5, 5), translate=(0.1, 0.1), scale=(0.9, 1.1)),\n",
    "     transforms.ToTensor(),\n",
    "     transforms.Normalize((0.5, 0.5, 0.5), (0.5, 0.5, 0.5))])\n",
    "\n",
    "test_transform = transforms.Compose(\n",
    "    [transforms.ToTensor(),\n",
    "     transforms.Normalize((0.5, 0.5, 0.5), (0.5, 0.5, 0.5))])\n",
    "\n",
    "batch_size= 10000\n",
    "num_workers=2\n",
    "pin_memory=True\n",
    "\n",
    "train_set = torchvision.datasets.CIFAR10(root='../Data', train=True, download=True, transform=train_transform)\n",
    "\n",
    "train_loader = torch.utils.data.DataLoader(train_set, batch_size=batch_size, shuffle=True, num_workers=num_workers, pin_memory=pin_memory)\n",
    "\n",
    "test_set = torchvision.datasets.CIFAR10(root='../Data', train=False, download=True, transform=test_transform)\n",
    "test_loader = torch.utils.data.DataLoader(test_set, batch_size=batch_size, shuffle=False, num_workers=num_workers, pin_memory=pin_memory)\n"
   ]
  },
  {
   "cell_type": "code",
   "execution_count": 4,
   "id": "9b2e8b3d-3569-4db5-a7a4-66c193aa50ca",
   "metadata": {},
   "outputs": [
    {
     "name": "stdout",
     "output_type": "stream",
     "text": [
      "CUDA is available\n"
     ]
    }
   ],
   "source": [
    "if torch.cuda.is_available():\n",
    "    print(\"CUDA is available\")\n",
    "else:\n",
    "    print(\"CUDA is not available\")\n",
    "\n",
    "device = torch.device('cuda' if torch.cuda.is_available() else 'cpu')"
   ]
  },
  {
   "cell_type": "code",
   "execution_count": 6,
   "id": "01280536-9fbc-4cad-98c4-700d8bdcc574",
   "metadata": {},
   "outputs": [],
   "source": [
    "class Network(nn.Module):\n",
    "    def __init__(self):\n",
    "        super(Network, self).__init__()\n",
    "\n",
    "        self.in_dim = 3\n",
    "        self.conv1_out = 32\n",
    "        self.conv1_size = 5\n",
    "        self.conv1_padding = 2\n",
    "\n",
    "\n",
    "        self.conv2_out = 64\n",
    "        self.conv2_size = 3\n",
    "        self.conv2_padding = 1\n",
    "\n",
    "        self.fc1_out = 512\n",
    "        self.fc2_out = 10\n",
    "\n",
    "        self.q = 1e-6\n",
    "        self.bias_trick_par = nn.Parameter(torch.tensor(0.00005))\n",
    "\n",
    "        # First Convolutional Block\n",
    "\n",
    "        self.block1 = ConvBN_BiasTrick(in_channels=self.in_dim, out_channels=self.conv1_out,\n",
    "                             kernel_size=self.conv1_size, padding=self.conv1_padding, std = .1, seed=100) # To change the seed ================\n",
    "        # Second Convolutional Block\n",
    "\n",
    "        self.block2 = ConvBN_BiasTrick(in_channels=self.conv1_out, out_channels=self.conv2_out,\n",
    "                 kernel_size=3, stride=1, padding=1, std = .05, seed=200) # To change the seed ====================================\n",
    "       \n",
    "        self.block3 = LinearBN(in_features = self.conv2_out * (32//2 //2) * (32//2 //2), \n",
    "                                         out_features=self.fc1_out, seed=300) # To change the seed ================================\n",
    "        \n",
    "        \n",
    "        self.w2 = nn.Parameter(torch.randn(self.fc1_out, self.fc2_out))\n",
    "        nn.init.normal_(self.w2, mean=0.0, std=.6)\n",
    "\n",
    "        self.dropout = nn.Dropout(0.5)\n",
    "        self.dropout2d = nn.Dropout2d(0.3)\n",
    "\n",
    "        self.relu = LReLU()\n",
    "\n",
    "    def custom_round(self, n):\n",
    "        remainder = n % 1000\n",
    "        base = n - remainder\n",
    "        if remainder >= 101:\n",
    "            return base + 1000\n",
    "        elif remainder <= 100:\n",
    "            return base\n",
    "            \n",
    "\n",
    "    def forward(self, x):\n",
    "        \n",
    "        x = F.max_pool2d(self.relu(self.block1(x)), (2,2), padding=0)\n",
    "        x = F.max_pool2d(self.relu(self.block2(x)), (2,2), padding=0)\n",
    "        x = self.dropout2d(x)\n",
    "        x = x.view(x.size(0), -1)\n",
    "        \n",
    "        x = self.relu(self.block3(x))\n",
    "\n",
    "        x = x + self.bias_trick_par\n",
    "        x_norm = x / (x.norm(p=2, dim=1, keepdim=True) + self.q)  # Normalize input x\n",
    "        w2_norm = self.w2 / (self.w2.norm(p=2, dim=1, keepdim=True) + self.q)  # Normalize weights\n",
    "        x = torch.matmul(x_norm, w2_norm) # Matrix multiplication \n",
    "\n",
    "        # Return raw logits (no softmax here, CrossEntropyLoss handles it)\n",
    "        return x\n",
    "\n",
    "    def init_hd(self, ratio, seed):\n",
    "        if not isinstance(ratio, (tuple, int)):\n",
    "            raise TypeError(\"ratio must be a tuple of size 3 or and integer\")\n",
    "\n",
    "        elif isinstance(ratio, (int)):\n",
    "            ratio = (ratio, ratio, ratio, ratio)\n",
    "            \n",
    "        if not isinstance(seed, (tuple)):\n",
    "            raise TypeError(\"seed must be a tuple of size 3\")\n",
    "        \n",
    "        self.block1.init_hd(ratio = ratio[0], seed = seed[0])\n",
    "        self.block2.init_hd(ratio = ratio[1], seed = seed[1])\n",
    "        self.block3.init_hd(ratio = ratio[2], seed = seed[2])\n",
    "\n",
    "        torch.manual_seed(400) # To change the seed ========================================================\n",
    "        \n",
    "        n_last = self.w2.size(0)\n",
    "        self.nHD_last = int(self.custom_round(ratio[3] * n_last)) if ratio[3]<1000 else int(ratio[3])\n",
    "        torch.manual_seed(seed[3])\n",
    "        self.g = (torch.randn(self.w2.size(0), self.nHD_last, device=self.w2.device)).to(torch.half)\n",
    "        self.wg = torch.sign(torch.matmul(self.g.t(), self.w2.to(torch.half)))\n",
    "\n",
    "        # print(f'Block1: {self.block1.nHD}, Block2: {self.block2.nHD}, Block3: {self.block3.nHD}, Classification Layer: {nHD_last}')\n",
    "\n",
    "    def hd(self, x):\n",
    "        x = F.max_pool2d(self.relu(self.block1.hd(x)), (2,2), padding=0)\n",
    "        x = F.max_pool2d(self.relu(self.block2.hd(x)), (2,2), padding=0)\n",
    "\n",
    "        x = x.view(x.size(0), -1)\n",
    "        x = self.relu(self.block3.hd(x))\n",
    "\n",
    "        x = x + self.bias_trick_par\n",
    "        x = torch.sign(torch.matmul(x.to(torch.half), self.g))\n",
    "\n",
    "        return x\n",
    "        \n",
    "    def classification_layer(self, x):\n",
    "        x = x @ self.wg\n",
    "        return x\n"
   ]
  },
  {
   "cell_type": "code",
   "execution_count": 7,
   "id": "28b913e3-19d0-4886-b6c0-d54c78f6745a",
   "metadata": {},
   "outputs": [
    {
     "name": "stderr",
     "output_type": "stream",
     "text": [
      "100%|██████████| 20/20 [07:07<00:00, 21.38s/it]\n"
     ]
    },
    {
     "name": "stdout",
     "output_type": "stream",
     "text": [
      "Block1: 22000, Block2: 11000, Block3: 24000 Classification Layer: 3000, Average Accuracy: 77.32%\n"
     ]
    },
    {
     "name": "stderr",
     "output_type": "stream",
     "text": [
      "100%|██████████| 20/20 [08:09<00:00, 24.46s/it]\n"
     ]
    },
    {
     "name": "stdout",
     "output_type": "stream",
     "text": [
      "Block1: 25000, Block2: 13000, Block3: 27000 Classification Layer: 4000, Average Accuracy: 78.31%\n"
     ]
    },
    {
     "name": "stderr",
     "output_type": "stream",
     "text": [
      "100%|██████████| 20/20 [09:02<00:00, 27.13s/it]\n"
     ]
    },
    {
     "name": "stdout",
     "output_type": "stream",
     "text": [
      "Block1: 28000, Block2: 14000, Block3: 30000 Classification Layer: 4000, Average Accuracy: 79.36%\n"
     ]
    },
    {
     "name": "stderr",
     "output_type": "stream",
     "text": [
      "100%|██████████| 20/20 [10:05<00:00, 30.27s/it]\n"
     ]
    },
    {
     "name": "stdout",
     "output_type": "stream",
     "text": [
      "Block1: 31000, Block2: 16000, Block3: 33000 Classification Layer: 5000, Average Accuracy: 79.51%\n"
     ]
    },
    {
     "name": "stderr",
     "output_type": "stream",
     "text": [
      "100%|██████████| 20/20 [10:59<00:00, 32.96s/it]\n"
     ]
    },
    {
     "name": "stdout",
     "output_type": "stream",
     "text": [
      "Block1: 34000, Block2: 17000, Block3: 37000 Classification Layer: 5000, Average Accuracy: 80.22%\n"
     ]
    },
    {
     "name": "stderr",
     "output_type": "stream",
     "text": [
      "100%|██████████| 20/20 [11:48<00:00, 35.41s/it]\n"
     ]
    },
    {
     "name": "stdout",
     "output_type": "stream",
     "text": [
      "Block1: 36000, Block2: 19000, Block3: 40000 Classification Layer: 6000, Average Accuracy: 79.66%\n"
     ]
    },
    {
     "name": "stderr",
     "output_type": "stream",
     "text": [
      "100%|██████████| 20/20 [12:38<00:00, 37.92s/it]\n"
     ]
    },
    {
     "name": "stdout",
     "output_type": "stream",
     "text": [
      "Block1: 39000, Block2: 20000, Block3: 43000 Classification Layer: 6000, Average Accuracy: 80.12%\n"
     ]
    },
    {
     "name": "stderr",
     "output_type": "stream",
     "text": [
      "100%|██████████| 20/20 [13:40<00:00, 41.03s/it]\n"
     ]
    },
    {
     "name": "stdout",
     "output_type": "stream",
     "text": [
      "Block1: 42000, Block2: 22000, Block3: 46000 Classification Layer: 6000, Average Accuracy: 80.78%\n"
     ]
    },
    {
     "name": "stderr",
     "output_type": "stream",
     "text": [
      "100%|██████████| 20/20 [14:33<00:00, 43.68s/it]\n"
     ]
    },
    {
     "name": "stdout",
     "output_type": "stream",
     "text": [
      "Block1: 45000, Block2: 23000, Block3: 49000 Classification Layer: 7000, Average Accuracy: 81.14%\n"
     ]
    },
    {
     "name": "stderr",
     "output_type": "stream",
     "text": [
      "100%|██████████| 20/20 [15:36<00:00, 46.80s/it]\n"
     ]
    },
    {
     "name": "stdout",
     "output_type": "stream",
     "text": [
      "Block1: 48000, Block2: 25000, Block3: 52000 Classification Layer: 7000, Average Accuracy: 81.14%\n"
     ]
    },
    {
     "name": "stderr",
     "output_type": "stream",
     "text": [
      "100%|██████████| 20/20 [16:30<00:00, 49.54s/it]"
     ]
    },
    {
     "name": "stdout",
     "output_type": "stream",
     "text": [
      "Block1: 51000, Block2: 26000, Block3: 55000 Classification Layer: 8000, Average Accuracy: 81.49%\n"
     ]
    },
    {
     "name": "stderr",
     "output_type": "stream",
     "text": [
      "\n"
     ]
    }
   ],
   "source": [
    "from tqdm import tqdm\n",
    "import time\n",
    "from torch.nn.parallel import data_parallel\n",
    "from torch.utils.data import Subset\n",
    "\n",
    "\n",
    "torch.cuda.empty_cache()\n",
    "model = Network().to(device)\n",
    "model.load_state_dict(torch.load('GNet_Trained_Model_84.85%.pth', weights_only = True))\n",
    "\n",
    "\n",
    "model.to(torch.half).to(device)\n",
    "model.eval()\n",
    "torch.manual_seed(42)\n",
    "n_splits = 20\n",
    "split_size = len(test_set) // n_splits  # 10000 // 20 = 500\n",
    "scales = np.arange(0.6, 1.47, 0.08)\n",
    "accuracies = np.zeros((len(scales), n_splits))\n",
    "times = []\n",
    "hyperdims = np.zeros((len(scales), 4))\n",
    "for i, scale in enumerate(scales):\n",
    "    scale = round(scale, 2)\n",
    "    ratio = (15, 1, 9.6, 10)\n",
    "    ratio = tuple(scale * r for r in ratio)\n",
    "    for split_idx in tqdm(range(n_splits)):\n",
    "        start_idx = split_idx * split_size\n",
    "        end_idx = start_idx + split_size\n",
    "        split_subset = Subset(test_set, range(start_idx, end_idx))\n",
    "        split_loader = torch.utils.data.DataLoader(split_subset, batch_size=1, shuffle=False,\n",
    "                                                   num_workers=num_workers, pin_memory=pin_memory)\n",
    "        \n",
    "        torch.manual_seed(split_idx)\n",
    "        random_seeds = tuple(torch.randint(0, 1000, (1,)).item() for _ in range(4))\n",
    "        model.init_hd(ratio, random_seeds)\n",
    "        hyperdims[i] = np.array([model.block1.nHD, model.block2.nHD, model.block3.nHD, model.nHD_last])\n",
    "        correct = 0\n",
    "        total = 0\n",
    "    \n",
    "        t0 = time.time()\n",
    "        with torch.no_grad():\n",
    "            for images, labels in split_loader:\n",
    "                images, labels = images.cuda(non_blocking=True), labels.cuda(non_blocking=True)\n",
    "                output = model.hd(images.to(torch.half))\n",
    "                output = model.classification_layer(output.to(torch.half))\n",
    "                _, predicted = torch.max(output.data, 1)\n",
    "                total += labels.size(0)\n",
    "                correct += (predicted == labels).sum().item()\n",
    "        t1 = time.time()\n",
    "    \n",
    "        acc = 100 * correct / total\n",
    "        dt = t1 - t0\n",
    "    \n",
    "        accuracies[i, split_idx] = acc\n",
    "        times.append(dt)\n",
    "    \n",
    "    print(f'Block1: {model.block1.nHD}, Block2: {model.block2.nHD}, Block3: {model.block3.nHD} Classification Layer: {model.nHD_last}, Average Accuracy: {np.mean(accuracies[i]):.2f}%')\n"
   ]
  },
  {
   "cell_type": "code",
   "execution_count": 8,
   "id": "abb972cc-d372-46d6-8f11-039580213ac1",
   "metadata": {},
   "outputs": [
    {
     "data": {
      "text/plain": [
       "[<matplotlib.lines.Line2D at 0x155450a0ff70>]"
      ]
     },
     "execution_count": 8,
     "metadata": {},
     "output_type": "execute_result"
    },
    {
     "data": {
      "image/png": "[encoded data removed]",
      "text/plain": [
       "<Figure size 640x480 with 1 Axes>"
      ]
     },
     "metadata": {},
     "output_type": "display_data"
    }
   ],
   "source": [
    "np.mean(accuracies, axis=1)\n",
    "import matplotlib.pyplot as plt\n",
    "plt.plot(np.mean(accuracies, axis=1))"
   ]
  },
  {
   "cell_type": "code",
   "execution_count": 9,
   "id": "4aed9258-d92e-432f-bf44-28c0db1af31d",
   "metadata": {},
   "outputs": [],
   "source": [
    "savemat('EHDGNet_CIFAR10.mat', {'EHDGNet_CIFAR10':accuracies})"
   ]
  },
  {
   "cell_type": "code",
   "execution_count": 10,
   "id": "f74c42d6-897e-43c9-8b0b-577de52ef2c6",
   "metadata": {},
   "outputs": [],
   "source": [
    "savemat('EHDGNet_CIFAR10_nHD.mat', {'EHDGNet_CIFAR10_nHD': hyperdims})"
   ]
  },
  {
   "cell_type": "code",
   "execution_count": null,
   "id": "bc790407-ffdc-49db-95e1-15c83938bdcf",
   "metadata": {},
   "outputs": [],
   "source": []
  }
 ],
 "metadata": {
  "kernelspec": {
   "display_name": "Python 3 (ipykernel)",
   "language": "python",
   "name": "python3"
  },
  "language_info": {
   "codemirror_mode": {
    "name": "ipython",
    "version": 3
   },
   "file_extension": ".py",
   "mimetype": "text/x-python",
   "name": "python",
   "nbconvert_exporter": "python",
   "pygments_lexer": "ipython3",
   "version": "3.9.21"
  }
 },
 "nbformat": 4,
 "nbformat_minor": 5
}
