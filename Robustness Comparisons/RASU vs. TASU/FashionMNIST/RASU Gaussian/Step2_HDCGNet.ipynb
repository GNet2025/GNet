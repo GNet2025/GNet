{
 "cells": [
  {
   "cell_type": "code",
   "execution_count": 1,
   "id": "4cab34a5-470a-4ef9-a53b-ca4f162fbc77",
   "metadata": {},
   "outputs": [],
   "source": [
    "import torch\n",
    "import torchvision\n",
    "import torchvision.transforms as transforms\n",
    "import PIL\n",
    "import torch.nn as nn\n",
    "import torch.nn.functional as F\n",
    "import numpy as np\n",
    "import torch.optim as optim\n",
    "\n",
    "# from Modules import ConvBN, PoolConvBN, PoolLinearBN, SharpCosSim2d, SharpCosSimLinear, LReLU\n",
    "\n",
    "from ConvBN import ConvBN as ConvBN_BiasTrick\n",
    "from LinearBN import LinearBN"
   ]
  },
  {
   "cell_type": "code",
   "execution_count": 2,
   "id": "0976ae0e-cf60-4c8b-a72b-9087c8a93353",
   "metadata": {},
   "outputs": [],
   "source": [
    "class LReLU(nn.Module):\n",
    "    def __init__(self):\n",
    "        super(LReLU, self).__init__()\n",
    "        self.alpha = nn.Parameter(torch.tensor(5.0)) \n",
    "    def forward(self, x):\n",
    "        return torch.nn.functional.relu(self.alpha*x)"
   ]
  },
  {
   "cell_type": "code",
   "execution_count": 3,
   "id": "7b89d4ea-df9a-44e0-a457-614c54abb89b",
   "metadata": {},
   "outputs": [],
   "source": [
    "transform = transforms.Compose([\n",
    "    transforms.ToTensor(),\n",
    "    transforms.Normalize((0.5,), (0.5,)) # Normalize with mean 0.5 and std 0.5\n",
    "])\n",
    "\n",
    "batch_size= 2000\n",
    "num_workers=2\n",
    "pin_memory=True\n",
    "\n",
    "dataset = torchvision.datasets.FashionMNIST(root='../', train=True, download=True, transform=transform)\n",
    "train_set, val_set = torch.utils.data.random_split(dataset, [58000, 2000])\n",
    "\n",
    "train_loader = torch.utils.data.DataLoader(train_set, batch_size=batch_size, shuffle=True, num_workers=num_workers, pin_memory=pin_memory)\n",
    "val_loader = torch.utils.data.DataLoader(val_set, batch_size=batch_size, shuffle=False, num_workers=num_workers, pin_memory=pin_memory)\n",
    "\n",
    "test_set = torchvision.datasets.FashionMNIST(root='../', train=False, download=True, transform=transform)\n",
    "test_loader = torch.utils.data.DataLoader(test_set, batch_size=batch_size, shuffle=False, num_workers=num_workers, pin_memory=pin_memory)\n"
   ]
  },
  {
   "cell_type": "code",
   "execution_count": 4,
   "id": "9b2e8b3d-3569-4db5-a7a4-66c193aa50ca",
   "metadata": {},
   "outputs": [
    {
     "name": "stdout",
     "output_type": "stream",
     "text": [
      "CUDA is available\n"
     ]
    }
   ],
   "source": [
    "if torch.cuda.is_available():\n",
    "    print(\"CUDA is available\")\n",
    "else:\n",
    "    print(\"CUDA is not available\")\n",
    "\n",
    "device = torch.device('cuda' if torch.cuda.is_available() else 'cpu')"
   ]
  },
  {
   "cell_type": "code",
   "execution_count": 5,
   "id": "01280536-9fbc-4cad-98c4-700d8bdcc574",
   "metadata": {},
   "outputs": [],
   "source": [
    "class Network(nn.Module):\n",
    "    def __init__(self):\n",
    "        super(Network, self).__init__()\n",
    "\n",
    "        self.conv1_out = 32\n",
    "        self.conv1_size = 5\n",
    "        self.conv1_padding = 2\n",
    "\n",
    "\n",
    "        # self.conv2_out = 16\n",
    "        # self.conv2_size = 5\n",
    "        # self.conv2_padding = 0\n",
    "\n",
    "        self.fc1_out = 512\n",
    "        self.fc2_out = 10\n",
    "\n",
    "        self.q = 1e-6\n",
    "        self.bias_trick_par = torch.nn.Parameter(torch.tensor(0.00005))\n",
    "\n",
    "        # First Convolutional Block\n",
    "\n",
    "        self.block1 = ConvBN_BiasTrick(in_channels=1, out_channels=self.conv1_out, kernel_size=self.conv1_size, padding=self.conv1_padding, std = .1)\n",
    "\n",
    "        size = 28 # 28 - 5 + 2 = 25 + 1 = 26\n",
    "        self.psize = 3\n",
    "        # Second Convolutional Block\n",
    "       \n",
    "        self.block3 = LinearBN(in_features = self.conv1_out * (size//self.psize) * (size//self.psize), out_features=self.fc1_out, std=.05)\n",
    "        \n",
    "        \n",
    "        self.w2 = nn.Parameter(torch.randn(self.fc1_out, self.fc2_out))\n",
    "        nn.init.normal_(self.w2, mean=0.0, std=.05)\n",
    "\n",
    "        self.dropout = nn.Dropout(0.3)\n",
    "        self.dropout2d = nn.Dropout2d(0.25)\n",
    "\n",
    "        self.relu = LReLU()\n",
    "\n",
    "\n",
    "\n",
    "\n",
    "    def forward(self, x):\n",
    "        \n",
    "        x = F.max_pool2d(self.relu(self.block1(x)), (self.psize,self.psize), padding=0)\n",
    "        x = self.dropout2d(x)\n",
    "        x = x.view(x.size(0), -1)\n",
    "        \n",
    "        x = self.relu(self.block3(x))\n",
    "        # x = self.dropout(x)\n",
    "\n",
    "        x = x + self.bias_trick_par\n",
    "        x_norm = x / (x.norm(p=2, dim=1, keepdim=True) + self.q)  # Normalize input x\n",
    "        w2_norm = self.w2 / (self.w2.norm(p=2, dim=1, keepdim=True) + self.q)  # Normalize weights\n",
    "        x = torch.matmul(x_norm, w2_norm) # Matrix multiplication \n",
    "\n",
    "        # Return raw logits (no softmax here, CrossEntropyLoss handles it)\n",
    "        return x\n",
    "\n",
    "    def custom_round(self, n):\n",
    "        remainder = n % 1000\n",
    "        base = n - remainder\n",
    "        if remainder >= 101:\n",
    "            return base + 1000\n",
    "        elif remainder <= 100:\n",
    "            return base\n",
    "\n",
    "    @torch.no_grad()             # no autograd graph\n",
    "    def flip_sign_(self, tensor: torch.Tensor, percentage: float) -> torch.Tensor:\n",
    "        \"\"\"\n",
    "        Flip the sign of a random subset of elements *in place*.\n",
    "    \n",
    "        Args:\n",
    "            tensor (torch.Tensor): Any shape, modified in place.\n",
    "            percentage (float): 0‒1 fraction of elements to flip.\n",
    "    \n",
    "        Returns:\n",
    "            torch.Tensor: The same tensor object (for chaining).\n",
    "        \"\"\"\n",
    "        if percentage <= 0.0:\n",
    "            return tensor\n",
    "        if percentage >= 1.0:\n",
    "            tensor.mul_(-1)\n",
    "            return tensor                    # all elements flipped\n",
    "    \n",
    "        numel = tensor.numel()\n",
    "        num_to_flip = int(numel * percentage)\n",
    "        if num_to_flip == 0:\n",
    "            return tensor\n",
    "    \n",
    "        flat = tensor.view(-1)               # view ↔ no copy\n",
    "        idx = torch.randint(0, numel, (num_to_flip,),\n",
    "                            device=flat.device)\n",
    "        flat[idx] *= -1                      # in-place sign change\n",
    "        return tensor\n",
    "            \n",
    "\n",
    "    def init_hdc(self, ratio, seed, flip_perc=None):\n",
    "        if not isinstance(ratio, (tuple)):\n",
    "            raise TypeError(\"ratio must be a tuple of size 3\")\n",
    "\n",
    "        if not isinstance(seed, (tuple)):\n",
    "            raise TypeError(\"seed must be a tuple of size 3\")\n",
    "        \n",
    "        self.block1.init_hdc(ratio = ratio[0], seed = seed[0], flip_perc=flip_perc)\n",
    "        self.block3.init_hdc(ratio = ratio[1], seed = seed[1], flip_perc=flip_perc)\n",
    "        \n",
    "        torch.manual_seed(400) # To change the seed ========================================================\n",
    "        \n",
    "        n_last = self.w2.size(0)\n",
    "        self.nHDC_last = int(self.custom_round(ratio[2] * n_last)) if ratio[2]<1000 else int(ratio[2])\n",
    "        torch.manual_seed(seed[2])\n",
    "        self.g = (torch.randn(self.w2.size(0), self.nHDC_last, device=self.w2.device)).to(torch.half)\n",
    "        self.wg = torch.sign(torch.matmul(self.g.t(), self.w2.to(torch.half)))\n",
    "\n",
    "        # print(f'Block1: {self.block1.nHDC}, Block2: {self.block3.nHDC}, Classification Layer: {self.nHDC_last}')\n",
    "        if flip_perc is not None and flip_perc > 0.0:\n",
    "            self.flip_sign_(self.wg, flip_perc)\n",
    "\n",
    "    def hdc(self, x):\n",
    "        x = F.max_pool2d(self.relu(self.block1.hdc(x)), (self.psize, self.psize), padding=0)\n",
    "\n",
    "        x = x.view(x.size(0), -1)\n",
    "        x = self.relu(self.block3.hdc(x))\n",
    "\n",
    "        x = x + self.bias_trick_par\n",
    "        x = torch.sign(torch.matmul(x.to(torch.half), self.g))\n",
    "\n",
    "        return x\n",
    "        \n",
    "    def classification_layer(self, x):\n",
    "        x = x @ self.wg\n",
    "        return x\n"
   ]
  },
  {
   "cell_type": "code",
   "execution_count": 6,
   "id": "1dc0499c-2470-4a2f-aa22-1c88feb1c267",
   "metadata": {},
   "outputs": [],
   "source": [
    "scales = np.arange(0.0, 0.51, 0.05)\n",
    "hyperdim = (25000, 25000, 25000)"
   ]
  },
  {
   "cell_type": "code",
   "execution_count": 7,
   "id": "3299fb52-59f2-46f3-90f0-512b66e3ef04",
   "metadata": {},
   "outputs": [
    {
     "name": "stdout",
     "output_type": "stream",
     "text": [
      "11\n"
     ]
    },
    {
     "name": "stderr",
     "output_type": "stream",
     "text": [
      "Avg Accuracy: 90.44%, Flip Perc: 0.0: 100%|██████████| 20/20 [03:45<00:00, 11.30s/it]\n"
     ]
    },
    {
     "name": "stdout",
     "output_type": "stream",
     "text": [
      "Average Accuracy: 90.44%\n"
     ]
    },
    {
     "name": "stderr",
     "output_type": "stream",
     "text": [
      "Avg Accuracy: 90.39%, Flip Perc: 0.05: 100%|██████████| 20/20 [03:47<00:00, 11.39s/it]\n"
     ]
    },
    {
     "name": "stdout",
     "output_type": "stream",
     "text": [
      "Average Accuracy: 90.39%\n"
     ]
    },
    {
     "name": "stderr",
     "output_type": "stream",
     "text": [
      "Avg Accuracy: 90.35%, Flip Perc: 0.1: 100%|██████████| 20/20 [03:46<00:00, 11.31s/it]\n"
     ]
    },
    {
     "name": "stdout",
     "output_type": "stream",
     "text": [
      "Average Accuracy: 90.35%\n"
     ]
    },
    {
     "name": "stderr",
     "output_type": "stream",
     "text": [
      "Avg Accuracy: 90.41%, Flip Perc: 0.15: 100%|██████████| 20/20 [03:47<00:00, 11.39s/it]\n"
     ]
    },
    {
     "name": "stdout",
     "output_type": "stream",
     "text": [
      "Average Accuracy: 90.41%\n"
     ]
    },
    {
     "name": "stderr",
     "output_type": "stream",
     "text": [
      "Avg Accuracy: 90.37%, Flip Perc: 0.2: 100%|██████████| 20/20 [03:47<00:00, 11.39s/it]\n"
     ]
    },
    {
     "name": "stdout",
     "output_type": "stream",
     "text": [
      "Average Accuracy: 90.37%\n"
     ]
    },
    {
     "name": "stderr",
     "output_type": "stream",
     "text": [
      "Avg Accuracy: 90.08%, Flip Perc: 0.25: 100%|██████████| 20/20 [03:45<00:00, 11.30s/it]\n"
     ]
    },
    {
     "name": "stdout",
     "output_type": "stream",
     "text": [
      "Average Accuracy: 90.08%\n"
     ]
    },
    {
     "name": "stderr",
     "output_type": "stream",
     "text": [
      "Avg Accuracy: 89.39%, Flip Perc: 0.3: 100%|██████████| 20/20 [03:50<00:00, 11.51s/it]\n"
     ]
    },
    {
     "name": "stdout",
     "output_type": "stream",
     "text": [
      "Average Accuracy: 89.39%\n"
     ]
    },
    {
     "name": "stderr",
     "output_type": "stream",
     "text": [
      "Avg Accuracy: 88.45%, Flip Perc: 0.35: 100%|██████████| 20/20 [03:47<00:00, 11.35s/it]\n"
     ]
    },
    {
     "name": "stdout",
     "output_type": "stream",
     "text": [
      "Average Accuracy: 88.45%\n"
     ]
    },
    {
     "name": "stderr",
     "output_type": "stream",
     "text": [
      "Avg Accuracy: 87.33%, Flip Perc: 0.4: 100%|██████████| 20/20 [03:49<00:00, 11.46s/it]\n"
     ]
    },
    {
     "name": "stdout",
     "output_type": "stream",
     "text": [
      "Average Accuracy: 87.33%\n"
     ]
    },
    {
     "name": "stderr",
     "output_type": "stream",
     "text": [
      "Avg Accuracy: 84.96%, Flip Perc: 0.45: 100%|██████████| 20/20 [01:59<00:00,  5.97s/it]\n"
     ]
    },
    {
     "name": "stdout",
     "output_type": "stream",
     "text": [
      "Average Accuracy: 84.96%\n"
     ]
    },
    {
     "name": "stderr",
     "output_type": "stream",
     "text": [
      "Avg Accuracy: 79.64%, Flip Perc: 0.5: 100%|██████████| 20/20 [01:58<00:00,  5.91s/it]"
     ]
    },
    {
     "name": "stdout",
     "output_type": "stream",
     "text": [
      "Average Accuracy: 79.64%\n"
     ]
    },
    {
     "name": "stderr",
     "output_type": "stream",
     "text": [
      "\n"
     ]
    }
   ],
   "source": [
    "from tqdm import tqdm\n",
    "import time\n",
    "from torch.utils.data import Subset\n",
    "\n",
    "\n",
    "torch.cuda.empty_cache()\n",
    "model = Network().to(device)\n",
    "model.load_state_dict(torch.load('Fashionmnist_GNet_Training.pth', weights_only = True))\n",
    "\n",
    "model.to(torch.half).to(device)\n",
    "model.eval()\n",
    "\n",
    "n_splits = 20\n",
    "split_size = len(test_set) // n_splits \n",
    "accuracies = np.zeros((len(scales), n_splits))\n",
    "print(len(scales))\n",
    "for i, perc in enumerate(scales):\n",
    "    indices = list(range(len(test_set)))\n",
    "    np.random.seed(42)\n",
    "    np.random.shuffle(indices)\n",
    "    pbar = tqdm(range(n_splits))\n",
    "    for split_idx in pbar:  # Initial desc\n",
    "        start_idx = split_idx * split_size\n",
    "        end_idx = start_idx + split_size\n",
    "        split_indices = indices[start_idx:end_idx]\n",
    "        split_subset = Subset(test_set, split_indices)\n",
    "        split_loader = torch.utils.data.DataLoader(split_subset, batch_size=5, shuffle=False,\n",
    "                                                   num_workers=num_workers, pin_memory=pin_memory)\n",
    "        torch.manual_seed(split_idx+4)\n",
    "        random_seeds = tuple(torch.randint(0, 1000, (1,)).item() for _ in range(3))\n",
    "        torch.cuda.empty_cache()\n",
    "        \n",
    "        model.init_hdc(hyperdim, random_seeds, perc)\n",
    "        correct = 0\n",
    "        total = 0\n",
    "    \n",
    "        with torch.no_grad():\n",
    "            for images, labels in (split_loader):\n",
    "                images, labels = images.cuda(non_blocking=True), labels.cuda(non_blocking=True)\n",
    "                output = model.hdc(images.to(torch.half))\n",
    "                output = model.classification_layer(output.to(torch.half))\n",
    "                _, predicted = torch.max(output.data, 1)\n",
    "                total += labels.size(0)\n",
    "                correct += (predicted == labels).sum().item()\n",
    "    \n",
    "        acc = 100 * correct / total\n",
    "    \n",
    "        accuracies[i, split_idx] = acc\n",
    "        pbar.set_description(f\"Avg Accuracy: {np.mean(accuracies[i, :split_idx+1]):.2f}%, Flip Perc: {np.round(perc, 2)}\")\n",
    "    \n",
    "    print(f'Average Accuracy: {np.mean(accuracies[i]):.2f}%')\n",
    "        "
   ]
  },
  {
   "cell_type": "code",
   "execution_count": 8,
   "id": "47564ff1-752d-4240-a7a3-b952f30a42b1",
   "metadata": {},
   "outputs": [],
   "source": [
    "from scipy.io import savemat\n",
    "savemat('FashionMNIST_HDCGNet.mat', {'FashionMNIST_HDCGNet':accuracies})"
   ]
  },
  {
   "cell_type": "code",
   "execution_count": null,
   "id": "f1dfa733-1147-4ae3-9b98-8b5d783c1687",
   "metadata": {},
   "outputs": [],
   "source": []
  }
 ],
 "metadata": {
  "kernelspec": {
   "display_name": "Python 3 (ipykernel)",
   "language": "python",
   "name": "python3"
  },
  "language_info": {
   "codemirror_mode": {
    "name": "ipython",
    "version": 3
   },
   "file_extension": ".py",
   "mimetype": "text/x-python",
   "name": "python",
   "nbconvert_exporter": "python",
   "pygments_lexer": "ipython3",
   "version": "3.9.21"
  }
 },
 "nbformat": 4,
 "nbformat_minor": 5
}
