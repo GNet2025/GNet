{
 "cells": [
  {
   "cell_type": "code",
   "execution_count": 1,
   "id": "3ab80cf2-d076-4724-8a93-59315b97e1c6",
   "metadata": {},
   "outputs": [],
   "source": [
    "from aeon.datasets import load_classification\n",
    "from sklearn.preprocessing import StandardScaler, LabelEncoder\n",
    "import numpy as np\n",
    "import torch\n",
    "import torch.nn as nn\n",
    "import torch.nn.functional as F\n",
    "import torch.optim as optim\n",
    "from torch.utils.data import TensorDataset, DataLoader\n",
    "import torch.optim as optim\n",
    "import time\n",
    "\n",
    "from ConvBN1d import ConvBN\n",
    "from LinearBN import LinearBN"
   ]
  },
  {
   "cell_type": "code",
   "execution_count": 2,
   "id": "86209a17-72d4-4aef-b270-a9e63465f070",
   "metadata": {},
   "outputs": [
    {
     "name": "stdout",
     "output_type": "stream",
     "text": [
      "Train Size Used: 7352, Test Size Used: 2947\n"
     ]
    }
   ],
   "source": [
    "device = torch.device('cuda' if torch.cuda.is_available() else 'cpu')\n",
    "dataset_name = 'WalkingSittingStanding'\n",
    "# Load dataset\n",
    "X_train, y_train, metadata = load_classification(dataset_name, return_metadata=True, split='train')\n",
    "X_test, y_test = load_classification(dataset_name, split='test')\n",
    "if X_train.shape[0] < 200:\n",
    "    train_size = int((X_train.shape[0] + X_test.shape[0]) * 3/4)\n",
    "    x, y = load_classification(dataset_name)\n",
    "    X_train, y_train = x[:train_size, :], y[:train_size]\n",
    "    X_test, y_test = x[train_size:, :], y[train_size:]\n",
    "\n",
    "print(f'Train Size Used: {X_train.shape[0]}, Test Size Used: {X_test.shape[0]}')\n",
    "\n",
    "# Flatten X if shape is (n_samples, 1, series_length) → (n_samples, series_length)\n",
    "input_channels = 1\n",
    "if X_train.ndim == 3:\n",
    "    input_channels = X_train.shape[1]\n",
    "    X_train = np.squeeze(X_train, axis=1) if input_channels == 1 else X_train\n",
    "    X_test = np.squeeze(X_test, axis=1) if input_channels == 1 else X_test\n",
    "\n",
    "seq_length = X_train.shape[-1]  # series length\n",
    "\n",
    "# Encode labels\n",
    "if y_train.dtype == object or isinstance(y_train[0], str):\n",
    "    le = LabelEncoder()\n",
    "    y_train = le.fit_transform(y_train)\n",
    "    y_test = le.transform(y_test)\n",
    "\n",
    "# Standard scaling\n",
    "scaler = StandardScaler()\n",
    "X_train_scaled = scaler.fit_transform(X_train.reshape(-1, seq_length))\n",
    "X_test_scaled = scaler.transform(X_test.reshape(-1, seq_length))"
   ]
  },
  {
   "cell_type": "code",
   "execution_count": 3,
   "id": "c55fbb59-f575-403d-a331-2a7993570faa",
   "metadata": {},
   "outputs": [
    {
     "name": "stdout",
     "output_type": "stream",
     "text": [
      "(7352, 3, 206)\n",
      "(2947, 3, 206)\n"
     ]
    }
   ],
   "source": [
    "# ---- CNN ----\n",
    "if input_channels == 1:\n",
    "    X_train_tensor = torch.tensor(X_train_scaled, dtype=torch.float32).unsqueeze(1).to(device)\n",
    "    X_test_tensor = torch.tensor(X_test_scaled, dtype=torch.float32).unsqueeze(1).to(device)\n",
    "else:\n",
    "    # Multichannel → keep original channels\n",
    "    X_train_tensor = torch.tensor(X_train, dtype=torch.float32).to(device)\n",
    "    X_test_tensor = torch.tensor(X_test, dtype=torch.float32).to(device)\n",
    "\n",
    "y_train_tensor = torch.tensor(y_train, dtype=torch.long).to(device)\n",
    "y_test_tensor = torch.tensor(y_test, dtype=torch.long).to(device)\n",
    "\n",
    "train_dataset = TensorDataset(X_train_tensor, y_train_tensor)\n",
    "test_dataset = TensorDataset(X_test_tensor, y_test_tensor)\n",
    "train_loader = DataLoader(train_dataset, batch_size=512, shuffle=True)\n",
    "test_loader = DataLoader(test_dataset, batch_size=512, shuffle=False)\n",
    "\n",
    "num_classes = len(np.unique(y_train))\n",
    "\n",
    "print(X_train.shape)\n",
    "print(X_test.shape)"
   ]
  },
  {
   "cell_type": "code",
   "execution_count": 4,
   "id": "70cab5a4-9941-49f5-b0bb-9f7caf1de3cb",
   "metadata": {},
   "outputs": [],
   "source": [
    "class LReLU(nn.Module):\n",
    "    def __init__(self):\n",
    "        super(LReLU, self).__init__()\n",
    "        self.alpha = nn.Parameter(torch.tensor(5.0)) \n",
    "    def forward(self, x):\n",
    "        return torch.nn.functional.relu(self.alpha*x)"
   ]
  },
  {
   "cell_type": "code",
   "execution_count": 5,
   "id": "976871e9-8be7-471f-84b2-a2b2a447e31c",
   "metadata": {},
   "outputs": [],
   "source": [
    "class Network(nn.Module):\n",
    "    def __init__(self, inpu_channels, seq_length, num_classes):\n",
    "        super(Network, self).__init__()\n",
    "\n",
    "        self.conv1_out = 64\n",
    "        self.conv1_size = 11\n",
    "        self.conv1_padding = 5\n",
    "\n",
    "\n",
    "        self.conv2_out = 48\n",
    "        self.conv2_size = 7\n",
    "        self.conv2_padding = 3\n",
    "\n",
    "        self.conv3_out = 32\n",
    "        self.conv3_size = 3\n",
    "        self.conv3_padding = 1\n",
    "\n",
    "        self.fc1_out = num_classes\n",
    "\n",
    "        self.q = 1e-6\n",
    "        self.bias_trick_par = nn.Parameter(torch.tensor(0.00005))\n",
    "\n",
    "        # First Convolutional Block\n",
    "        # Seed 1 and 2\n",
    "\n",
    "        self.block1 = ConvBN(in_channels=input_channels, out_channels=self.conv1_out, kernel_size=self.conv1_size, padding=self.conv1_padding, std = .01, bias_par_init=0.0015)\n",
    "        self.block2 = ConvBN(in_channels=self.conv1_out, out_channels=self.conv2_out, kernel_size=self.conv2_size, padding=self.conv2_padding, std = .01, bias_par_init=0.0015)\n",
    "               \n",
    "        \n",
    "        torch.manual_seed(0)\n",
    "        self.w2 = nn.Parameter(torch.randn(self.conv2_out * (seq_length// 2 // 2), self.fc1_out))\n",
    "        nn.init.normal_(self.w2, mean=0.0, std=.1)\n",
    "\n",
    "        self.dropout = nn.Dropout(0.5)\n",
    "\n",
    "        self.relu = LReLU()\n",
    "\n",
    "        self.pool = nn.MaxPool1d(2)\n",
    "\n",
    "\n",
    "\n",
    "\n",
    "    def forward(self, x):\n",
    "        x = self.pool(self.relu(self.block1(x)))\n",
    "        x = self.pool(self.relu(self.block2(x)))\n",
    "        \n",
    "        x = x.view(x.size(0), -1)\n",
    "        \n",
    "        x = x + self.bias_trick_par\n",
    "        x_norm = x / (x.norm(p=2, dim=1, keepdim=True) + self.q)  # Normalize input x\n",
    "        w2_norm = self.w2 / (self.w2.norm(p=2, dim=1, keepdim=True) + self.q)  # Normalize weights\n",
    "        x = torch.matmul(x_norm, w2_norm) # Matrix multiplication \n",
    "\n",
    "        # Return raw logits (no softmax here, CrossEntropyLoss handles it)\n",
    "        return x"
   ]
  },
  {
   "cell_type": "code",
   "execution_count": 6,
   "id": "c97722bc-7a56-4b5a-92e6-969406b4fa57",
   "metadata": {},
   "outputs": [
    {
     "name": "stdout",
     "output_type": "stream",
     "text": [
      "[Run 1/1] Epoch 20 | loss: 0.1078 | acc: 0.9559 | time: 0.2s\n",
      "[Run 1/1] Epoch 40 | loss: 0.1011 | acc: 0.9611 | time: 0.2s\n",
      "[Run 1/1] Epoch 60 | loss: 0.0912 | acc: 0.9637 | time: 0.2s\n",
      "[Run 1/1] Epoch 80 | loss: 0.0909 | acc: 0.9638 | time: 0.2s\n",
      "[Run 1/1] Epoch 100 | loss: 0.0909 | acc: 0.9638 | time: 0.2s\n",
      "[Run 1/1] Epoch 120 | loss: 0.0909 | acc: 0.9638 | time: 0.2s\n",
      "→ Run 1 Test loss: 0.5849, Test acc: 0.8561\n",
      "Average test accuracy over 1 runs: 0.8561 ± 0.0000\n"
     ]
    }
   ],
   "source": [
    "num_runs = 1\n",
    "test_accuracies = []\n",
    "\n",
    "for run in range(1, num_runs + 1):\n",
    "    model = Network(input_channels, seq_length, num_classes).to(device)\n",
    "    if torch.cuda.device_count() > 1:\n",
    "        model = nn.DataParallel(model)\n",
    "    criterion = nn.CrossEntropyLoss()\n",
    "    optimizer = optim.Adam(model.parameters(), lr=0.01, weight_decay=0.00001)\n",
    "    scheduler = optim.lr_scheduler.ReduceLROnPlateau(optimizer)\n",
    "\n",
    "    # ----- TRAIN -----\n",
    "    model.train()\n",
    "    for epoch in range(120):\n",
    "        start = time.time()\n",
    "        running_loss = 0.0\n",
    "        correct = 0\n",
    "        for batch, labels in train_loader:\n",
    "            batch, labels = batch.to(device), labels.to(device)\n",
    "            optimizer.zero_grad()\n",
    "            outputs = model(batch)\n",
    "            loss = criterion(outputs, labels)\n",
    "            loss.backward()\n",
    "            optimizer.step()\n",
    "\n",
    "            running_loss += loss.item() * batch.size(0)\n",
    "            _, preds = outputs.max(1)\n",
    "            correct += (preds == labels).sum().item()\n",
    "\n",
    "        avg_loss = running_loss / len(train_dataset)\n",
    "        avg_acc  = correct     / len(train_dataset)\n",
    "        scheduler.step(avg_loss)  # adjust LR if plateau\n",
    "\n",
    "        elapsed = time.time() - start\n",
    "        if (epoch+1) % 20 == 0:\n",
    "            print(f\"[Run {run}/{num_runs}] Epoch {epoch+1:02d} | \"\n",
    "              f\"loss: {avg_loss:.4f} | acc: {avg_acc:.4f} | time: {elapsed:.1f}s\")\n",
    "\n",
    "    # ----- TEST -----\n",
    "    model.eval()\n",
    "    test_loss = 0.0\n",
    "    correct_test = 0\n",
    "    with torch.no_grad():\n",
    "        for inputs, labels in test_loader:\n",
    "            inputs, labels = inputs.to(device), labels.to(device)\n",
    "            outputs = model(inputs)\n",
    "            test_loss += criterion(outputs, labels).item() * inputs.size(0)\n",
    "            _, preds = outputs.max(1)\n",
    "            correct_test += (preds == labels).sum().item()\n",
    "\n",
    "    avg_test_loss = test_loss / len(test_dataset)\n",
    "    avg_test_acc  = correct_test / len(test_dataset)\n",
    "    test_accuracies.append(avg_test_acc)\n",
    "\n",
    "    print(f\"→ Run {run} Test loss: {avg_test_loss:.4f}, Test acc: {avg_test_acc:.4f}\")\n",
    "\n",
    "# ----- SUMMARY -----\n",
    "mean_acc = np.mean(test_accuracies)\n",
    "std_acc  = np.std(test_accuracies)\n",
    "print(f\"Average test accuracy over {num_runs} runs: {mean_acc:.4f} ± {std_acc:.4f}\")"
   ]
  },
  {
   "cell_type": "code",
   "execution_count": 7,
   "id": "dd468293-aab2-4cfd-a0a9-28609fce5c28",
   "metadata": {},
   "outputs": [
    {
     "name": "stdout",
     "output_type": "stream",
     "text": [
      "Test loss: 0.00115, Test accuracy: 0.8561\n"
     ]
    }
   ],
   "source": [
    "model.eval()  # Set the model to evaluation mode\n",
    "\n",
    "test_loss = 0.0\n",
    "correct_test = 0\n",
    "\n",
    "# Evaluate on the test dataset\n",
    "with torch.no_grad():\n",
    "    for data in test_loader:\n",
    "        inputs, labels = data\n",
    "        inputs, labels = inputs.to(device), labels.to(device)\n",
    "        \n",
    "        outputs = model(inputs)\n",
    "        loss = criterion(outputs, labels)\n",
    "        test_loss += loss.item()\n",
    "        \n",
    "        # Get predictions and update the correct count\n",
    "        _, predicted = torch.max(outputs, 1)\n",
    "        correct_test += (predicted == labels).sum().item()\n",
    "\n",
    "# Compute average loss and accuracy for the test set\n",
    "avg_test_loss = test_loss / len(test_dataset)\n",
    "avg_test_acc = correct_test / len(test_dataset)\n",
    "\n",
    "print(f\"Test loss: {avg_test_loss:.5f}, Test accuracy: {avg_test_acc:.4f}\")"
   ]
  },
  {
   "cell_type": "code",
   "execution_count": 8,
   "id": "1e973989-6117-4ca1-8b0c-535c921fbf3c",
   "metadata": {},
   "outputs": [],
   "source": [
    "torch.save(model.state_dict(), f'{dataset_name}_GNet_Training_{avg_test_acc:.4f}.pth')"
   ]
  },
  {
   "cell_type": "code",
   "execution_count": 9,
   "id": "aba4668a-2410-4e37-8c97-7fa8aa6621e0",
   "metadata": {},
   "outputs": [
    {
     "name": "stdout",
     "output_type": "stream",
     "text": [
      "0.8561\n"
     ]
    }
   ],
   "source": [
    "print(f'{avg_test_acc:.4f}')"
   ]
  },
  {
   "cell_type": "code",
   "execution_count": 10,
   "id": "f4549275-0b33-402a-8ec3-df9a1dd49c94",
   "metadata": {},
   "outputs": [],
   "source": [
    "torch.save(avg_test_acc, 'avg_test_acc.pt')"
   ]
  },
  {
   "cell_type": "code",
   "execution_count": null,
   "id": "38e09a03-f45d-429c-a0fb-6cd8ba1048c4",
   "metadata": {},
   "outputs": [],
   "source": []
  }
 ],
 "metadata": {
  "kernelspec": {
   "display_name": "Python 3 (ipykernel)",
   "language": "python",
   "name": "python3"
  },
  "language_info": {
   "codemirror_mode": {
    "name": "ipython",
    "version": 3
   },
   "file_extension": ".py",
   "mimetype": "text/x-python",
   "name": "python",
   "nbconvert_exporter": "python",
   "pygments_lexer": "ipython3",
   "version": "3.9.21"
  }
 },
 "nbformat": 4,
 "nbformat_minor": 5
}
