{
 "cells": [
  {
   "cell_type": "code",
   "execution_count": 1,
   "id": "5313fb15-eb86-45b6-8e3d-16f365c11986",
   "metadata": {},
   "outputs": [],
   "source": [
    "from aeon.datasets import load_classification\n",
    "from sklearn.preprocessing import StandardScaler, LabelEncoder\n",
    "from sklearn.model_selection import GridSearchCV\n",
    "from sklearn.metrics import accuracy_score\n",
    "import numpy as np\n",
    "import torch\n",
    "import torch.nn as nn\n",
    "import torch.nn.functional as F\n",
    "import torch.optim as optim\n",
    "from torch.utils.data import TensorDataset, DataLoader\n",
    "from torchvision import datasets, transforms\n",
    "from torch.utils.data import DataLoader, Subset\n",
    "from laplace_hdc_helper import load_dataset\n",
    "from laplace_hdc_classifier_1d import train_hdc_classifier, test_hdc_classifier\n",
    "from laplace_hdc_encoder_1d import hdc_encoder\n",
    "import matplotlib.pyplot as plt\n",
    "import numpy as np\n",
    "import time\n",
    "from tqdm import tqdm\n",
    "from scipy.io import savemat, loadmat\n"
   ]
  },
  {
   "cell_type": "code",
   "execution_count": 2,
   "id": "a901ee10-b6fe-49c5-9eca-d50a045e20c6",
   "metadata": {},
   "outputs": [],
   "source": [
    "device = torch.device(\"cuda:0\" if torch.cuda.is_available() else \"cpu\")\n",
    "dataset_name = 'WalkingSittingStanding'\n",
    "hyperdim = 15_000"
   ]
  },
  {
   "cell_type": "code",
   "execution_count": 3,
   "id": "d1a4d47a-0a55-4cb9-a10a-3ad62bba69f6",
   "metadata": {},
   "outputs": [],
   "source": [
    "# Load dataset\n",
    "X_train, y_train, metadata = load_classification(dataset_name, return_metadata=True, split='train')\n",
    "X_test, y_test = load_classification(dataset_name, split='test')\n",
    "if X_train.shape[0] < 200:\n",
    "    if X_test.shape[0] >= 200:\n",
    "        train_size = (X_train.shape[0] + X_test.shape[0]) * 3/4\n",
    "        x, y = load_classification(dataset_name)\n",
    "        X_train, y_train = x[:train_size, :], y[:train_size]\n",
    "        X_test, y_test = x[train_size:, :], y[train_size:]"
   ]
  },
  {
   "cell_type": "code",
   "execution_count": 4,
   "id": "3d5c451a-73f2-4109-b9cd-800e8abbe294",
   "metadata": {},
   "outputs": [],
   "source": [
    "input_channels = 1\n",
    "if X_train.ndim == 3:\n",
    "    input_channels = X_train.shape[1]\n",
    "seq_length = X_train.shape[-1]\n",
    "if y_train.dtype == object or isinstance(y_train[0], str):\n",
    "    le = LabelEncoder()\n",
    "    y_train = le.fit_transform(y_train)\n",
    "    y_test = le.transform(y_test)"
   ]
  },
  {
   "cell_type": "code",
   "execution_count": 5,
   "id": "573f76dc-06eb-488c-aa26-ceccf10d71ba",
   "metadata": {},
   "outputs": [
    {
     "data": {
      "text/plain": [
       "(7352, 3, 206)"
      ]
     },
     "execution_count": 5,
     "metadata": {},
     "output_type": "execute_result"
    }
   ],
   "source": [
    "X_train.shape"
   ]
  },
  {
   "cell_type": "code",
   "execution_count": 6,
   "id": "7de6908a-4c6e-4d70-af89-9ebc3a1f7502",
   "metadata": {},
   "outputs": [],
   "source": [
    "scaler = StandardScaler()\n",
    "X_train_scaled = scaler.fit_transform(X_train.reshape(-1, seq_length))\n",
    "X_test_scaled = scaler.transform(X_test.reshape(-1, seq_length))\n",
    "\n",
    "if input_channels == 1:\n",
    "    X_min = X_train_scaled.min(axis=0)\n",
    "    X_max = X_train_scaled.max(axis=0)\n",
    "    \n",
    "    denom = (X_max - X_min)\n",
    "    denom[denom == 0] = 1   # avoid division by zero\n",
    "    \n",
    "    X_train_norm = (X_train_scaled - X_min) / denom\n",
    "    X_test_norm  = (X_test_scaled  - X_min) / denom\n",
    "    \n",
    "    # Optional: clip to [0,1] just in case\n",
    "    X_train_norm = np.clip(X_train_norm, 0, 1)\n",
    "    X_test_norm  = np.clip(X_test_norm, 0, 1)\n",
    "    X_train_tensor = torch.tensor(X_train_norm, dtype=torch.float32).unsqueeze(1).to(device)\n",
    "    X_test_tensor = torch.tensor(X_test_norm, dtype=torch.float32).unsqueeze(1).to(device)\n",
    "else:\n",
    "    X_min = X_train.min(axis=0)\n",
    "    X_max = X_train.max(axis=0)\n",
    "    \n",
    "    denom = (X_max - X_min)\n",
    "    denom[denom == 0] = 1   # avoid division by zero\n",
    "    \n",
    "    X_train_norm = (X_train - X_min) / denom\n",
    "    X_test_norm  = (X_test  - X_min) / denom\n",
    "    \n",
    "    # Optional: clip to [0,1] just in case\n",
    "    X_train_norm = np.clip(X_train_norm, 0, 1)\n",
    "    X_test_norm  = np.clip(X_test_norm, 0, 1)\n",
    "    # Multichannel → keep original channels\n",
    "    X_train_tensor = torch.tensor(X_train_norm, dtype=torch.float32).to(device)\n",
    "    X_test_tensor = torch.tensor(X_test_norm, dtype=torch.float32).to(device)\n",
    "\n",
    "    "
   ]
  },
  {
   "cell_type": "code",
   "execution_count": 7,
   "id": "2c3c27da-d1f2-4edd-b5cb-07e1e1db086e",
   "metadata": {},
   "outputs": [],
   "source": [
    "y_train_tensor = torch.tensor(y_train, dtype=torch.long).to(device)\n",
    "y_test_tensor = torch.tensor(y_test, dtype=torch.long).to(device)\n",
    "\n",
    "train_data = TensorDataset(X_train_tensor, y_train_tensor)\n",
    "test_data = TensorDataset(X_test_tensor, y_test_tensor)\n",
    "train_loader = DataLoader(train_data, batch_size=32, shuffle=True)\n",
    "test_loader = DataLoader(test_data, batch_size=32, shuffle=False)\n",
    "\n",
    "num_classes = len(np.unique(y_train))"
   ]
  },
  {
   "cell_type": "code",
   "execution_count": 8,
   "id": "e364a93c-7d57-437d-a789-57b09c58ef9b",
   "metadata": {},
   "outputs": [
    {
     "data": {
      "text/plain": [
       "(tensor(0., device='cuda:0'),\n",
       " tensor(1., device='cuda:0'),\n",
       " array([0, 1, 2, 3, 4, 5]))"
      ]
     },
     "execution_count": 8,
     "metadata": {},
     "output_type": "execute_result"
    }
   ],
   "source": [
    "torch.min(X_test_tensor), torch.max(X_test_tensor), np.unique(y_train)"
   ]
  },
  {
   "cell_type": "code",
   "execution_count": 9,
   "id": "8c7e9a74-8141-4f7a-8a00-f571408643e9",
   "metadata": {},
   "outputs": [
    {
     "name": "stdout",
     "output_type": "stream",
     "text": [
      "lambda = 0.06255343556404114\n",
      "618\n"
     ]
    },
    {
     "data": {
      "image/png": "[encoded data removed]",
      "text/plain": [
       "<Figure size 640x480 with 1 Axes>"
      ]
     },
     "metadata": {},
     "output_type": "display_data"
    }
   ],
   "source": [
    "# Determining Lambda from random 1000 samples\n",
    "bandwidth_parameter = 3 # bandwidth parameter\n",
    "encoder_mode = 'shift_1d'\n",
    "classifier_mode=\"float_sgd\"\n",
    "batch_size = 1024\n",
    "num_colors = 128\n",
    "\n",
    "X,  _ = next(iter(DataLoader(train_data, batch_size=1000, shuffle=True)))\n",
    "X = X.reshape(X.shape[0],-1).cpu()\n",
    "\n",
    "D = torch.sum(torch.abs(X.unsqueeze(0)-X.unsqueeze(1)),dim=2)\n",
    "a = torch.median(D.flatten())\n",
    "lmd = bandwidth_parameter/a\n",
    "print(f\"lambda = {lmd}\")\n",
    "\n",
    "# Define the local kernel\n",
    "x = np.linspace(0, 1, num=num_colors).reshape(-1, 1)\n",
    "f = lambda X: 1 - lmd*X\n",
    "kernel = f(np.abs(x - x.T))\n",
    "\n",
    "# Visualize the global kernel\n",
    "d = train_data[0][0].squeeze().numel()\n",
    "print(d)\n",
    "S = lambda v: np.exp(-lmd*v)\n",
    "v = np.linspace(0, d)\n",
    "plt.plot(v, S(v))\n",
    "plt.title(f\"Kernel K for d={d} and num_colors = {num_colors}\")\n",
    "plt.show()"
   ]
  },
  {
   "cell_type": "code",
   "execution_count": 10,
   "id": "f8dd066d-305b-4367-9da6-ea45bf09e626",
   "metadata": {},
   "outputs": [],
   "source": [
    "import torch\n",
    "from torch.utils.data import TensorDataset\n",
    "from typing import Optional   # ← add this\n",
    "\n",
    "@torch.no_grad()\n",
    "def flip_bits_bool(H: torch.BoolTensor,\n",
    "                   perc: float,\n",
    "                   *,\n",
    "                   inplace: bool = True,\n",
    "                   ) -> torch.BoolTensor:\n",
    "    \"\"\"\n",
    "    Flip exactly round(perc·D) bits in each row of a boolean tensor H.\n",
    "\n",
    "    Works on a flattened (M, D) view, then reshapes back to H’s shape.\n",
    "    \"\"\"\n",
    "    if perc <= 0.0:\n",
    "        return H if inplace else H.clone()\n",
    "\n",
    "    flat = H.view(H.shape[0], -1)        # (M, D)\n",
    "    M, D = flat.shape\n",
    "    k = int(round(perc * D))\n",
    "    if k == 0:\n",
    "        return H if inplace else H.clone()\n",
    "\n",
    "    out = flat if inplace else flat.clone()\n",
    "    rows = torch.arange(M, device=H.device).repeat_interleave(k)\n",
    "\n",
    "    cols = torch.cat([\n",
    "        torch.multinomial(torch.ones(D, device=H.device),\n",
    "                          k, replacement=False)\n",
    "        for _ in range(M)\n",
    "    ])\n",
    "\n",
    "    out[rows, cols] = ~out[rows, cols]   # toggle bits (True ↔ False)\n",
    "    return out.view_as(H)\n",
    "\n",
    "\n",
    "\n",
    "def corrupt_dataset(dataset: TensorDataset, perc: float):\n",
    "    \"\"\"\n",
    "    Return a new TensorDataset whose data tensor has been bit-flipped.\n",
    "    Labels are untouched.\n",
    "    \"\"\"\n",
    "    data, labels = dataset.tensors\n",
    "    data_flipped = flip_bits_bool(data.clone(), perc)\n",
    "    return TensorDataset(data_flipped, labels)\n"
   ]
  },
  {
   "cell_type": "code",
   "execution_count": 11,
   "id": "585e1fd5-8e41-4d63-a936-455aced4b703",
   "metadata": {},
   "outputs": [
    {
     "name": "stderr",
     "output_type": "stream",
     "text": [
      "100%|██████████| 20/20 [06:19<00:00, 19.00s/it]\n"
     ]
    },
    {
     "name": "stdout",
     "output_type": "stream",
     "text": [
      "Flipping Percentage: 0.0 Finished. Average Accuracy over 20 rounds: 77.17687074829931, std: 2.219762394423089\n"
     ]
    },
    {
     "name": "stderr",
     "output_type": "stream",
     "text": [
      "100%|██████████| 20/20 [06:17<00:00, 18.89s/it]\n"
     ]
    },
    {
     "name": "stdout",
     "output_type": "stream",
     "text": [
      "Flipping Percentage: 0.05 Finished. Average Accuracy over 20 rounds: 77.0748299319728, std: 2.670447132842246\n"
     ]
    },
    {
     "name": "stderr",
     "output_type": "stream",
     "text": [
      "100%|██████████| 20/20 [06:19<00:00, 18.99s/it]\n"
     ]
    },
    {
     "name": "stdout",
     "output_type": "stream",
     "text": [
      "Flipping Percentage: 0.1 Finished. Average Accuracy over 20 rounds: 75.74829931972789, std: 3.7647699167760833\n"
     ]
    },
    {
     "name": "stderr",
     "output_type": "stream",
     "text": [
      "100%|██████████| 20/20 [06:18<00:00, 18.91s/it]\n"
     ]
    },
    {
     "name": "stdout",
     "output_type": "stream",
     "text": [
      "Flipping Percentage: 0.15000000000000002 Finished. Average Accuracy over 20 rounds: 75.98639455782313, std: 3.2203538445019375\n"
     ]
    },
    {
     "name": "stderr",
     "output_type": "stream",
     "text": [
      "100%|██████████| 20/20 [06:22<00:00, 19.10s/it]\n"
     ]
    },
    {
     "name": "stdout",
     "output_type": "stream",
     "text": [
      "Flipping Percentage: 0.2 Finished. Average Accuracy over 20 rounds: 73.87755102040816, std: 3.258212248932802\n"
     ]
    },
    {
     "name": "stderr",
     "output_type": "stream",
     "text": [
      "100%|██████████| 20/20 [06:19<00:00, 18.99s/it]\n"
     ]
    },
    {
     "name": "stdout",
     "output_type": "stream",
     "text": [
      "Flipping Percentage: 0.25 Finished. Average Accuracy over 20 rounds: 73.19727891156462, std: 3.200895334971048\n"
     ]
    },
    {
     "name": "stderr",
     "output_type": "stream",
     "text": [
      "100%|██████████| 20/20 [06:23<00:00, 19.19s/it]\n"
     ]
    },
    {
     "name": "stdout",
     "output_type": "stream",
     "text": [
      "Flipping Percentage: 0.30000000000000004 Finished. Average Accuracy over 20 rounds: 72.24489795918367, std: 3.785150406324778\n"
     ]
    },
    {
     "name": "stderr",
     "output_type": "stream",
     "text": [
      "100%|██████████| 20/20 [06:19<00:00, 18.97s/it]\n"
     ]
    },
    {
     "name": "stdout",
     "output_type": "stream",
     "text": [
      "Flipping Percentage: 0.35000000000000003 Finished. Average Accuracy over 20 rounds: 71.19047619047619, std: 4.325348531454138\n"
     ]
    },
    {
     "name": "stderr",
     "output_type": "stream",
     "text": [
      "100%|██████████| 20/20 [06:20<00:00, 19.05s/it]\n"
     ]
    },
    {
     "name": "stdout",
     "output_type": "stream",
     "text": [
      "Flipping Percentage: 0.4 Finished. Average Accuracy over 20 rounds: 64.79591836734694, std: 3.6435859329300238\n"
     ]
    },
    {
     "name": "stderr",
     "output_type": "stream",
     "text": [
      "100%|██████████| 20/20 [06:20<00:00, 19.02s/it]\n"
     ]
    },
    {
     "name": "stdout",
     "output_type": "stream",
     "text": [
      "Flipping Percentage: 0.45 Finished. Average Accuracy over 20 rounds: 48.91156462585034, std: 2.9722520101977516\n"
     ]
    },
    {
     "name": "stderr",
     "output_type": "stream",
     "text": [
      "100%|██████████| 20/20 [06:18<00:00, 18.95s/it]"
     ]
    },
    {
     "name": "stdout",
     "output_type": "stream",
     "text": [
      "Flipping Percentage: 0.5 Finished. Average Accuracy over 20 rounds: 17.346938775510203, std: 2.94566463872258\n"
     ]
    },
    {
     "name": "stderr",
     "output_type": "stream",
     "text": [
      "\n"
     ]
    }
   ],
   "source": [
    "num_workers = 0\n",
    "pin_memory=False\n",
    "n_splits = 20\n",
    "split_size = len(test_data) // n_splits\n",
    "percs = np.arange(0.0, 0.51, 0.05)\n",
    "accuracies = np.zeros((len(percs), n_splits))\n",
    "for i, perc in enumerate(percs):\n",
    "    # Train\n",
    "    for split_idx in tqdm(range(n_splits)):\n",
    "        indices = list(range(len(test_data)))\n",
    "        np.random.shuffle(indices)  # or random.shuffle(indices)\n",
    "        start_idx = split_idx * split_size\n",
    "        end_idx = start_idx + split_size\n",
    "        split_indices = indices[start_idx:end_idx]\n",
    "        split_subset = Subset(test_data, split_indices)\n",
    "        split_loader = torch.utils.data.DataLoader(split_subset, batch_size=10, shuffle=False,\n",
    "                                                   num_workers=num_workers, pin_memory=pin_memory)\n",
    "        encoder = hdc_encoder(d, hyperdim, kernel, encoder_mode)\n",
    "        train_hdc = encoder.encode(train_loader)\n",
    "        train_loader_hdc = DataLoader(train_hdc,batch_size=10,shuffle=True,num_workers=0,pin_memory=False)\n",
    "        model = train_hdc_classifier(train_loader_hdc, num_classes, mode=classifier_mode, epochs=10)\n",
    "        # Test\n",
    "        split_hdc = encoder.encode(split_loader)\n",
    "        split_hdc = corrupt_dataset(split_hdc, perc=perc)\n",
    "        split_loader_hdc = DataLoader(\n",
    "            split_hdc,\n",
    "            batch_size=64,\n",
    "            shuffle=True,\n",
    "            num_workers=0,\n",
    "            pin_memory=False\n",
    "        )\n",
    "        accuracies[i, split_idx] = test_hdc_classifier(model, split_loader_hdc)*100\n",
    "    print(f'Flipping Percentage: {perc} Finished. Average Accuracy over {n_splits} rounds: {np.mean(accuracies[i])}, std: {np.std(accuracies[i])}')\n"
   ]
  },
  {
   "cell_type": "code",
   "execution_count": 12,
   "id": "c8fe6fd1-c03a-4457-8ed6-bd13fdb08aae",
   "metadata": {},
   "outputs": [
    {
     "data": {
      "text/plain": [
       "array([77.17687075, 77.07482993, 75.74829932, 75.98639456, 73.87755102,\n",
       "       73.19727891, 72.24489796, 71.19047619, 64.79591837, 48.91156463,\n",
       "       17.34693878])"
      ]
     },
     "execution_count": 12,
     "metadata": {},
     "output_type": "execute_result"
    }
   ],
   "source": [
    "np.mean(accuracies, axis=1)"
   ]
  },
  {
   "cell_type": "code",
   "execution_count": 13,
   "id": "9751af42-a42f-4e15-8643-59bed0355ba0",
   "metadata": {},
   "outputs": [],
   "source": [
    "savemat(f'{dataset_name}_LaplaceHDC.mat', {f'{dataset_name}_LaplaceHDC': accuracies})"
   ]
  },
  {
   "cell_type": "code",
   "execution_count": null,
   "id": "ca712900-e64d-493b-ae3b-3dc2202960e1",
   "metadata": {},
   "outputs": [],
   "source": []
  },
  {
   "cell_type": "code",
   "execution_count": null,
   "id": "6dd72f71-c9b9-4e2c-ae5c-d9b71e896068",
   "metadata": {},
   "outputs": [],
   "source": []
  }
 ],
 "metadata": {
  "kernelspec": {
   "display_name": "Python 3 (ipykernel)",
   "language": "python",
   "name": "python3"
  },
  "language_info": {
   "codemirror_mode": {
    "name": "ipython",
    "version": 3
   },
   "file_extension": ".py",
   "mimetype": "text/x-python",
   "name": "python",
   "nbconvert_exporter": "python",
   "pygments_lexer": "ipython3",
   "version": "3.9.21"
  }
 },
 "nbformat": 4,
 "nbformat_minor": 5
}
