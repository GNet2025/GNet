{
 "cells": [
  {
   "cell_type": "code",
   "execution_count": 1,
   "id": "0433d323-d3cd-4d1b-83f4-3f8a23e4ef4e",
   "metadata": {},
   "outputs": [
    {
     "name": "stdout",
     "output_type": "stream",
     "text": [
      "Using device:\tcuda:0\n"
     ]
    }
   ],
   "source": [
    "import os\n",
    "os.environ[\"CUDA_LAUNCH_BLOCKING\"] = \"1\"\n",
    "import torch\n",
    "from torchvision import datasets, transforms\n",
    "from torch.utils.data import DataLoader, Subset\n",
    "from laplace_hdc_helper import load_dataset\n",
    "from laplace_hdc_classifier_1d import train_hdc_classifier, test_hdc_classifier\n",
    "from laplace_hdc_encoder_1d import hdc_encoder\n",
    "import matplotlib.pyplot as plt\n",
    "import numpy as np\n",
    "import time\n",
    "from tqdm import tqdm\n",
    "from scipy.io import savemat, loadmat\n",
    "from torch.utils.data import TensorDataset, DataLoader\n",
    "\n",
    "\n",
    "device = torch.device(\"cuda:0\" if torch.cuda.is_available() else \"cpu\")\n",
    "print(f\"Using device:\\t{device}\")"
   ]
  },
  {
   "cell_type": "markdown",
   "id": "e38fe4c3-5b96-49c0-b9e5-68fe57f96d5d",
   "metadata": {},
   "source": [
    "### Hyperparameters"
   ]
  },
  {
   "cell_type": "code",
   "execution_count": 2,
   "id": "191b370d-cd87-42c6-a767-6af09d84e45f",
   "metadata": {},
   "outputs": [],
   "source": [
    "hyperdim = 5000 \n",
    "bandwidth_parameter = 3 # bandwidth parameter\n",
    "encoder_mode = 'shift_1d'\n",
    "classifier_mode=\"float_sgd\"\n",
    "epochs=10"
   ]
  },
  {
   "cell_type": "markdown",
   "id": "6c5c9499-4412-41e1-adf2-b16225485fdb",
   "metadata": {},
   "source": [
    "## Load Data"
   ]
  },
  {
   "cell_type": "code",
   "execution_count": 3,
   "id": "eba68280-5ac2-409f-9b8a-2d8ab0836532",
   "metadata": {},
   "outputs": [
    {
     "name": "stdout",
     "output_type": "stream",
     "text": [
      "Train shape: (3601, 500), Test shape: (1320, 500)\n"
     ]
    }
   ],
   "source": [
    "def load_ucr(file):\n",
    "    data = np.loadtxt(file)\n",
    "    X = data[:, 1:]\n",
    "    y = data[:, 0]\n",
    "    y = np.where(y == 1, 1, 0)  # convert labels to 0/1\n",
    "    return X, y\n",
    "\n",
    "# Adjust file paths to your local files\n",
    "X_train, y_train = load_ucr(\"../FordA_TRAIN.txt\")\n",
    "X_test, y_test = load_ucr(\"../FordA_TEST.txt\")\n",
    "\n",
    "print(f\"Train shape: {X_train.shape}, Test shape: {X_test.shape}\")\n",
    "\n",
    "# ——— Normalization step (min-max per feature) ———\n",
    "X_min = X_train.min(axis=0)\n",
    "X_max = X_train.max(axis=0)\n",
    "\n",
    "denom = (X_max - X_min)\n",
    "denom[denom == 0] = 1   # avoid division by zero\n",
    "\n",
    "X_train_norm = (X_train - X_min) / denom\n",
    "X_test_norm  = (X_test  - X_min) / denom\n",
    "\n",
    "# Optional: clip to [0,1] just in case\n",
    "X_train_norm = np.clip(X_train_norm, 0, 1)\n",
    "X_test_norm  = np.clip(X_test_norm, 0, 1)\n",
    "\n",
    "# ——— Prepare tensors & dataloaders ———\n",
    "device = torch.device(\"cuda\" if torch.cuda.is_available() else \"cpu\")\n",
    "\n",
    "x_train_tensor = torch.tensor(X_train_norm)\n",
    "x_test_tensor  = torch.tensor(X_test_norm)\n",
    "\n",
    "train_data = TensorDataset(x_train_tensor, torch.tensor(y_train))\n",
    "test_data  = TensorDataset(x_test_tensor, torch.tensor(y_test))\n",
    "\n",
    "train_loader = DataLoader(train_data, batch_size=32, shuffle=True)\n",
    "test_loader  = DataLoader(test_data, batch_size=32)"
   ]
  },
  {
   "cell_type": "markdown",
   "id": "d262c61e-2dad-49d5-a8ca-21e82ccf2a1e",
   "metadata": {},
   "source": [
    "## Kernel Matrix Construction"
   ]
  },
  {
   "cell_type": "code",
   "execution_count": 4,
   "id": "267bdf28-ec1f-4ca7-b64b-fea4e0f78e4e",
   "metadata": {},
   "outputs": [
    {
     "name": "stdout",
     "output_type": "stream",
     "text": [
      "lambda = 0.03653908684643524\n",
      "500\n"
     ]
    },
    {
     "data": {
      "image/png": "[encoded data removed]",
      "text/plain": [
       "<Figure size 640x480 with 1 Axes>"
      ]
     },
     "metadata": {},
     "output_type": "display_data"
    }
   ],
   "source": [
    "# Determining Lambda from random 1000 samples\n",
    "batch_size = 1024\n",
    "num_colors = 256\n",
    "\n",
    "X,  _ = next(iter(DataLoader(train_data, batch_size=1000, shuffle=True)))\n",
    "X = X.reshape(X.shape[0],-1)\n",
    "\n",
    "D = torch.sum(torch.abs(X.unsqueeze(0)-X.unsqueeze(1)),dim=2)\n",
    "a = torch.median(D.flatten())\n",
    "lmd = bandwidth_parameter/a\n",
    "print(f\"lambda = {lmd}\")\n",
    "\n",
    "# Define the local kernel\n",
    "x = np.linspace(0, 1, num=num_colors).reshape(-1, 1)\n",
    "f = lambda X: 1 - lmd*X\n",
    "kernel = f(np.abs(x - x.T))\n",
    "\n",
    "# Visualize the global kernel\n",
    "d = train_data[0][0].squeeze().numel()\n",
    "print(d)\n",
    "S = lambda v: np.exp(-lmd*v)\n",
    "v = np.linspace(0, d)\n",
    "plt.plot(v, S(v))\n",
    "plt.title(f\"Kernel K for d={d} and num_colors = {num_colors}\")\n",
    "plt.show()"
   ]
  },
  {
   "cell_type": "markdown",
   "id": "f54a34bc-9319-45f7-91ed-ffcce732bd59",
   "metadata": {},
   "source": [
    "## Classification"
   ]
  },
  {
   "cell_type": "code",
   "execution_count": 5,
   "id": "ca9696a4-6dcf-4593-b756-360c93ffdb80",
   "metadata": {},
   "outputs": [],
   "source": [
    "import torch\n",
    "from torch.utils.data import TensorDataset\n",
    "from typing import Optional   # ← add this\n",
    "\n",
    "@torch.no_grad()\n",
    "def flip_bits_bool(H: torch.BoolTensor,\n",
    "                   perc: float,\n",
    "                   *,\n",
    "                   inplace: bool = True,\n",
    "                   ) -> torch.BoolTensor:\n",
    "    \"\"\"\n",
    "    Flip exactly round(perc·D) bits in each row of a boolean tensor H.\n",
    "\n",
    "    Works on a flattened (M, D) view, then reshapes back to H’s shape.\n",
    "    \"\"\"\n",
    "    if perc <= 0.0:\n",
    "        return H if inplace else H.clone()\n",
    "\n",
    "    flat = H.view(H.shape[0], -1)        # (M, D)\n",
    "    M, D = flat.shape\n",
    "    k = int(round(perc * D))\n",
    "    if k == 0:\n",
    "        return H if inplace else H.clone()\n",
    "\n",
    "    out = flat if inplace else flat.clone()\n",
    "    rows = torch.arange(M, device=H.device).repeat_interleave(k)\n",
    "\n",
    "    cols = torch.cat([\n",
    "        torch.multinomial(torch.ones(D, device=H.device),\n",
    "                          k, replacement=False)\n",
    "        for _ in range(M)\n",
    "    ])\n",
    "\n",
    "    out[rows, cols] = ~out[rows, cols]   # toggle bits (True ↔ False)\n",
    "    return out.view_as(H)\n",
    "\n",
    "\n",
    "\n",
    "def corrupt_dataset(dataset: TensorDataset, perc: float):\n",
    "    \"\"\"\n",
    "    Return a new TensorDataset whose data tensor has been bit-flipped.\n",
    "    Labels are untouched.\n",
    "    \"\"\"\n",
    "    data, labels = dataset.tensors\n",
    "    data_flipped = flip_bits_bool(data.clone(), perc)\n",
    "    return TensorDataset(data_flipped, labels)\n"
   ]
  },
  {
   "cell_type": "code",
   "execution_count": 6,
   "id": "bc22c40f-2814-44a5-beb8-6147b0a3d10c",
   "metadata": {},
   "outputs": [
    {
     "name": "stdout",
     "output_type": "stream",
     "text": [
      "Hyperdimension: 15000 Started --------------\n",
      "Encoding Train Data and Training the Model for Flipping Percentage=0.0 finished\n"
     ]
    },
    {
     "name": "stderr",
     "output_type": "stream",
     "text": [
      "100%|██████████| 20/20 [00:59<00:00,  2.98s/it]\n"
     ]
    },
    {
     "name": "stdout",
     "output_type": "stream",
     "text": [
      "Flipping Percentage: 0.0 Finished. Average Accuracy over 20 splits: 0.6364\n",
      "Hyperdimension: 15000 Started --------------\n",
      "Encoding Train Data and Training the Model for Flipping Percentage=0.05 finished\n"
     ]
    },
    {
     "name": "stderr",
     "output_type": "stream",
     "text": [
      "100%|██████████| 20/20 [01:02<00:00,  3.13s/it]\n"
     ]
    },
    {
     "name": "stdout",
     "output_type": "stream",
     "text": [
      "Flipping Percentage: 0.05 Finished. Average Accuracy over 20 splits: 0.6379\n",
      "Hyperdimension: 15000 Started --------------\n",
      "Encoding Train Data and Training the Model for Flipping Percentage=0.1 finished\n"
     ]
    },
    {
     "name": "stderr",
     "output_type": "stream",
     "text": [
      "100%|██████████| 20/20 [01:05<00:00,  3.27s/it]\n"
     ]
    },
    {
     "name": "stdout",
     "output_type": "stream",
     "text": [
      "Flipping Percentage: 0.1 Finished. Average Accuracy over 20 splits: 0.6139\n",
      "Hyperdimension: 15000 Started --------------\n",
      "Encoding Train Data and Training the Model for Flipping Percentage=0.15 finished\n"
     ]
    },
    {
     "name": "stderr",
     "output_type": "stream",
     "text": [
      "100%|██████████| 20/20 [01:05<00:00,  3.26s/it]\n"
     ]
    },
    {
     "name": "stdout",
     "output_type": "stream",
     "text": [
      "Flipping Percentage: 0.15 Finished. Average Accuracy over 20 splits: 0.6255999999999999\n",
      "Hyperdimension: 15000 Started --------------\n",
      "Encoding Train Data and Training the Model for Flipping Percentage=0.2 finished\n"
     ]
    },
    {
     "name": "stderr",
     "output_type": "stream",
     "text": [
      "100%|██████████| 20/20 [01:04<00:00,  3.24s/it]\n"
     ]
    },
    {
     "name": "stdout",
     "output_type": "stream",
     "text": [
      "Flipping Percentage: 0.2 Finished. Average Accuracy over 20 splits: 0.5818\n",
      "Hyperdimension: 15000 Started --------------\n",
      "Encoding Train Data and Training the Model for Flipping Percentage=0.25 finished\n"
     ]
    },
    {
     "name": "stderr",
     "output_type": "stream",
     "text": [
      "100%|██████████| 20/20 [01:05<00:00,  3.26s/it]\n"
     ]
    },
    {
     "name": "stdout",
     "output_type": "stream",
     "text": [
      "Flipping Percentage: 0.25 Finished. Average Accuracy over 20 splits: 0.6068\n",
      "Hyperdimension: 15000 Started --------------\n",
      "Encoding Train Data and Training the Model for Flipping Percentage=0.3 finished\n"
     ]
    },
    {
     "name": "stderr",
     "output_type": "stream",
     "text": [
      "100%|██████████| 20/20 [01:16<00:00,  3.82s/it]\n"
     ]
    },
    {
     "name": "stdout",
     "output_type": "stream",
     "text": [
      "Flipping Percentage: 0.3 Finished. Average Accuracy over 20 splits: 0.5824\n",
      "Hyperdimension: 15000 Started --------------\n",
      "Encoding Train Data and Training the Model for Flipping Percentage=0.35 finished\n"
     ]
    },
    {
     "name": "stderr",
     "output_type": "stream",
     "text": [
      "100%|██████████| 20/20 [01:10<00:00,  3.52s/it]\n"
     ]
    },
    {
     "name": "stdout",
     "output_type": "stream",
     "text": [
      "Flipping Percentage: 0.35 Finished. Average Accuracy over 20 splits: 0.5717999999999999\n",
      "Hyperdimension: 15000 Started --------------\n",
      "Encoding Train Data and Training the Model for Flipping Percentage=0.4 finished\n"
     ]
    },
    {
     "name": "stderr",
     "output_type": "stream",
     "text": [
      "100%|██████████| 20/20 [01:10<00:00,  3.52s/it]\n"
     ]
    },
    {
     "name": "stdout",
     "output_type": "stream",
     "text": [
      "Flipping Percentage: 0.4 Finished. Average Accuracy over 20 splits: 0.5363999999999999\n",
      "Hyperdimension: 15000 Started --------------\n",
      "Encoding Train Data and Training the Model for Flipping Percentage=0.45 finished\n"
     ]
    },
    {
     "name": "stderr",
     "output_type": "stream",
     "text": [
      "100%|██████████| 20/20 [01:12<00:00,  3.65s/it]\n"
     ]
    },
    {
     "name": "stdout",
     "output_type": "stream",
     "text": [
      "Flipping Percentage: 0.45 Finished. Average Accuracy over 20 splits: 0.5293000000000001\n",
      "Hyperdimension: 15000 Started --------------\n",
      "Encoding Train Data and Training the Model for Flipping Percentage=0.5 finished\n"
     ]
    },
    {
     "name": "stderr",
     "output_type": "stream",
     "text": [
      "100%|██████████| 20/20 [01:14<00:00,  3.71s/it]"
     ]
    },
    {
     "name": "stdout",
     "output_type": "stream",
     "text": [
      "Flipping Percentage: 0.5 Finished. Average Accuracy over 20 splits: 0.5087999999999999\n"
     ]
    },
    {
     "name": "stderr",
     "output_type": "stream",
     "text": [
      "\n"
     ]
    }
   ],
   "source": [
    "num_workers = 2\n",
    "pin_memory=True\n",
    "n_splits = 20\n",
    "split_size = 500\n",
    "flip_percs = np.arange(0.0, 0.51, 0.05)\n",
    "accuracies = np.zeros((len(flip_percs), n_splits))\n",
    "num_classes=2\n",
    "nHDC = 15_000\n",
    "for i, perc in enumerate(flip_percs):\n",
    "    print(f'Hyperdimension: {nHDC} Started --------------')\n",
    "    # Train\n",
    "    encoder = hdc_encoder(d, nHDC, kernel, encoder_mode)\n",
    "    train_hdc = encoder.encode(train_loader)\n",
    "    train_loader_hdc = DataLoader(\n",
    "        train_hdc,\n",
    "        batch_size=10,\n",
    "        shuffle=True,\n",
    "        num_workers=0,      # <-- no background workers\n",
    "        pin_memory=False    # <-- nothing to pin; data is on GPU\n",
    "    )\n",
    "    model = train_hdc_classifier(train_loader_hdc, num_classes, mode=classifier_mode, epochs=10)\n",
    "    print(f'Encoding Train Data and Training the Model for Flipping Percentage={np.round(perc, 2)} finished')\n",
    "    for split_idx in tqdm(range(n_splits)):\n",
    "        # Test\n",
    "        np.random.seed(split_idx)\n",
    "        split_indices = np.random.choice(len(test_data), size=split_size, replace=False)\n",
    "        split_subset = Subset(test_data, split_indices)\n",
    "        split_loader = DataLoader(\n",
    "            split_subset,\n",
    "            batch_size=10,\n",
    "            shuffle=False,\n",
    "            num_workers=num_workers,   # 2, as you set above\n",
    "            pin_memory=pin_memory      # True\n",
    "        )\n",
    "        split_hdc = encoder.encode(split_loader)\n",
    "        split_hdc = corrupt_dataset(split_hdc, perc=perc)\n",
    "        split_loader_hdc = DataLoader(\n",
    "            split_hdc,\n",
    "            batch_size=10,\n",
    "            shuffle=True,\n",
    "            num_workers=0,\n",
    "            pin_memory=False\n",
    "        )\n",
    "        accuracies[i, split_idx] = test_hdc_classifier(model, split_loader_hdc)\n",
    "    print(f'Flipping Percentage: {np.round(perc, 2)} Finished. Average Accuracy over 20 splits: {np.mean(accuracies[i])}')\n"
   ]
  },
  {
   "cell_type": "code",
   "execution_count": 7,
   "id": "c8536005-74ba-488a-aa83-24e662840bf7",
   "metadata": {},
   "outputs": [
    {
     "data": {
      "text/plain": [
       "array([[0.608, 0.658, 0.636, 0.682, 0.624, 0.636, 0.6  , 0.628, 0.644,\n",
       "        0.638, 0.62 , 0.64 , 0.646, 0.642, 0.64 , 0.65 , 0.608, 0.652,\n",
       "        0.636, 0.64 ],\n",
       "       [0.624, 0.65 , 0.616, 0.66 , 0.634, 0.642, 0.642, 0.618, 0.64 ,\n",
       "        0.662, 0.654, 0.608, 0.672, 0.64 , 0.62 , 0.618, 0.644, 0.636,\n",
       "        0.634, 0.644],\n",
       "       [0.572, 0.596, 0.61 , 0.63 , 0.602, 0.642, 0.626, 0.602, 0.626,\n",
       "        0.586, 0.602, 0.61 , 0.644, 0.608, 0.612, 0.626, 0.604, 0.622,\n",
       "        0.64 , 0.618],\n",
       "       [0.622, 0.65 , 0.62 , 0.632, 0.608, 0.614, 0.602, 0.596, 0.622,\n",
       "        0.618, 0.594, 0.58 , 0.648, 0.648, 0.62 , 0.646, 0.61 , 0.676,\n",
       "        0.664, 0.642],\n",
       "       [0.58 , 0.628, 0.58 , 0.606, 0.594, 0.572, 0.618, 0.544, 0.582,\n",
       "        0.588, 0.542, 0.578, 0.56 , 0.572, 0.528, 0.582, 0.6  , 0.604,\n",
       "        0.604, 0.574],\n",
       "       [0.612, 0.658, 0.628, 0.592, 0.616, 0.582, 0.592, 0.614, 0.616,\n",
       "        0.58 , 0.632, 0.59 , 0.626, 0.604, 0.6  , 0.596, 0.586, 0.596,\n",
       "        0.62 , 0.596],\n",
       "       [0.6  , 0.59 , 0.564, 0.588, 0.606, 0.584, 0.55 , 0.574, 0.588,\n",
       "        0.594, 0.586, 0.562, 0.57 , 0.556, 0.622, 0.568, 0.578, 0.576,\n",
       "        0.602, 0.59 ],\n",
       "       [0.538, 0.588, 0.552, 0.582, 0.578, 0.512, 0.608, 0.54 , 0.574,\n",
       "        0.546, 0.562, 0.62 , 0.604, 0.614, 0.552, 0.548, 0.586, 0.576,\n",
       "        0.594, 0.562],\n",
       "       [0.51 , 0.578, 0.554, 0.564, 0.52 , 0.52 , 0.552, 0.538, 0.532,\n",
       "        0.52 , 0.55 , 0.52 , 0.514, 0.522, 0.526, 0.536, 0.546, 0.524,\n",
       "        0.524, 0.578],\n",
       "       [0.528, 0.492, 0.524, 0.544, 0.518, 0.514, 0.494, 0.552, 0.532,\n",
       "        0.522, 0.528, 0.556, 0.536, 0.516, 0.516, 0.536, 0.576, 0.512,\n",
       "        0.528, 0.562],\n",
       "       [0.524, 0.54 , 0.51 , 0.514, 0.496, 0.518, 0.524, 0.506, 0.484,\n",
       "        0.526, 0.492, 0.5  , 0.536, 0.502, 0.496, 0.466, 0.51 , 0.492,\n",
       "        0.51 , 0.53 ]])"
      ]
     },
     "execution_count": 7,
     "metadata": {},
     "output_type": "execute_result"
    }
   ],
   "source": [
    "accuracies"
   ]
  },
  {
   "cell_type": "code",
   "execution_count": 8,
   "id": "03c442b6-a5f6-48bb-889b-862308a377f7",
   "metadata": {},
   "outputs": [],
   "source": [
    "savemat('FordA_LaplaceHDC.mat', {'FordA_LaplaceHDC': accuracies*100})"
   ]
  },
  {
   "cell_type": "code",
   "execution_count": null,
   "id": "b4c31f1d-3790-44eb-8dae-b8be2b1b763c",
   "metadata": {},
   "outputs": [],
   "source": []
  }
 ],
 "metadata": {
  "kernelspec": {
   "display_name": "Python 3 (ipykernel)",
   "language": "python",
   "name": "python3"
  },
  "language_info": {
   "codemirror_mode": {
    "name": "ipython",
    "version": 3
   },
   "file_extension": ".py",
   "mimetype": "text/x-python",
   "name": "python",
   "nbconvert_exporter": "python",
   "pygments_lexer": "ipython3",
   "version": "3.9.21"
  }
 },
 "nbformat": 4,
 "nbformat_minor": 5
}
