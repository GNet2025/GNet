{
 "cells": [
  {
   "cell_type": "code",
   "execution_count": 1,
   "id": "7d52b4b0-2344-496b-89ee-21507fa05250",
   "metadata": {},
   "outputs": [
    {
     "name": "stdout",
     "output_type": "stream",
     "text": [
      "Using device:\tcuda:0\n"
     ]
    }
   ],
   "source": [
    "import torch\n",
    "from torchvision import datasets, transforms\n",
    "from torch.utils.data import DataLoader, Subset\n",
    "from laplace_hdc_helper import load_dataset\n",
    "from laplace_hdc_encoder import hdc_encoder\n",
    "from laplace_hdc_classifier import train_hdc_classifier, test_hdc_classifier\n",
    "import matplotlib.pyplot as plt\n",
    "import numpy as np\n",
    "import time\n",
    "from tqdm import tqdm\n",
    "from scipy.io import savemat, loadmat\n",
    "\n",
    "device = torch.device(\"cuda:0\" if torch.cuda.is_available() else \"cpu\")\n",
    "print(f\"Using device:\\t{device}\")\n"
   ]
  },
  {
   "cell_type": "code",
   "execution_count": 2,
   "id": "6ea48b78-7725-4165-ab3b-ce7f0bb7426a",
   "metadata": {},
   "outputs": [],
   "source": [
    "hyperdim = 5000 \n",
    "bandwidth_parameter = 3 # bandwidth parameter\n",
    "encoder_mode = 'shift_1d'\n",
    "classifier_mode=\"float_sgd\"\n",
    "epochs=10"
   ]
  },
  {
   "cell_type": "code",
   "execution_count": 3,
   "id": "9bf9d255-c697-4562-a6d9-08b16d5a4d35",
   "metadata": {},
   "outputs": [
    {
     "name": "stdout",
     "output_type": "stream",
     "text": [
      "10\n"
     ]
    }
   ],
   "source": [
    "class_names = np.array([\"0\", \"1\", \"2\", \"3\", \"4\", \"5\", \"6\", \"7\", \"8\", \"9\"])\n",
    "\n",
    "# load the MNIST training data\n",
    "train_data = datasets.FashionMNIST(\n",
    "    '../../Data',\n",
    "    train=True,\n",
    "    download=True,\n",
    "    transform=transforms.ToTensor(),\n",
    ")\n",
    "\n",
    "# Load the MNIST testing data\n",
    "test_data = datasets.FashionMNIST(\n",
    "    '../../Data',\n",
    "    train=False,\n",
    "    download=True,\n",
    "    transform=transforms.ToTensor(),\n",
    ")\n",
    "\n",
    "num_classes = len(class_names)\n",
    "print(num_classes)"
   ]
  },
  {
   "cell_type": "code",
   "execution_count": 4,
   "id": "3c6aff19-aba9-4053-bb29-2d7d04b43d23",
   "metadata": {},
   "outputs": [
    {
     "name": "stdout",
     "output_type": "stream",
     "text": [
      "lambda = 0.013442513532936573\n"
     ]
    },
    {
     "data": {
      "image/png": "[encoded data removed]",
      "text/plain": [
       "<Figure size 640x480 with 1 Axes>"
      ]
     },
     "metadata": {},
     "output_type": "display_data"
    }
   ],
   "source": [
    "# Determining Lambda from random 1000 samples\n",
    "batch_size = 1024\n",
    "num_colors = 256\n",
    "\n",
    "X,  _ = next(iter(DataLoader(train_data, batch_size=1000, shuffle=True)))\n",
    "X = X.reshape(X.shape[0],-1)\n",
    "\n",
    "D = torch.sum(torch.abs(X.unsqueeze(0)-X.unsqueeze(1)),dim=2)\n",
    "a = torch.median(D.flatten())\n",
    "lmd = bandwidth_parameter/a\n",
    "print(f\"lambda = {lmd}\")\n",
    "\n",
    "# Define the local kernel\n",
    "x = np.linspace(0, 1, num=num_colors).reshape(-1, 1)\n",
    "f = lambda X: 1 - lmd*X\n",
    "kernel = f(np.abs(x - x.T))\n",
    "\n",
    "# Visualize the global kernel\n",
    "d = train_data[0][0].squeeze().numel()\n",
    "S = lambda v: np.exp(-lmd*v)\n",
    "v = np.linspace(0, d)\n",
    "plt.plot(v, S(v))\n",
    "plt.title(f\"Kernel K for d={d} and num_colors = {num_colors}\")\n",
    "plt.show()"
   ]
  },
  {
   "cell_type": "code",
   "execution_count": 5,
   "id": "65ff1cea-17af-4584-9ef5-ffcfe3b3fc96",
   "metadata": {},
   "outputs": [
    {
     "name": "stdout",
     "output_type": "stream",
     "text": [
      "mode: shift_1d\n",
      "Hyperdimension: 5000\n"
     ]
    }
   ],
   "source": [
    "encoder = hdc_encoder(d, hyperdim, kernel, encoder_mode)\n",
    "print(f\"mode: {encoder_mode}\\nHyperdimension: {encoder.hyperdim}\")"
   ]
  },
  {
   "cell_type": "code",
   "execution_count": 6,
   "id": "400a620b-db2c-4732-b0c5-3161d8dcb571",
   "metadata": {},
   "outputs": [],
   "source": [
    "batch_size = 128\n",
    "train_loader = DataLoader(\n",
    "    train_data,\n",
    "    batch_size=batch_size,\n",
    "    shuffle=True\n",
    ")\n",
    "\n",
    "test_loader = DataLoader(\n",
    "    test_data,\n",
    "    batch_size=batch_size,\n",
    "    shuffle=False\n",
    ")"
   ]
  },
  {
   "cell_type": "code",
   "execution_count": 7,
   "id": "d5bf8a53-35f9-4866-98e1-bcb5c16128a2",
   "metadata": {},
   "outputs": [],
   "source": [
    "import torch\n",
    "from torch.utils.data import TensorDataset\n",
    "from typing import Optional   # ← add this\n",
    "\n",
    "@torch.no_grad()\n",
    "def flip_bits_bool(H: torch.BoolTensor,\n",
    "                   perc: float,\n",
    "                   *,\n",
    "                   inplace: bool = True,\n",
    "                   ) -> torch.BoolTensor:\n",
    "    \"\"\"\n",
    "    Flip exactly round(perc·D) bits in each row of a boolean tensor H.\n",
    "\n",
    "    Works on a flattened (M, D) view, then reshapes back to H’s shape.\n",
    "    \"\"\"\n",
    "    if perc <= 0.0:\n",
    "        return H if inplace else H.clone()\n",
    "\n",
    "    flat = H.view(H.shape[0], -1)        # (M, D)\n",
    "    M, D = flat.shape\n",
    "    k = int(round(perc * D))\n",
    "    if k == 0:\n",
    "        return H if inplace else H.clone()\n",
    "\n",
    "    out = flat if inplace else flat.clone()\n",
    "    rows = torch.arange(M, device=H.device).repeat_interleave(k)\n",
    "\n",
    "    cols = torch.cat([\n",
    "        torch.multinomial(torch.ones(D, device=H.device),\n",
    "                          k, replacement=False)\n",
    "        for _ in range(M)\n",
    "    ])\n",
    "\n",
    "    out[rows, cols] = ~out[rows, cols]   # toggle bits (True ↔ False)\n",
    "    return out.view_as(H)\n",
    "\n",
    "\n",
    "\n",
    "def corrupt_dataset(dataset: TensorDataset, perc: float):\n",
    "    \"\"\"\n",
    "    Return a new TensorDataset whose data tensor has been bit-flipped.\n",
    "    Labels are untouched.\n",
    "    \"\"\"\n",
    "    data, labels = dataset.tensors\n",
    "    data_flipped = flip_bits_bool(data.clone(), perc)\n",
    "    return TensorDataset(data_flipped, labels)\n"
   ]
  },
  {
   "cell_type": "code",
   "execution_count": 8,
   "id": "acfe5ad1-7957-431c-87b6-635498f5b915",
   "metadata": {},
   "outputs": [
    {
     "name": "stdout",
     "output_type": "stream",
     "text": [
      "Percentage: 0.0 Started --------------\n"
     ]
    },
    {
     "name": "stderr",
     "output_type": "stream",
     "text": [
      "100%|██████████| 10/10 [00:11<00:00,  1.12s/it]\n"
     ]
    },
    {
     "name": "stdout",
     "output_type": "stream",
     "text": [
      "Encoding Train Data and Training the Model for nHDC=25000 finished\n"
     ]
    },
    {
     "name": "stderr",
     "output_type": "stream",
     "text": [
      "100%|██████████| 20/20 [00:14<00:00,  1.38it/s]\n"
     ]
    },
    {
     "name": "stdout",
     "output_type": "stream",
     "text": [
      "Flip Percentage: 0.0 Finished. Average Accuracy over 20 splits: 0.8817\n",
      "Percentage: 0.05 Started --------------\n"
     ]
    },
    {
     "name": "stderr",
     "output_type": "stream",
     "text": [
      "100%|██████████| 10/10 [00:11<00:00,  1.13s/it]\n"
     ]
    },
    {
     "name": "stdout",
     "output_type": "stream",
     "text": [
      "Encoding Train Data and Training the Model for nHDC=25000 finished\n"
     ]
    },
    {
     "name": "stderr",
     "output_type": "stream",
     "text": [
      "100%|██████████| 20/20 [00:19<00:00,  1.04it/s]\n"
     ]
    },
    {
     "name": "stdout",
     "output_type": "stream",
     "text": [
      "Flip Percentage: 0.05 Finished. Average Accuracy over 20 splits: 0.8798999999999999\n",
      "Percentage: 0.1 Started --------------\n"
     ]
    },
    {
     "name": "stderr",
     "output_type": "stream",
     "text": [
      "100%|██████████| 10/10 [00:11<00:00,  1.11s/it]\n"
     ]
    },
    {
     "name": "stdout",
     "output_type": "stream",
     "text": [
      "Encoding Train Data and Training the Model for nHDC=25000 finished\n"
     ]
    },
    {
     "name": "stderr",
     "output_type": "stream",
     "text": [
      "100%|██████████| 20/20 [00:21<00:00,  1.06s/it]\n"
     ]
    },
    {
     "name": "stdout",
     "output_type": "stream",
     "text": [
      "Flip Percentage: 0.1 Finished. Average Accuracy over 20 splits: 0.8803000000000001\n",
      "Percentage: 0.15 Started --------------\n"
     ]
    },
    {
     "name": "stderr",
     "output_type": "stream",
     "text": [
      "100%|██████████| 10/10 [00:11<00:00,  1.10s/it]\n"
     ]
    },
    {
     "name": "stdout",
     "output_type": "stream",
     "text": [
      "Encoding Train Data and Training the Model for nHDC=25000 finished\n"
     ]
    },
    {
     "name": "stderr",
     "output_type": "stream",
     "text": [
      "100%|██████████| 20/20 [00:21<00:00,  1.08s/it]\n"
     ]
    },
    {
     "name": "stdout",
     "output_type": "stream",
     "text": [
      "Flip Percentage: 0.15 Finished. Average Accuracy over 20 splits: 0.8707\n",
      "Percentage: 0.2 Started --------------\n"
     ]
    },
    {
     "name": "stderr",
     "output_type": "stream",
     "text": [
      "100%|██████████| 10/10 [00:10<00:00,  1.08s/it]\n"
     ]
    },
    {
     "name": "stdout",
     "output_type": "stream",
     "text": [
      "Encoding Train Data and Training the Model for nHDC=25000 finished\n"
     ]
    },
    {
     "name": "stderr",
     "output_type": "stream",
     "text": [
      "100%|██████████| 20/20 [00:22<00:00,  1.14s/it]\n"
     ]
    },
    {
     "name": "stdout",
     "output_type": "stream",
     "text": [
      "Flip Percentage: 0.2 Finished. Average Accuracy over 20 splits: 0.869\n",
      "Percentage: 0.25 Started --------------\n"
     ]
    },
    {
     "name": "stderr",
     "output_type": "stream",
     "text": [
      "100%|██████████| 10/10 [00:11<00:00,  1.11s/it]\n"
     ]
    },
    {
     "name": "stdout",
     "output_type": "stream",
     "text": [
      "Encoding Train Data and Training the Model for nHDC=25000 finished\n"
     ]
    },
    {
     "name": "stderr",
     "output_type": "stream",
     "text": [
      "100%|██████████| 20/20 [00:26<00:00,  1.31s/it]\n"
     ]
    },
    {
     "name": "stdout",
     "output_type": "stream",
     "text": [
      "Flip Percentage: 0.25 Finished. Average Accuracy over 20 splits: 0.8558999999999999\n",
      "Percentage: 0.3 Started --------------\n"
     ]
    },
    {
     "name": "stderr",
     "output_type": "stream",
     "text": [
      "100%|██████████| 10/10 [00:11<00:00,  1.12s/it]\n"
     ]
    },
    {
     "name": "stdout",
     "output_type": "stream",
     "text": [
      "Encoding Train Data and Training the Model for nHDC=25000 finished\n"
     ]
    },
    {
     "name": "stderr",
     "output_type": "stream",
     "text": [
      "100%|██████████| 20/20 [00:24<00:00,  1.25s/it]\n"
     ]
    },
    {
     "name": "stdout",
     "output_type": "stream",
     "text": [
      "Flip Percentage: 0.3 Finished. Average Accuracy over 20 splits: 0.8351999999999998\n",
      "Percentage: 0.35 Started --------------\n"
     ]
    },
    {
     "name": "stderr",
     "output_type": "stream",
     "text": [
      "100%|██████████| 10/10 [00:11<00:00,  1.13s/it]\n"
     ]
    },
    {
     "name": "stdout",
     "output_type": "stream",
     "text": [
      "Encoding Train Data and Training the Model for nHDC=25000 finished\n"
     ]
    },
    {
     "name": "stderr",
     "output_type": "stream",
     "text": [
      "100%|██████████| 20/20 [00:26<00:00,  1.31s/it]\n"
     ]
    },
    {
     "name": "stdout",
     "output_type": "stream",
     "text": [
      "Flip Percentage: 0.35 Finished. Average Accuracy over 20 splits: 0.7974\n",
      "Percentage: 0.4 Started --------------\n"
     ]
    },
    {
     "name": "stderr",
     "output_type": "stream",
     "text": [
      "100%|██████████| 10/10 [00:11<00:00,  1.12s/it]\n"
     ]
    },
    {
     "name": "stdout",
     "output_type": "stream",
     "text": [
      "Encoding Train Data and Training the Model for nHDC=25000 finished\n"
     ]
    },
    {
     "name": "stderr",
     "output_type": "stream",
     "text": [
      "100%|██████████| 20/20 [00:28<00:00,  1.45s/it]\n"
     ]
    },
    {
     "name": "stdout",
     "output_type": "stream",
     "text": [
      "Flip Percentage: 0.4 Finished. Average Accuracy over 20 splits: 0.7249000000000001\n",
      "Percentage: 0.45 Started --------------\n"
     ]
    },
    {
     "name": "stderr",
     "output_type": "stream",
     "text": [
      "100%|██████████| 10/10 [00:10<00:00,  1.06s/it]\n"
     ]
    },
    {
     "name": "stdout",
     "output_type": "stream",
     "text": [
      "Encoding Train Data and Training the Model for nHDC=25000 finished\n"
     ]
    },
    {
     "name": "stderr",
     "output_type": "stream",
     "text": [
      "100%|██████████| 20/20 [00:27<00:00,  1.40s/it]\n"
     ]
    },
    {
     "name": "stdout",
     "output_type": "stream",
     "text": [
      "Flip Percentage: 0.45 Finished. Average Accuracy over 20 splits: 0.49260000000000004\n",
      "Percentage: 0.5 Started --------------\n"
     ]
    },
    {
     "name": "stderr",
     "output_type": "stream",
     "text": [
      "100%|██████████| 10/10 [00:11<00:00,  1.16s/it]\n"
     ]
    },
    {
     "name": "stdout",
     "output_type": "stream",
     "text": [
      "Encoding Train Data and Training the Model for nHDC=25000 finished\n"
     ]
    },
    {
     "name": "stderr",
     "output_type": "stream",
     "text": [
      "100%|██████████| 20/20 [00:30<00:00,  1.52s/it]"
     ]
    },
    {
     "name": "stdout",
     "output_type": "stream",
     "text": [
      "Flip Percentage: 0.5 Finished. Average Accuracy over 20 splits: 0.10540000000000002\n"
     ]
    },
    {
     "name": "stderr",
     "output_type": "stream",
     "text": [
      "\n"
     ]
    }
   ],
   "source": [
    "num_workers = 2\n",
    "pin_memory=True\n",
    "n_splits = 20\n",
    "split_size = len(test_data) // n_splits\n",
    "nHDC = 25_000\n",
    "flip_percs = np.arange(0.0, 0.51, 0.05)\n",
    "accuracies = np.zeros((len(flip_percs), n_splits))\n",
    "for i, perc in enumerate(flip_percs):\n",
    "    print(f'Percentage: {np.round(perc, 2)} Started --------------')\n",
    "    # Train\n",
    "    encoder = hdc_encoder(d, nHDC, kernel, encoder_mode)\n",
    "    train_hdc = encoder.encode(train_loader)\n",
    "    train_loader_hdc = DataLoader(\n",
    "        train_hdc,\n",
    "        batch_size=750,\n",
    "        shuffle=True,\n",
    "        num_workers=0,      # <-- no background workers\n",
    "        pin_memory=False    # <-- nothing to pin; data is on GPU\n",
    "    )\n",
    "    model = train_hdc_classifier(train_loader_hdc, num_classes, mode=classifier_mode, epochs=10)\n",
    "    print(f'Encoding Train Data and Training the Model for nHDC={nHDC} finished')\n",
    "    for split_idx in tqdm(range(n_splits)):\n",
    "        # Test\n",
    "        start_idx = split_idx * split_size\n",
    "        end_idx = start_idx + split_size\n",
    "        split_subset = Subset(test_data, range(start_idx, end_idx))\n",
    "        split_loader = DataLoader(\n",
    "            split_subset,\n",
    "            batch_size=128,\n",
    "            shuffle=False,\n",
    "            num_workers=num_workers,   # 2, as you set above\n",
    "            pin_memory=pin_memory      # True\n",
    "        )\n",
    "        split_hdc = encoder.encode(split_loader)\n",
    "        split_hdc = corrupt_dataset(split_hdc, perc=perc)\n",
    "        split_loader_hdc = DataLoader(\n",
    "            split_hdc,\n",
    "            batch_size=128,\n",
    "            shuffle=True,\n",
    "            num_workers=0,\n",
    "            pin_memory=False\n",
    "        )\n",
    "        accuracies[i, split_idx] = test_hdc_classifier(model, split_loader_hdc)\n",
    "    print(f'Flip Percentage: {np.round(perc, 2)} Finished. Average Accuracy over 20 splits: {np.mean(accuracies[i])}')\n"
   ]
  },
  {
   "cell_type": "code",
   "execution_count": 9,
   "id": "373483c4-8159-40e7-b654-50e237586e50",
   "metadata": {},
   "outputs": [
    {
     "data": {
      "text/plain": [
       "array([0.8817, 0.8799, 0.8803, 0.8707, 0.869 , 0.8559, 0.8352, 0.7974,\n",
       "       0.7249, 0.4926, 0.1054])"
      ]
     },
     "execution_count": 9,
     "metadata": {},
     "output_type": "execute_result"
    }
   ],
   "source": [
    "np.mean(accuracies, axis=1)"
   ]
  },
  {
   "cell_type": "code",
   "execution_count": 10,
   "id": "f475193f-4a67-429d-84b6-d895288769dd",
   "metadata": {},
   "outputs": [],
   "source": [
    "savemat('LaplaceHDC_FashionMNIST.mat', {'LaplaceHDC_FashionMNIST': accuracies*100})"
   ]
  },
  {
   "cell_type": "code",
   "execution_count": null,
   "id": "35424ef4-daa3-45c9-ba26-bf9da0428e95",
   "metadata": {},
   "outputs": [],
   "source": []
  }
 ],
 "metadata": {
  "kernelspec": {
   "display_name": "Python 3 (ipykernel)",
   "language": "python",
   "name": "python3"
  },
  "language_info": {
   "codemirror_mode": {
    "name": "ipython",
    "version": 3
   },
   "file_extension": ".py",
   "mimetype": "text/x-python",
   "name": "python",
   "nbconvert_exporter": "python",
   "pygments_lexer": "ipython3",
   "version": "3.9.21"
  }
 },
 "nbformat": 4,
 "nbformat_minor": 5
}
