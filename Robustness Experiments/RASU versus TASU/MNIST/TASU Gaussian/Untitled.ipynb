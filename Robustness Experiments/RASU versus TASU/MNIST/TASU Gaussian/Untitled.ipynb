{
 "cells": [
  {
   "cell_type": "code",
   "execution_count": 1,
   "id": "c04ec446-8d59-4a32-8de8-91824a163911",
   "metadata": {},
   "outputs": [],
   "source": [
    "import torch\n",
    "import numpy as np\n",
    "import torch.nn.functional as F\n",
    "from torch.func import vmap      # torch>=2.0"
   ]
  },
  {
   "cell_type": "code",
   "execution_count": 2,
   "id": "1aba7dcb-a6c8-434f-b689-a07168db79a0",
   "metadata": {},
   "outputs": [],
   "source": [
    "def init_hdc(ratio, seed, flip_perc=None):\n",
    "    try:\n",
    "        del self.alphag1\n",
    "        del self.g\n",
    "        del self.alpha1\n",
    "\n",
    "    except UnboundLocalError:\n",
    "        pass  # If 'g' was not defined, do nothing\n",
    "    except AttributeError:\n",
    "        pass  # Do nothing if the attribute does not exist\n",
    "\n",
    "    slope = self.bn.weight / torch.sqrt(self.bn.running_var + self.eps)\n",
    "    w_bn = self.conv.weight * slope.view(-1, 1, 1, 1)\n",
    "    w_bn = w_bn.unsqueeze(0)\n",
    "\n",
    "    n = w_bn.shape[1:].numel()\n",
    "    self.nHDC = int(self.custom_round(ratio * n)) if ratio<1000 else int(ratio)\n",
    "\n",
    "    torch.manual_seed(seed)\n",
    "    self.g = torch.randn(self.nHDC, *w_bn.shape[1:], device=w_bn.device, dtype=w_bn.dtype)\n",
    "    self.alpha1 = torch.sign((w_bn * self.g).sum(dim=(2, 3, 4), keepdim=True))\n",
    "    if flip_perc is not None and flip_perc > 0.0:\n",
    "        self.flip_sign_(self.alpha1, flip_perc)\n",
    "    \n",
    "    temp = (self.alpha1 * self.g)\n",
    "    self.size = temp.shape\n",
    "    self.alphag1 = temp.view(-1, *w_bn.shape[2:])\n",
    "\n",
    "\n",
    "def hdc(self, x):\n",
    "    B, C, H, W = x.shape\n",
    "\n",
    "    x = x + self.bias_trick_par\n",
    "    x_p = F.pad(x, (self.padding, self.padding, self.padding, self.padding), value=0)\n",
    "    \n",
    "    out = nn.functional.conv2d(x_p, self.alphag1, stride=self.stride, padding=0)\n",
    "    out = out.view(B, self.size[0], self.size[1], out.size(2), out.size(3))\n",
    "    \n",
    "    zhat = (torch.pi / (2 * self.nHDC)) * torch.sign(out).sum(dim=1)\n",
    "    return zhat"
   ]
  },
  {
   "cell_type": "code",
   "execution_count": 3,
   "id": "f9f1eec5-a2aa-4ef0-8e28-de2c942cc5c0",
   "metadata": {},
   "outputs": [
    {
     "name": "stdout",
     "output_type": "stream",
     "text": [
      "torch.Size([10, 3, 28, 28])\n"
     ]
    }
   ],
   "source": [
    "x = torch.randn((10, 3, 28, 28))\n",
    "print(x.shape)"
   ]
  },
  {
   "cell_type": "code",
   "execution_count": 4,
   "id": "97404c28-9a0b-4010-a80a-b38e90a791bb",
   "metadata": {},
   "outputs": [
    {
     "name": "stdout",
     "output_type": "stream",
     "text": [
      "torch.Size([1, 64, 3, 5, 5]) torch.Size([1000, 64, 3, 5, 5])\n"
     ]
    }
   ],
   "source": [
    "w = torch.randn((64, 3, 5, 5)).unsqueeze(0)\n",
    "nHDC = 1000\n",
    "G = torch.randn(1000, *w.shape[1:])\n",
    "print(w.shape, G.shape)"
   ]
  },
  {
   "cell_type": "code",
   "execution_count": 5,
   "id": "8bde27ae-3bde-4b18-a991-24c950d63ff0",
   "metadata": {},
   "outputs": [],
   "source": [
    "alpha1 = torch.sign((w * G).sum(dim=(2, 3, 4), keepdim=True))"
   ]
  },
  {
   "cell_type": "code",
   "execution_count": 6,
   "id": "9400b615-f02c-4072-956d-5ea9f885d711",
   "metadata": {},
   "outputs": [],
   "source": [
    "alphag1 = alpha1 * G\n",
    "size = alphag1.shape\n",
    "alphag1 = alphag1.view(-1, *w.shape[2:])\n",
    "x_p = torch.nn.functional.pad(x, (2, 2, 2, 2), value=0)\n",
    "out1 = torch.nn.functional.conv2d(x_p, alphag1, stride=1, padding=0)\n",
    "out1 = out1.view(x.shape[0], size[0], size[1], out1.size(2), out1.size(3))\n",
    "zhat1 = (torch.pi / (2 * nHDC)) * torch.sign(out1).sum(dim=1)"
   ]
  },
  {
   "cell_type": "code",
   "execution_count": 7,
   "id": "a27df194-7882-446f-90f7-c48c8b6ccca9",
   "metadata": {},
   "outputs": [
    {
     "name": "stdout",
     "output_type": "stream",
     "text": [
      "torch.Size([1000, 64, 3, 5, 5])\n",
      "torch.Size([1000, 10, 64, 28, 28])\n"
     ]
    },
    {
     "data": {
      "text/plain": [
       "tensor(0.)"
      ]
     },
     "execution_count": 7,
     "metadata": {},
     "output_type": "execute_result"
    }
   ],
   "source": [
    "def apply_one(weight):\n",
    "    # padded x (x_p) is captured from the outer scope; stride=1, padding=0 keeps 28×28\n",
    "    return F.conv2d(x_p, weight, padding=0)\n",
    "print(G.shape)\n",
    "gx = vmap(apply_one)(G)\n",
    "print(gx.shape)\n",
    "gx = torch.sign(gx)\n",
    "out2 = (gx.transpose(1, 2) * alpha1)\n",
    "zhat2 = out2.sum(dim=0) * (torch.pi / (2 * nHDC))\n",
    "zhat2 = zhat2.transpose(0, 1)\n",
    "torch.norm(zhat2 - zhat1) / torch.norm(zhat1)"
   ]
  },
  {
   "cell_type": "code",
   "execution_count": null,
   "id": "1f258022-9e2f-4ee6-aa12-08c2c5e30bc2",
   "metadata": {},
   "outputs": [],
   "source": []
  },
  {
   "cell_type": "code",
   "execution_count": null,
   "id": "a37186fd-3829-464b-8a01-7b10cf22d7b5",
   "metadata": {},
   "outputs": [],
   "source": []
  },
  {
   "cell_type": "code",
   "execution_count": null,
   "id": "da7a575e-93d8-4a4c-b6ee-374362f5588e",
   "metadata": {},
   "outputs": [],
   "source": []
  },
  {
   "cell_type": "code",
   "execution_count": null,
   "id": "4ed88945-e87f-4b9f-8232-fa2bd2b11dfc",
   "metadata": {},
   "outputs": [],
   "source": []
  },
  {
   "cell_type": "code",
   "execution_count": null,
   "id": "be2664b6-8fb7-4ee1-af65-f4db6f538dd5",
   "metadata": {},
   "outputs": [],
   "source": []
  }
 ],
 "metadata": {
  "kernelspec": {
   "display_name": "Python 3 (ipykernel)",
   "language": "python",
   "name": "python3"
  },
  "language_info": {
   "codemirror_mode": {
    "name": "ipython",
    "version": 3
   },
   "file_extension": ".py",
   "mimetype": "text/x-python",
   "name": "python",
   "nbconvert_exporter": "python",
   "pygments_lexer": "ipython3",
   "version": "3.9.21"
  }
 },
 "nbformat": 4,
 "nbformat_minor": 5
}
